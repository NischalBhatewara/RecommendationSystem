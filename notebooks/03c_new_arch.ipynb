{
 "cells": [
  {
   "cell_type": "code",
   "execution_count": 3,
   "metadata": {
    "collapsed": true,
    "deletable": true,
    "editable": true
   },
   "outputs": [],
   "source": [
    "import numpy as np\n",
    "import pandas as pd"
   ]
  },
  {
   "cell_type": "code",
   "execution_count": 4,
   "metadata": {
    "collapsed": true,
    "deletable": true,
    "editable": true
   },
   "outputs": [],
   "source": [
    "d1x = [163, 12, 23, 311, 44, 75, 82, 122, 219, 247, 5, 251, 118, 1774, 1]\n",
    "d1x = sorted(d1x)\n",
    "d2x = [227, 143, 32, 293, 137, 157, 151, 4, 14, 174, 1797, 2776, 2946, 550, 440]\n",
    "d2x = sorted(d2x)\n",
    "d3x = [3026, 2053, 1538, 242, 239, 238, 6, 162, 1069, 50, 59, 602, 780, 1633, 1805]\n",
    "d3x = sorted(d3x)\n",
    "d4x = [2165, 2918, 1198, 1655, 4449, 4795, 3702, 4417, 3698, 3117, 3556, 2362, 2160, 4322, 2364]\n",
    "d4x = sorted(d4x)"
   ]
  },
  {
   "cell_type": "code",
   "execution_count": 23,
   "metadata": {
    "collapsed": true,
    "deletable": true,
    "editable": true
   },
   "outputs": [],
   "source": [
    "d1y = d1x[1:]\n",
    "d1y.append(d1x[0])\n",
    "d2y = d2x[1:]\n",
    "d2y.append(d2x[0])\n",
    "d3y = d3x[1:]\n",
    "d3y.append(d3x[0])\n",
    "d4y = d4x[1:]\n",
    "d4y.append(d4x[0])"
   ]
  },
  {
   "cell_type": "code",
   "execution_count": 24,
   "metadata": {
    "collapsed": false,
    "deletable": true,
    "editable": true
   },
   "outputs": [
    {
     "data": {
      "text/plain": [
       "([1, 5, 12, 23, 44, 75, 82, 118, 122, 163, 219, 247, 251, 311, 1774],\n",
       " [5, 12, 23, 44, 75, 82, 118, 122, 163, 219, 247, 251, 311, 1774, 1])"
      ]
     },
     "execution_count": 24,
     "metadata": {},
     "output_type": "execute_result"
    }
   ],
   "source": [
    "d1x, d1y"
   ]
  },
  {
   "cell_type": "code",
   "execution_count": 25,
   "metadata": {
    "collapsed": false,
    "deletable": true,
    "editable": true
   },
   "outputs": [
    {
     "data": {
      "text/html": [
       "<div>\n",
       "<table border=\"1\" class=\"dataframe\">\n",
       "  <thead>\n",
       "    <tr style=\"text-align: right;\">\n",
       "      <th></th>\n",
       "      <th>x1</th>\n",
       "      <th>y1</th>\n",
       "      <th>x2</th>\n",
       "      <th>y2</th>\n",
       "      <th>x3</th>\n",
       "      <th>y3</th>\n",
       "      <th>x4</th>\n",
       "      <th>y4</th>\n",
       "    </tr>\n",
       "  </thead>\n",
       "  <tbody>\n",
       "  </tbody>\n",
       "</table>\n",
       "</div>"
      ],
      "text/plain": [
       "Empty DataFrame\n",
       "Columns: [x1, y1, x2, y2, x3, y3, x4, y4]\n",
       "Index: []"
      ]
     },
     "execution_count": 25,
     "metadata": {},
     "output_type": "execute_result"
    }
   ],
   "source": [
    "df = pd.DataFrame(columns=['x1', 'y1', 'x2', 'y2', 'x3', 'y3', 'x4', 'y4'])\n",
    "df"
   ]
  },
  {
   "cell_type": "code",
   "execution_count": 26,
   "metadata": {
    "collapsed": false,
    "deletable": true,
    "editable": true
   },
   "outputs": [
    {
     "data": {
      "text/html": [
       "<div>\n",
       "<table border=\"1\" class=\"dataframe\">\n",
       "  <thead>\n",
       "    <tr style=\"text-align: right;\">\n",
       "      <th></th>\n",
       "      <th>x1</th>\n",
       "      <th>y1</th>\n",
       "      <th>x2</th>\n",
       "      <th>y2</th>\n",
       "      <th>x3</th>\n",
       "      <th>y3</th>\n",
       "      <th>x4</th>\n",
       "      <th>y4</th>\n",
       "    </tr>\n",
       "  </thead>\n",
       "  <tbody>\n",
       "    <tr>\n",
       "      <th>0</th>\n",
       "      <td>1</td>\n",
       "      <td>5</td>\n",
       "      <td>4</td>\n",
       "      <td>14</td>\n",
       "      <td>6</td>\n",
       "      <td>50</td>\n",
       "      <td>1198</td>\n",
       "      <td>1655</td>\n",
       "    </tr>\n",
       "    <tr>\n",
       "      <th>1</th>\n",
       "      <td>5</td>\n",
       "      <td>12</td>\n",
       "      <td>14</td>\n",
       "      <td>32</td>\n",
       "      <td>50</td>\n",
       "      <td>59</td>\n",
       "      <td>1655</td>\n",
       "      <td>2160</td>\n",
       "    </tr>\n",
       "    <tr>\n",
       "      <th>2</th>\n",
       "      <td>12</td>\n",
       "      <td>23</td>\n",
       "      <td>32</td>\n",
       "      <td>137</td>\n",
       "      <td>59</td>\n",
       "      <td>162</td>\n",
       "      <td>2160</td>\n",
       "      <td>2165</td>\n",
       "    </tr>\n",
       "    <tr>\n",
       "      <th>3</th>\n",
       "      <td>23</td>\n",
       "      <td>44</td>\n",
       "      <td>137</td>\n",
       "      <td>143</td>\n",
       "      <td>162</td>\n",
       "      <td>238</td>\n",
       "      <td>2165</td>\n",
       "      <td>2362</td>\n",
       "    </tr>\n",
       "    <tr>\n",
       "      <th>4</th>\n",
       "      <td>44</td>\n",
       "      <td>75</td>\n",
       "      <td>143</td>\n",
       "      <td>151</td>\n",
       "      <td>238</td>\n",
       "      <td>239</td>\n",
       "      <td>2362</td>\n",
       "      <td>2364</td>\n",
       "    </tr>\n",
       "    <tr>\n",
       "      <th>5</th>\n",
       "      <td>75</td>\n",
       "      <td>82</td>\n",
       "      <td>151</td>\n",
       "      <td>157</td>\n",
       "      <td>239</td>\n",
       "      <td>242</td>\n",
       "      <td>2364</td>\n",
       "      <td>2918</td>\n",
       "    </tr>\n",
       "    <tr>\n",
       "      <th>6</th>\n",
       "      <td>82</td>\n",
       "      <td>118</td>\n",
       "      <td>157</td>\n",
       "      <td>174</td>\n",
       "      <td>242</td>\n",
       "      <td>602</td>\n",
       "      <td>2918</td>\n",
       "      <td>3117</td>\n",
       "    </tr>\n",
       "    <tr>\n",
       "      <th>7</th>\n",
       "      <td>118</td>\n",
       "      <td>122</td>\n",
       "      <td>174</td>\n",
       "      <td>227</td>\n",
       "      <td>602</td>\n",
       "      <td>780</td>\n",
       "      <td>3117</td>\n",
       "      <td>3556</td>\n",
       "    </tr>\n",
       "    <tr>\n",
       "      <th>8</th>\n",
       "      <td>122</td>\n",
       "      <td>163</td>\n",
       "      <td>227</td>\n",
       "      <td>293</td>\n",
       "      <td>780</td>\n",
       "      <td>1069</td>\n",
       "      <td>3556</td>\n",
       "      <td>3698</td>\n",
       "    </tr>\n",
       "    <tr>\n",
       "      <th>9</th>\n",
       "      <td>163</td>\n",
       "      <td>219</td>\n",
       "      <td>293</td>\n",
       "      <td>440</td>\n",
       "      <td>1069</td>\n",
       "      <td>1538</td>\n",
       "      <td>3698</td>\n",
       "      <td>3702</td>\n",
       "    </tr>\n",
       "    <tr>\n",
       "      <th>10</th>\n",
       "      <td>219</td>\n",
       "      <td>247</td>\n",
       "      <td>440</td>\n",
       "      <td>550</td>\n",
       "      <td>1538</td>\n",
       "      <td>1633</td>\n",
       "      <td>3702</td>\n",
       "      <td>4322</td>\n",
       "    </tr>\n",
       "    <tr>\n",
       "      <th>11</th>\n",
       "      <td>247</td>\n",
       "      <td>251</td>\n",
       "      <td>550</td>\n",
       "      <td>1797</td>\n",
       "      <td>1633</td>\n",
       "      <td>1805</td>\n",
       "      <td>4322</td>\n",
       "      <td>4417</td>\n",
       "    </tr>\n",
       "    <tr>\n",
       "      <th>12</th>\n",
       "      <td>251</td>\n",
       "      <td>311</td>\n",
       "      <td>1797</td>\n",
       "      <td>2776</td>\n",
       "      <td>1805</td>\n",
       "      <td>2053</td>\n",
       "      <td>4417</td>\n",
       "      <td>4449</td>\n",
       "    </tr>\n",
       "    <tr>\n",
       "      <th>13</th>\n",
       "      <td>311</td>\n",
       "      <td>1774</td>\n",
       "      <td>2776</td>\n",
       "      <td>2946</td>\n",
       "      <td>2053</td>\n",
       "      <td>3026</td>\n",
       "      <td>4449</td>\n",
       "      <td>4795</td>\n",
       "    </tr>\n",
       "    <tr>\n",
       "      <th>14</th>\n",
       "      <td>1774</td>\n",
       "      <td>1</td>\n",
       "      <td>2946</td>\n",
       "      <td>4</td>\n",
       "      <td>3026</td>\n",
       "      <td>6</td>\n",
       "      <td>4795</td>\n",
       "      <td>1198</td>\n",
       "    </tr>\n",
       "  </tbody>\n",
       "</table>\n",
       "</div>"
      ],
      "text/plain": [
       "      x1    y1    x2    y2    x3    y3    x4    y4\n",
       "0      1     5     4    14     6    50  1198  1655\n",
       "1      5    12    14    32    50    59  1655  2160\n",
       "2     12    23    32   137    59   162  2160  2165\n",
       "3     23    44   137   143   162   238  2165  2362\n",
       "4     44    75   143   151   238   239  2362  2364\n",
       "5     75    82   151   157   239   242  2364  2918\n",
       "6     82   118   157   174   242   602  2918  3117\n",
       "7    118   122   174   227   602   780  3117  3556\n",
       "8    122   163   227   293   780  1069  3556  3698\n",
       "9    163   219   293   440  1069  1538  3698  3702\n",
       "10   219   247   440   550  1538  1633  3702  4322\n",
       "11   247   251   550  1797  1633  1805  4322  4417\n",
       "12   251   311  1797  2776  1805  2053  4417  4449\n",
       "13   311  1774  2776  2946  2053  3026  4449  4795\n",
       "14  1774     1  2946     4  3026     6  4795  1198"
      ]
     },
     "execution_count": 26,
     "metadata": {},
     "output_type": "execute_result"
    }
   ],
   "source": [
    "df['x1'] = d1x\n",
    "df['x2'] = d2x\n",
    "df['x3'] = d3x\n",
    "df['x4'] = d4x\n",
    "df['y1'] = d1y\n",
    "df['y2'] = d2y\n",
    "df['y3'] = d3y\n",
    "df['y4'] = d4y\n",
    "df"
   ]
  },
  {
   "cell_type": "code",
   "execution_count": 27,
   "metadata": {
    "collapsed": true,
    "deletable": true,
    "editable": true
   },
   "outputs": [],
   "source": [
    "vals = df.values"
   ]
  },
  {
   "cell_type": "code",
   "execution_count": 28,
   "metadata": {
    "collapsed": false,
    "deletable": true,
    "editable": true
   },
   "outputs": [
    {
     "data": {
      "text/plain": [
       "array([[   1,    5,    4,   14,    6,   50, 1198, 1655],\n",
       "       [   5,   12,   14,   32,   50,   59, 1655, 2160],\n",
       "       [  12,   23,   32,  137,   59,  162, 2160, 2165],\n",
       "       [  23,   44,  137,  143,  162,  238, 2165, 2362],\n",
       "       [  44,   75,  143,  151,  238,  239, 2362, 2364],\n",
       "       [  75,   82,  151,  157,  239,  242, 2364, 2918],\n",
       "       [  82,  118,  157,  174,  242,  602, 2918, 3117],\n",
       "       [ 118,  122,  174,  227,  602,  780, 3117, 3556],\n",
       "       [ 122,  163,  227,  293,  780, 1069, 3556, 3698],\n",
       "       [ 163,  219,  293,  440, 1069, 1538, 3698, 3702],\n",
       "       [ 219,  247,  440,  550, 1538, 1633, 3702, 4322],\n",
       "       [ 247,  251,  550, 1797, 1633, 1805, 4322, 4417],\n",
       "       [ 251,  311, 1797, 2776, 1805, 2053, 4417, 4449],\n",
       "       [ 311, 1774, 2776, 2946, 2053, 3026, 4449, 4795],\n",
       "       [1774,    1, 2946,    4, 3026,    6, 4795, 1198]])"
      ]
     },
     "execution_count": 28,
     "metadata": {},
     "output_type": "execute_result"
    }
   ],
   "source": [
    "vals"
   ]
  },
  {
   "cell_type": "markdown",
   "metadata": {},
   "source": [
    "### TRAIN MODELS"
   ]
  },
  {
   "cell_type": "code",
   "execution_count": 10,
   "metadata": {
    "collapsed": false,
    "deletable": true,
    "editable": true
   },
   "outputs": [
    {
     "name": "stderr",
     "output_type": "stream",
     "text": [
      "Using TensorFlow backend.\n"
     ]
    }
   ],
   "source": [
    "from keras.models import Sequential\n",
    "from keras.layers import GRU, Dense"
   ]
  },
  {
   "cell_type": "code",
   "execution_count": 16,
   "metadata": {
    "collapsed": false,
    "deletable": true,
    "editable": true
   },
   "outputs": [
    {
     "data": {
      "text/plain": [
       "(array([[163],\n",
       "        [ 12],\n",
       "        [ 23],\n",
       "        [311],\n",
       "        [ 44],\n",
       "        [ 75],\n",
       "        [ 82],\n",
       "        [122],\n",
       "        [219],\n",
       "        [247],\n",
       "        [  5],\n",
       "        [251],\n",
       "        [118]]),\n",
       " array([ 12,  23, 311,  44,  75,  82, 122, 219, 247,   5, 251, 118, 163]))"
      ]
     },
     "execution_count": 16,
     "metadata": {},
     "output_type": "execute_result"
    }
   ],
   "source": [
    "X, y = vals[:-2, 0:1], vals[:-2, 1]\n",
    "y[-1] = X[0]\n",
    "X, y"
   ]
  },
  {
   "cell_type": "code",
   "execution_count": 12,
   "metadata": {
    "collapsed": false,
    "deletable": true,
    "editable": true
   },
   "outputs": [],
   "source": [
    "X = X.reshape(X.shape[0], 1, X.shape[1])"
   ]
  },
  {
   "cell_type": "code",
   "execution_count": 193,
   "metadata": {
    "collapsed": true,
    "deletable": true,
    "editable": true
   },
   "outputs": [],
   "source": [
    "model = Sequential()\n",
    "model.add(GRU(50, batch_input_shape=(1, X.shape[1], X.shape[2]), \n",
    "               stateful=True, return_sequences=True))\n",
    "model.add(GRU(100, stateful=True, return_sequences=True))\n",
    "model.add(GRU(300, stateful=True))\n",
    "model.add(Dense(1))"
   ]
  },
  {
   "cell_type": "code",
   "execution_count": 194,
   "metadata": {
    "collapsed": false,
    "deletable": true,
    "editable": true
   },
   "outputs": [
    {
     "name": "stdout",
     "output_type": "stream",
     "text": [
      "_________________________________________________________________\n",
      "Layer (type)                 Output Shape              Param #   \n",
      "=================================================================\n",
      "gru_31 (GRU)                 (1, 1, 50)                7800      \n",
      "_________________________________________________________________\n",
      "gru_32 (GRU)                 (1, 1, 100)               45300     \n",
      "_________________________________________________________________\n",
      "gru_33 (GRU)                 (1, 300)                  360900    \n",
      "_________________________________________________________________\n",
      "dense_11 (Dense)             (1, 1)                    301       \n",
      "=================================================================\n",
      "Total params: 414,301.0\n",
      "Trainable params: 414,301\n",
      "Non-trainable params: 0.0\n",
      "_________________________________________________________________\n"
     ]
    }
   ],
   "source": [
    "model.compile(loss='mse', optimizer='rmsprop')\n",
    "model.summary()"
   ]
  },
  {
   "cell_type": "code",
   "execution_count": 195,
   "metadata": {
    "collapsed": false,
    "deletable": true,
    "editable": true
   },
   "outputs": [
    {
     "name": "stdout",
     "output_type": "stream",
     "text": [
      "Cycle: 0, loss: 1582685.2397298177, loss_min: 1582685.2397298177\n",
      "Cycle: 50, loss: 1303220.6345367432, loss_min: 1303220.6345367432\n",
      "Cycle: 100, loss: 1082633.1359420142, loss_min: 1082633.1359420142\n",
      "Cycle: 150, loss: 903059.1271400452, loss_min: 903059.1271400452\n",
      "Cycle: 200, loss: 762053.6134784411, loss_min: 754157.0172612508\n",
      "Cycle: 250, loss: 629469.3301570893, loss_min: 627013.9824096679\n",
      "Cycle: 300, loss: 525076.1307022094, loss_min: 521936.9265340169\n",
      "Cycle: 350, loss: 433470.60383504233, loss_min: 433470.60383504233\n",
      "Cycle: 400, loss: 372397.8164492289, loss_min: 368241.62812779745\n",
      "Cycle: 450, loss: 325893.31360397337, loss_min: 311865.13269983925\n",
      "Cycle: 500, loss: 428549.7934407552, loss_min: 278762.2338892619\n",
      "Cycle: 550, loss: 234230.40344543458, loss_min: 234230.40344543458\n",
      "Cycle: 600, loss: 203744.51469432935, loss_min: 203744.51469432935\n",
      "Cycle: 650, loss: 180915.03402872087, loss_min: 180915.03402872087\n",
      "Cycle: 700, loss: 164895.29020166397, loss_min: 164895.29020166397\n",
      "Cycle: 750, loss: 151815.5100811412, loss_min: 151815.5100811412\n",
      "Cycle: 800, loss: 142454.26083482106, loss_min: 142454.26083482106\n",
      "Cycle: 850, loss: 118589.65784815252, loss_min: 118589.65784815252\n",
      "Cycle: 900, loss: 102389.4212576429, loss_min: 102389.4212576429\n",
      "Cycle: 950, loss: 92387.64519521793, loss_min: 92387.64519521793\n",
      "Cycle: 1000, loss: 83486.47200930913, loss_min: 83486.47200930913\n",
      "Cycle: 1050, loss: 75332.94261732201, loss_min: 75332.94261732201\n",
      "Cycle: 1100, loss: 68614.89207179943, loss_min: 68614.89207179943\n",
      "Cycle: 1150, loss: 99718.0775206407, loss_min: 62980.80323355297\n",
      "Cycle: 1200, loss: 58521.199754338464, loss_min: 58521.199754338464\n",
      "Cycle: 1250, loss: 53611.48421017726, loss_min: 53611.48421017726\n",
      "Cycle: 1300, loss: 48765.098692742984, loss_min: 48765.098692742984\n",
      "Cycle: 1350, loss: 44213.85717263222, loss_min: 44213.85717263222\n",
      "Cycle: 1400, loss: 39851.435203154884, loss_min: 39824.48743782043\n",
      "Cycle: 1450, loss: 35463.35193421046, loss_min: 35463.35193421046\n",
      "Cycle: 1500, loss: 31548.94471555973, loss_min: 31548.94471555973\n",
      "Cycle: 1550, loss: 27810.905791882924, loss_min: 27810.905791882924\n",
      "Cycle: 1600, loss: 32639.193240343033, loss_min: 24650.854916620254\n",
      "Cycle: 1650, loss: 34911.501407782234, loss_min: 22536.77860145271\n",
      "Cycle: 1700, loss: 232422.29581652244, loss_min: 20887.074236061177\n",
      "Cycle: 1750, loss: 172568.506493632, loss_min: 20887.074236061177\n",
      "Cycle: 1800, loss: 23062.572996012368, loss_min: 20887.074236061177\n",
      "Cycle: 1850, loss: 18063.321588261922, loss_min: 17756.258564503987\n",
      "Cycle: 1900, loss: 14560.88810428977, loss_min: 14560.88810428977\n",
      "Cycle: 1950, loss: 161194.32325765293, loss_min: 13481.985448503494\n",
      "Cycle: 2000, loss: 13066.015706984203, loss_min: 12926.477930954596\n",
      "Cycle: 2050, loss: 14504.5791557312, loss_min: 12079.482658227285\n",
      "Cycle: 2100, loss: 11907.379266119004, loss_min: 10614.841897074382\n",
      "Cycle: 2150, loss: 8431.731534004211, loss_min: 7869.778938770294\n",
      "Cycle: 2200, loss: 6106.923232188821, loss_min: 6106.923232188821\n",
      "Cycle: 2250, loss: 4115.8900595068935, loss_min: 4115.8900595068935\n",
      "Cycle: 2300, loss: 2820.1696545004843, loss_min: 2820.1696545004843\n",
      "Cycle: 2350, loss: 1951.5688053087797, loss_min: 1947.7415075302124\n",
      "Cycle: 2400, loss: 1336.6449890057245, loss_min: 1336.6449890057245\n",
      "Cycle: 2450, loss: 713.2387241363525, loss_min: 713.2387241363525\n",
      "Cycle: 2500, loss: 385.1519394805034, loss_min: 356.8655269443989\n",
      "Cycle: 2550, loss: 122.10324966112772, loss_min: 111.28343594868979\n",
      "Cycle: 2600, loss: 28.504921412467958, loss_min: 28.504921412467958\n",
      "Cycle: 2650, loss: 30.8989435394605, loss_min: 16.65661576986313\n",
      "Cycle: 2700, loss: 574.8430575092633, loss_min: 12.971367957136438\n",
      "Cycle: 2750, loss: 22.431451070308686, loss_min: 12.971367957136438\n",
      "Cycle: 2800, loss: 30.085132098694643, loss_min: 12.971367957136438\n"
     ]
    },
    {
     "ename": "KeyboardInterrupt",
     "evalue": "",
     "output_type": "error",
     "traceback": [
      "\u001b[0;31m---------------------------------------------------------------------------\u001b[0m",
      "\u001b[0;31mKeyboardInterrupt\u001b[0m                         Traceback (most recent call last)",
      "\u001b[0;32m<ipython-input-195-cbf99092cdef>\u001b[0m in \u001b[0;36m<module>\u001b[0;34m()\u001b[0m\n\u001b[1;32m      1\u001b[0m \u001b[0mloss_min\u001b[0m \u001b[0;34m=\u001b[0m \u001b[0;36m10e10\u001b[0m\u001b[0;34m\u001b[0m\u001b[0m\n\u001b[1;32m      2\u001b[0m \u001b[0;32mfor\u001b[0m \u001b[0mi\u001b[0m \u001b[0;32min\u001b[0m \u001b[0mrange\u001b[0m\u001b[0;34m(\u001b[0m\u001b[0;36m5000\u001b[0m\u001b[0;34m)\u001b[0m\u001b[0;34m:\u001b[0m\u001b[0;34m\u001b[0m\u001b[0m\n\u001b[0;32m----> 3\u001b[0;31m     \u001b[0mh\u001b[0m \u001b[0;34m=\u001b[0m \u001b[0mmodel\u001b[0m\u001b[0;34m.\u001b[0m\u001b[0mfit\u001b[0m\u001b[0;34m(\u001b[0m\u001b[0mX\u001b[0m\u001b[0;34m,\u001b[0m \u001b[0my\u001b[0m\u001b[0;34m,\u001b[0m \u001b[0mepochs\u001b[0m\u001b[0;34m=\u001b[0m\u001b[0;36m1\u001b[0m\u001b[0;34m,\u001b[0m \u001b[0mbatch_size\u001b[0m\u001b[0;34m=\u001b[0m\u001b[0;36m1\u001b[0m\u001b[0;34m,\u001b[0m \u001b[0mverbose\u001b[0m\u001b[0;34m=\u001b[0m\u001b[0;36m0\u001b[0m\u001b[0;34m,\u001b[0m \u001b[0mshuffle\u001b[0m\u001b[0;34m=\u001b[0m\u001b[0;32mFalse\u001b[0m\u001b[0;34m)\u001b[0m\u001b[0;34m\u001b[0m\u001b[0m\n\u001b[0m\u001b[1;32m      4\u001b[0m     \u001b[0mmodel\u001b[0m\u001b[0;34m.\u001b[0m\u001b[0mreset_states\u001b[0m\u001b[0;34m(\u001b[0m\u001b[0;34m)\u001b[0m\u001b[0;34m\u001b[0m\u001b[0m\n\u001b[1;32m      5\u001b[0m     \u001b[0mloss\u001b[0m \u001b[0;34m=\u001b[0m \u001b[0mh\u001b[0m\u001b[0;34m.\u001b[0m\u001b[0mhistory\u001b[0m\u001b[0;34m[\u001b[0m\u001b[0;34m'loss'\u001b[0m\u001b[0;34m]\u001b[0m\u001b[0;34m[\u001b[0m\u001b[0;36m0\u001b[0m\u001b[0;34m]\u001b[0m\u001b[0;34m\u001b[0m\u001b[0m\n",
      "\u001b[0;32m/home/nischal/anaconda3/lib/python3.6/site-packages/keras/models.py\u001b[0m in \u001b[0;36mfit\u001b[0;34m(self, x, y, batch_size, epochs, verbose, callbacks, validation_split, validation_data, shuffle, class_weight, sample_weight, initial_epoch, **kwargs)\u001b[0m\n\u001b[1;32m    843\u001b[0m                               \u001b[0mclass_weight\u001b[0m\u001b[0;34m=\u001b[0m\u001b[0mclass_weight\u001b[0m\u001b[0;34m,\u001b[0m\u001b[0;34m\u001b[0m\u001b[0m\n\u001b[1;32m    844\u001b[0m                               \u001b[0msample_weight\u001b[0m\u001b[0;34m=\u001b[0m\u001b[0msample_weight\u001b[0m\u001b[0;34m,\u001b[0m\u001b[0;34m\u001b[0m\u001b[0m\n\u001b[0;32m--> 845\u001b[0;31m                               initial_epoch=initial_epoch)\n\u001b[0m\u001b[1;32m    846\u001b[0m \u001b[0;34m\u001b[0m\u001b[0m\n\u001b[1;32m    847\u001b[0m     def evaluate(self, x, y, batch_size=32, verbose=1,\n",
      "\u001b[0;32m/home/nischal/anaconda3/lib/python3.6/site-packages/keras/engine/training.py\u001b[0m in \u001b[0;36mfit\u001b[0;34m(self, x, y, batch_size, epochs, verbose, callbacks, validation_split, validation_data, shuffle, class_weight, sample_weight, initial_epoch, **kwargs)\u001b[0m\n\u001b[1;32m   1483\u001b[0m                               \u001b[0mval_f\u001b[0m\u001b[0;34m=\u001b[0m\u001b[0mval_f\u001b[0m\u001b[0;34m,\u001b[0m \u001b[0mval_ins\u001b[0m\u001b[0;34m=\u001b[0m\u001b[0mval_ins\u001b[0m\u001b[0;34m,\u001b[0m \u001b[0mshuffle\u001b[0m\u001b[0;34m=\u001b[0m\u001b[0mshuffle\u001b[0m\u001b[0;34m,\u001b[0m\u001b[0;34m\u001b[0m\u001b[0m\n\u001b[1;32m   1484\u001b[0m                               \u001b[0mcallback_metrics\u001b[0m\u001b[0;34m=\u001b[0m\u001b[0mcallback_metrics\u001b[0m\u001b[0;34m,\u001b[0m\u001b[0;34m\u001b[0m\u001b[0m\n\u001b[0;32m-> 1485\u001b[0;31m                               initial_epoch=initial_epoch)\n\u001b[0m\u001b[1;32m   1486\u001b[0m \u001b[0;34m\u001b[0m\u001b[0m\n\u001b[1;32m   1487\u001b[0m     \u001b[0;32mdef\u001b[0m \u001b[0mevaluate\u001b[0m\u001b[0;34m(\u001b[0m\u001b[0mself\u001b[0m\u001b[0;34m,\u001b[0m \u001b[0mx\u001b[0m\u001b[0;34m,\u001b[0m \u001b[0my\u001b[0m\u001b[0;34m,\u001b[0m \u001b[0mbatch_size\u001b[0m\u001b[0;34m=\u001b[0m\u001b[0;36m32\u001b[0m\u001b[0;34m,\u001b[0m \u001b[0mverbose\u001b[0m\u001b[0;34m=\u001b[0m\u001b[0;36m1\u001b[0m\u001b[0;34m,\u001b[0m \u001b[0msample_weight\u001b[0m\u001b[0;34m=\u001b[0m\u001b[0;32mNone\u001b[0m\u001b[0;34m)\u001b[0m\u001b[0;34m:\u001b[0m\u001b[0;34m\u001b[0m\u001b[0m\n",
      "\u001b[0;32m/home/nischal/anaconda3/lib/python3.6/site-packages/keras/engine/training.py\u001b[0m in \u001b[0;36m_fit_loop\u001b[0;34m(self, f, ins, out_labels, batch_size, epochs, verbose, callbacks, val_f, val_ins, shuffle, callback_metrics, initial_epoch)\u001b[0m\n\u001b[1;32m   1138\u001b[0m                 \u001b[0mbatch_logs\u001b[0m\u001b[0;34m[\u001b[0m\u001b[0;34m'size'\u001b[0m\u001b[0;34m]\u001b[0m \u001b[0;34m=\u001b[0m \u001b[0mlen\u001b[0m\u001b[0;34m(\u001b[0m\u001b[0mbatch_ids\u001b[0m\u001b[0;34m)\u001b[0m\u001b[0;34m\u001b[0m\u001b[0m\n\u001b[1;32m   1139\u001b[0m                 \u001b[0mcallbacks\u001b[0m\u001b[0;34m.\u001b[0m\u001b[0mon_batch_begin\u001b[0m\u001b[0;34m(\u001b[0m\u001b[0mbatch_index\u001b[0m\u001b[0;34m,\u001b[0m \u001b[0mbatch_logs\u001b[0m\u001b[0;34m)\u001b[0m\u001b[0;34m\u001b[0m\u001b[0m\n\u001b[0;32m-> 1140\u001b[0;31m                 \u001b[0mouts\u001b[0m \u001b[0;34m=\u001b[0m \u001b[0mf\u001b[0m\u001b[0;34m(\u001b[0m\u001b[0mins_batch\u001b[0m\u001b[0;34m)\u001b[0m\u001b[0;34m\u001b[0m\u001b[0m\n\u001b[0m\u001b[1;32m   1141\u001b[0m                 \u001b[0;32mif\u001b[0m \u001b[0;32mnot\u001b[0m \u001b[0misinstance\u001b[0m\u001b[0;34m(\u001b[0m\u001b[0mouts\u001b[0m\u001b[0;34m,\u001b[0m \u001b[0mlist\u001b[0m\u001b[0;34m)\u001b[0m\u001b[0;34m:\u001b[0m\u001b[0;34m\u001b[0m\u001b[0m\n\u001b[1;32m   1142\u001b[0m                     \u001b[0mouts\u001b[0m \u001b[0;34m=\u001b[0m \u001b[0;34m[\u001b[0m\u001b[0mouts\u001b[0m\u001b[0;34m]\u001b[0m\u001b[0;34m\u001b[0m\u001b[0m\n",
      "\u001b[0;32m/home/nischal/anaconda3/lib/python3.6/site-packages/keras/backend/tensorflow_backend.py\u001b[0m in \u001b[0;36m__call__\u001b[0;34m(self, inputs)\u001b[0m\n\u001b[1;32m   2071\u001b[0m         \u001b[0msession\u001b[0m \u001b[0;34m=\u001b[0m \u001b[0mget_session\u001b[0m\u001b[0;34m(\u001b[0m\u001b[0;34m)\u001b[0m\u001b[0;34m\u001b[0m\u001b[0m\n\u001b[1;32m   2072\u001b[0m         updated = session.run(self.outputs + [self.updates_op],\n\u001b[0;32m-> 2073\u001b[0;31m                               feed_dict=feed_dict)\n\u001b[0m\u001b[1;32m   2074\u001b[0m         \u001b[0;32mreturn\u001b[0m \u001b[0mupdated\u001b[0m\u001b[0;34m[\u001b[0m\u001b[0;34m:\u001b[0m\u001b[0mlen\u001b[0m\u001b[0;34m(\u001b[0m\u001b[0mself\u001b[0m\u001b[0;34m.\u001b[0m\u001b[0moutputs\u001b[0m\u001b[0;34m)\u001b[0m\u001b[0;34m]\u001b[0m\u001b[0;34m\u001b[0m\u001b[0m\n\u001b[1;32m   2075\u001b[0m \u001b[0;34m\u001b[0m\u001b[0m\n",
      "\u001b[0;32m/home/nischal/anaconda3/lib/python3.6/site-packages/tensorflow/python/client/session.py\u001b[0m in \u001b[0;36mrun\u001b[0;34m(self, fetches, feed_dict, options, run_metadata)\u001b[0m\n\u001b[1;32m    765\u001b[0m     \u001b[0;32mtry\u001b[0m\u001b[0;34m:\u001b[0m\u001b[0;34m\u001b[0m\u001b[0m\n\u001b[1;32m    766\u001b[0m       result = self._run(None, fetches, feed_dict, options_ptr,\n\u001b[0;32m--> 767\u001b[0;31m                          run_metadata_ptr)\n\u001b[0m\u001b[1;32m    768\u001b[0m       \u001b[0;32mif\u001b[0m \u001b[0mrun_metadata\u001b[0m\u001b[0;34m:\u001b[0m\u001b[0;34m\u001b[0m\u001b[0m\n\u001b[1;32m    769\u001b[0m         \u001b[0mproto_data\u001b[0m \u001b[0;34m=\u001b[0m \u001b[0mtf_session\u001b[0m\u001b[0;34m.\u001b[0m\u001b[0mTF_GetBuffer\u001b[0m\u001b[0;34m(\u001b[0m\u001b[0mrun_metadata_ptr\u001b[0m\u001b[0;34m)\u001b[0m\u001b[0;34m\u001b[0m\u001b[0m\n",
      "\u001b[0;32m/home/nischal/anaconda3/lib/python3.6/site-packages/tensorflow/python/client/session.py\u001b[0m in \u001b[0;36m_run\u001b[0;34m(self, handle, fetches, feed_dict, options, run_metadata)\u001b[0m\n\u001b[1;32m    963\u001b[0m     \u001b[0;32mif\u001b[0m \u001b[0mfinal_fetches\u001b[0m \u001b[0;32mor\u001b[0m \u001b[0mfinal_targets\u001b[0m\u001b[0;34m:\u001b[0m\u001b[0;34m\u001b[0m\u001b[0m\n\u001b[1;32m    964\u001b[0m       results = self._do_run(handle, final_targets, final_fetches,\n\u001b[0;32m--> 965\u001b[0;31m                              feed_dict_string, options, run_metadata)\n\u001b[0m\u001b[1;32m    966\u001b[0m     \u001b[0;32melse\u001b[0m\u001b[0;34m:\u001b[0m\u001b[0;34m\u001b[0m\u001b[0m\n\u001b[1;32m    967\u001b[0m       \u001b[0mresults\u001b[0m \u001b[0;34m=\u001b[0m \u001b[0;34m[\u001b[0m\u001b[0;34m]\u001b[0m\u001b[0;34m\u001b[0m\u001b[0m\n",
      "\u001b[0;32m/home/nischal/anaconda3/lib/python3.6/site-packages/tensorflow/python/client/session.py\u001b[0m in \u001b[0;36m_do_run\u001b[0;34m(self, handle, target_list, fetch_list, feed_dict, options, run_metadata)\u001b[0m\n\u001b[1;32m   1013\u001b[0m     \u001b[0;32mif\u001b[0m \u001b[0mhandle\u001b[0m \u001b[0;32mis\u001b[0m \u001b[0;32mNone\u001b[0m\u001b[0;34m:\u001b[0m\u001b[0;34m\u001b[0m\u001b[0m\n\u001b[1;32m   1014\u001b[0m       return self._do_call(_run_fn, self._session, feed_dict, fetch_list,\n\u001b[0;32m-> 1015\u001b[0;31m                            target_list, options, run_metadata)\n\u001b[0m\u001b[1;32m   1016\u001b[0m     \u001b[0;32melse\u001b[0m\u001b[0;34m:\u001b[0m\u001b[0;34m\u001b[0m\u001b[0m\n\u001b[1;32m   1017\u001b[0m       return self._do_call(_prun_fn, self._session, handle, feed_dict,\n",
      "\u001b[0;32m/home/nischal/anaconda3/lib/python3.6/site-packages/tensorflow/python/client/session.py\u001b[0m in \u001b[0;36m_do_call\u001b[0;34m(self, fn, *args)\u001b[0m\n\u001b[1;32m   1020\u001b[0m   \u001b[0;32mdef\u001b[0m \u001b[0m_do_call\u001b[0m\u001b[0;34m(\u001b[0m\u001b[0mself\u001b[0m\u001b[0;34m,\u001b[0m \u001b[0mfn\u001b[0m\u001b[0;34m,\u001b[0m \u001b[0;34m*\u001b[0m\u001b[0margs\u001b[0m\u001b[0;34m)\u001b[0m\u001b[0;34m:\u001b[0m\u001b[0;34m\u001b[0m\u001b[0m\n\u001b[1;32m   1021\u001b[0m     \u001b[0;32mtry\u001b[0m\u001b[0;34m:\u001b[0m\u001b[0;34m\u001b[0m\u001b[0m\n\u001b[0;32m-> 1022\u001b[0;31m       \u001b[0;32mreturn\u001b[0m \u001b[0mfn\u001b[0m\u001b[0;34m(\u001b[0m\u001b[0;34m*\u001b[0m\u001b[0margs\u001b[0m\u001b[0;34m)\u001b[0m\u001b[0;34m\u001b[0m\u001b[0m\n\u001b[0m\u001b[1;32m   1023\u001b[0m     \u001b[0;32mexcept\u001b[0m \u001b[0merrors\u001b[0m\u001b[0;34m.\u001b[0m\u001b[0mOpError\u001b[0m \u001b[0;32mas\u001b[0m \u001b[0me\u001b[0m\u001b[0;34m:\u001b[0m\u001b[0;34m\u001b[0m\u001b[0m\n\u001b[1;32m   1024\u001b[0m       \u001b[0mmessage\u001b[0m \u001b[0;34m=\u001b[0m \u001b[0mcompat\u001b[0m\u001b[0;34m.\u001b[0m\u001b[0mas_text\u001b[0m\u001b[0;34m(\u001b[0m\u001b[0me\u001b[0m\u001b[0;34m.\u001b[0m\u001b[0mmessage\u001b[0m\u001b[0;34m)\u001b[0m\u001b[0;34m\u001b[0m\u001b[0m\n",
      "\u001b[0;32m/home/nischal/anaconda3/lib/python3.6/site-packages/tensorflow/python/client/session.py\u001b[0m in \u001b[0;36m_run_fn\u001b[0;34m(session, feed_dict, fetch_list, target_list, options, run_metadata)\u001b[0m\n\u001b[1;32m   1002\u001b[0m         return tf_session.TF_Run(session, options,\n\u001b[1;32m   1003\u001b[0m                                  \u001b[0mfeed_dict\u001b[0m\u001b[0;34m,\u001b[0m \u001b[0mfetch_list\u001b[0m\u001b[0;34m,\u001b[0m \u001b[0mtarget_list\u001b[0m\u001b[0;34m,\u001b[0m\u001b[0;34m\u001b[0m\u001b[0m\n\u001b[0;32m-> 1004\u001b[0;31m                                  status, run_metadata)\n\u001b[0m\u001b[1;32m   1005\u001b[0m \u001b[0;34m\u001b[0m\u001b[0m\n\u001b[1;32m   1006\u001b[0m     \u001b[0;32mdef\u001b[0m \u001b[0m_prun_fn\u001b[0m\u001b[0;34m(\u001b[0m\u001b[0msession\u001b[0m\u001b[0;34m,\u001b[0m \u001b[0mhandle\u001b[0m\u001b[0;34m,\u001b[0m \u001b[0mfeed_dict\u001b[0m\u001b[0;34m,\u001b[0m \u001b[0mfetch_list\u001b[0m\u001b[0;34m)\u001b[0m\u001b[0;34m:\u001b[0m\u001b[0;34m\u001b[0m\u001b[0m\n",
      "\u001b[0;31mKeyboardInterrupt\u001b[0m: "
     ]
    }
   ],
   "source": [
    "loss_min = 10e10\n",
    "for i in range(5000):\n",
    "    h = model.fit(X, y, epochs=1, batch_size=1, verbose=0, shuffle=False)\n",
    "    model.reset_states()\n",
    "    loss = h.history['loss'][0]\n",
    "    if loss < loss_min:\n",
    "        loss_min = loss\n",
    "        model.save(\"../models/03c_d4_model\")\n",
    "    if i % 50 == 0:\n",
    "        print(\"Cycle: {}, loss: {}, loss_min: {}\".format(i, loss, loss_min))"
   ]
  },
  {
   "cell_type": "markdown",
   "metadata": {
    "collapsed": true,
    "deletable": true,
    "editable": true
   },
   "source": [
    "## Test"
   ]
  },
  {
   "cell_type": "code",
   "execution_count": 13,
   "metadata": {
    "collapsed": true,
    "deletable": true,
    "editable": true
   },
   "outputs": [],
   "source": [
    "from keras.models import load_model"
   ]
  },
  {
   "cell_type": "code",
   "execution_count": 14,
   "metadata": {
    "collapsed": true,
    "deletable": true,
    "editable": true
   },
   "outputs": [],
   "source": [
    "m1 = load_model(\"../models/03c_d1_model\")"
   ]
  },
  {
   "cell_type": "code",
   "execution_count": 19,
   "metadata": {
    "collapsed": false,
    "deletable": true,
    "editable": true
   },
   "outputs": [
    {
     "data": {
      "text/html": [
       "<div>\n",
       "<table border=\"1\" class=\"dataframe\">\n",
       "  <thead>\n",
       "    <tr style=\"text-align: right;\">\n",
       "      <th></th>\n",
       "      <th>x1</th>\n",
       "      <th>y1</th>\n",
       "    </tr>\n",
       "  </thead>\n",
       "  <tbody>\n",
       "    <tr>\n",
       "      <th>0</th>\n",
       "      <td>163</td>\n",
       "      <td>12</td>\n",
       "    </tr>\n",
       "    <tr>\n",
       "      <th>1</th>\n",
       "      <td>12</td>\n",
       "      <td>23</td>\n",
       "    </tr>\n",
       "    <tr>\n",
       "      <th>2</th>\n",
       "      <td>23</td>\n",
       "      <td>311</td>\n",
       "    </tr>\n",
       "    <tr>\n",
       "      <th>3</th>\n",
       "      <td>311</td>\n",
       "      <td>44</td>\n",
       "    </tr>\n",
       "    <tr>\n",
       "      <th>4</th>\n",
       "      <td>44</td>\n",
       "      <td>75</td>\n",
       "    </tr>\n",
       "    <tr>\n",
       "      <th>5</th>\n",
       "      <td>75</td>\n",
       "      <td>82</td>\n",
       "    </tr>\n",
       "    <tr>\n",
       "      <th>6</th>\n",
       "      <td>82</td>\n",
       "      <td>122</td>\n",
       "    </tr>\n",
       "    <tr>\n",
       "      <th>7</th>\n",
       "      <td>122</td>\n",
       "      <td>219</td>\n",
       "    </tr>\n",
       "    <tr>\n",
       "      <th>8</th>\n",
       "      <td>219</td>\n",
       "      <td>247</td>\n",
       "    </tr>\n",
       "    <tr>\n",
       "      <th>9</th>\n",
       "      <td>247</td>\n",
       "      <td>5</td>\n",
       "    </tr>\n",
       "    <tr>\n",
       "      <th>10</th>\n",
       "      <td>5</td>\n",
       "      <td>251</td>\n",
       "    </tr>\n",
       "    <tr>\n",
       "      <th>11</th>\n",
       "      <td>251</td>\n",
       "      <td>118</td>\n",
       "    </tr>\n",
       "    <tr>\n",
       "      <th>12</th>\n",
       "      <td>118</td>\n",
       "      <td>163</td>\n",
       "    </tr>\n",
       "    <tr>\n",
       "      <th>13</th>\n",
       "      <td>1774</td>\n",
       "      <td>1</td>\n",
       "    </tr>\n",
       "    <tr>\n",
       "      <th>14</th>\n",
       "      <td>1</td>\n",
       "      <td>163</td>\n",
       "    </tr>\n",
       "  </tbody>\n",
       "</table>\n",
       "</div>"
      ],
      "text/plain": [
       "      x1   y1\n",
       "0    163   12\n",
       "1     12   23\n",
       "2     23  311\n",
       "3    311   44\n",
       "4     44   75\n",
       "5     75   82\n",
       "6     82  122\n",
       "7    122  219\n",
       "8    219  247\n",
       "9    247    5\n",
       "10     5  251\n",
       "11   251  118\n",
       "12   118  163\n",
       "13  1774    1\n",
       "14     1  163"
      ]
     },
     "execution_count": 19,
     "metadata": {},
     "output_type": "execute_result"
    }
   ],
   "source": [
    "df.iloc[:, 0:2]"
   ]
  },
  {
   "cell_type": "code",
   "execution_count": 25,
   "metadata": {
    "collapsed": false,
    "deletable": true,
    "editable": true
   },
   "outputs": [
    {
     "data": {
      "text/plain": [
       "array([[ 311.38845825]], dtype=float32)"
      ]
     },
     "execution_count": 25,
     "metadata": {},
     "output_type": "execute_result"
    }
   ],
   "source": [
    "m1.predict(np.reshape(23, (1, 1, 1)), batch_size=1)"
   ]
  },
  {
   "cell_type": "markdown",
   "metadata": {
    "collapsed": true,
    "deletable": true,
    "editable": true
   },
   "source": [
    "### LOAD MODELS"
   ]
  },
  {
   "cell_type": "code",
   "execution_count": 1,
   "metadata": {
    "collapsed": true
   },
   "outputs": [],
   "source": [
    "from keras.models import load_model"
   ]
  },
  {
   "cell_type": "code",
   "execution_count": 29,
   "metadata": {
    "collapsed": false
   },
   "outputs": [
    {
     "data": {
      "text/html": [
       "<div>\n",
       "<table border=\"1\" class=\"dataframe\">\n",
       "  <thead>\n",
       "    <tr style=\"text-align: right;\">\n",
       "      <th></th>\n",
       "      <th>x1</th>\n",
       "      <th>y1</th>\n",
       "      <th>x2</th>\n",
       "      <th>y2</th>\n",
       "      <th>x3</th>\n",
       "      <th>y3</th>\n",
       "      <th>x4</th>\n",
       "      <th>y4</th>\n",
       "    </tr>\n",
       "  </thead>\n",
       "  <tbody>\n",
       "    <tr>\n",
       "      <th>0</th>\n",
       "      <td>1</td>\n",
       "      <td>5</td>\n",
       "      <td>4</td>\n",
       "      <td>14</td>\n",
       "      <td>6</td>\n",
       "      <td>50</td>\n",
       "      <td>1198</td>\n",
       "      <td>1655</td>\n",
       "    </tr>\n",
       "    <tr>\n",
       "      <th>1</th>\n",
       "      <td>5</td>\n",
       "      <td>12</td>\n",
       "      <td>14</td>\n",
       "      <td>32</td>\n",
       "      <td>50</td>\n",
       "      <td>59</td>\n",
       "      <td>1655</td>\n",
       "      <td>2160</td>\n",
       "    </tr>\n",
       "    <tr>\n",
       "      <th>2</th>\n",
       "      <td>12</td>\n",
       "      <td>23</td>\n",
       "      <td>32</td>\n",
       "      <td>137</td>\n",
       "      <td>59</td>\n",
       "      <td>162</td>\n",
       "      <td>2160</td>\n",
       "      <td>2165</td>\n",
       "    </tr>\n",
       "    <tr>\n",
       "      <th>3</th>\n",
       "      <td>23</td>\n",
       "      <td>44</td>\n",
       "      <td>137</td>\n",
       "      <td>143</td>\n",
       "      <td>162</td>\n",
       "      <td>238</td>\n",
       "      <td>2165</td>\n",
       "      <td>2362</td>\n",
       "    </tr>\n",
       "    <tr>\n",
       "      <th>4</th>\n",
       "      <td>44</td>\n",
       "      <td>75</td>\n",
       "      <td>143</td>\n",
       "      <td>151</td>\n",
       "      <td>238</td>\n",
       "      <td>239</td>\n",
       "      <td>2362</td>\n",
       "      <td>2364</td>\n",
       "    </tr>\n",
       "    <tr>\n",
       "      <th>5</th>\n",
       "      <td>75</td>\n",
       "      <td>82</td>\n",
       "      <td>151</td>\n",
       "      <td>157</td>\n",
       "      <td>239</td>\n",
       "      <td>242</td>\n",
       "      <td>2364</td>\n",
       "      <td>2918</td>\n",
       "    </tr>\n",
       "    <tr>\n",
       "      <th>6</th>\n",
       "      <td>82</td>\n",
       "      <td>118</td>\n",
       "      <td>157</td>\n",
       "      <td>174</td>\n",
       "      <td>242</td>\n",
       "      <td>602</td>\n",
       "      <td>2918</td>\n",
       "      <td>3117</td>\n",
       "    </tr>\n",
       "    <tr>\n",
       "      <th>7</th>\n",
       "      <td>118</td>\n",
       "      <td>122</td>\n",
       "      <td>174</td>\n",
       "      <td>227</td>\n",
       "      <td>602</td>\n",
       "      <td>780</td>\n",
       "      <td>3117</td>\n",
       "      <td>3556</td>\n",
       "    </tr>\n",
       "    <tr>\n",
       "      <th>8</th>\n",
       "      <td>122</td>\n",
       "      <td>163</td>\n",
       "      <td>227</td>\n",
       "      <td>293</td>\n",
       "      <td>780</td>\n",
       "      <td>1069</td>\n",
       "      <td>3556</td>\n",
       "      <td>3698</td>\n",
       "    </tr>\n",
       "    <tr>\n",
       "      <th>9</th>\n",
       "      <td>163</td>\n",
       "      <td>219</td>\n",
       "      <td>293</td>\n",
       "      <td>440</td>\n",
       "      <td>1069</td>\n",
       "      <td>1538</td>\n",
       "      <td>3698</td>\n",
       "      <td>3702</td>\n",
       "    </tr>\n",
       "    <tr>\n",
       "      <th>10</th>\n",
       "      <td>219</td>\n",
       "      <td>247</td>\n",
       "      <td>440</td>\n",
       "      <td>550</td>\n",
       "      <td>1538</td>\n",
       "      <td>1633</td>\n",
       "      <td>3702</td>\n",
       "      <td>4322</td>\n",
       "    </tr>\n",
       "    <tr>\n",
       "      <th>11</th>\n",
       "      <td>247</td>\n",
       "      <td>251</td>\n",
       "      <td>550</td>\n",
       "      <td>1797</td>\n",
       "      <td>1633</td>\n",
       "      <td>1805</td>\n",
       "      <td>4322</td>\n",
       "      <td>4417</td>\n",
       "    </tr>\n",
       "    <tr>\n",
       "      <th>12</th>\n",
       "      <td>251</td>\n",
       "      <td>311</td>\n",
       "      <td>1797</td>\n",
       "      <td>2776</td>\n",
       "      <td>1805</td>\n",
       "      <td>2053</td>\n",
       "      <td>4417</td>\n",
       "      <td>4449</td>\n",
       "    </tr>\n",
       "    <tr>\n",
       "      <th>13</th>\n",
       "      <td>311</td>\n",
       "      <td>1774</td>\n",
       "      <td>2776</td>\n",
       "      <td>2946</td>\n",
       "      <td>2053</td>\n",
       "      <td>3026</td>\n",
       "      <td>4449</td>\n",
       "      <td>4795</td>\n",
       "    </tr>\n",
       "    <tr>\n",
       "      <th>14</th>\n",
       "      <td>1774</td>\n",
       "      <td>1</td>\n",
       "      <td>2946</td>\n",
       "      <td>4</td>\n",
       "      <td>3026</td>\n",
       "      <td>6</td>\n",
       "      <td>4795</td>\n",
       "      <td>1198</td>\n",
       "    </tr>\n",
       "  </tbody>\n",
       "</table>\n",
       "</div>"
      ],
      "text/plain": [
       "      x1    y1    x2    y2    x3    y3    x4    y4\n",
       "0      1     5     4    14     6    50  1198  1655\n",
       "1      5    12    14    32    50    59  1655  2160\n",
       "2     12    23    32   137    59   162  2160  2165\n",
       "3     23    44   137   143   162   238  2165  2362\n",
       "4     44    75   143   151   238   239  2362  2364\n",
       "5     75    82   151   157   239   242  2364  2918\n",
       "6     82   118   157   174   242   602  2918  3117\n",
       "7    118   122   174   227   602   780  3117  3556\n",
       "8    122   163   227   293   780  1069  3556  3698\n",
       "9    163   219   293   440  1069  1538  3698  3702\n",
       "10   219   247   440   550  1538  1633  3702  4322\n",
       "11   247   251   550  1797  1633  1805  4322  4417\n",
       "12   251   311  1797  2776  1805  2053  4417  4449\n",
       "13   311  1774  2776  2946  2053  3026  4449  4795\n",
       "14  1774     1  2946     4  3026     6  4795  1198"
      ]
     },
     "execution_count": 29,
     "metadata": {},
     "output_type": "execute_result"
    }
   ],
   "source": [
    "df"
   ]
  },
  {
   "cell_type": "code",
   "execution_count": 20,
   "metadata": {
    "collapsed": true
   },
   "outputs": [],
   "source": [
    "model = load_model(\"../models/03c_d4_model\")"
   ]
  },
  {
   "cell_type": "code",
   "execution_count": 21,
   "metadata": {
    "collapsed": false
   },
   "outputs": [],
   "source": [
    "X = vals[:, 6:7]\n",
    "X = X.reshape(X.shape[0], 1, X.shape[1])"
   ]
  },
  {
   "cell_type": "code",
   "execution_count": 22,
   "metadata": {
    "collapsed": false
   },
   "outputs": [
    {
     "data": {
      "text/plain": [
       "array([[   39.16074753],\n",
       "       [   50.76086044],\n",
       "       [  153.58381653],\n",
       "       [  228.06234741],\n",
       "       [  233.17044067],\n",
       "       [  234.96853638],\n",
       "       [  592.26434326],\n",
       "       [  775.08575439],\n",
       "       [ 1063.83825684],\n",
       "       [ 1193.49316406],\n",
       "       [ 1629.94421387],\n",
       "       [ 1799.92687988],\n",
       "       [ 2053.73486328],\n",
       "       [ 3026.74414062],\n",
       "       [ 1200.4942627 ]], dtype=float32)"
      ]
     },
     "execution_count": 22,
     "metadata": {},
     "output_type": "execute_result"
    }
   ],
   "source": [
    "model.predict(X, batch_size=1)"
   ]
  },
  {
   "cell_type": "code",
   "execution_count": null,
   "metadata": {
    "collapsed": true
   },
   "outputs": [],
   "source": []
  }
 ],
 "metadata": {
  "kernelspec": {
   "display_name": "Python 3",
   "language": "python",
   "name": "python3"
  },
  "language_info": {
   "codemirror_mode": {
    "name": "ipython",
    "version": 3
   },
   "file_extension": ".py",
   "mimetype": "text/x-python",
   "name": "python",
   "nbconvert_exporter": "python",
   "pygments_lexer": "ipython3",
   "version": "3.6.0"
  }
 },
 "nbformat": 4,
 "nbformat_minor": 2
}
