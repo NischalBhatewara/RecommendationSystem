{
 "cells": [
  {
   "cell_type": "code",
   "execution_count": 1,
   "metadata": {
    "collapsed": true,
    "deletable": true,
    "editable": true
   },
   "outputs": [],
   "source": [
    "import numpy as np\n",
    "import pandas as pd"
   ]
  },
  {
   "cell_type": "code",
   "execution_count": 2,
   "metadata": {
    "collapsed": true,
    "deletable": true,
    "editable": true
   },
   "outputs": [],
   "source": [
    "# [163, 12, 23, 311, 44, 75, 82, 122, 219, 247, 5, 251, 118, 1774, 1]\n",
    "# [440, 2946, 227, 143, 550, 32, 293, 137, 157, 151, 4, 14, 174, 1797, 2776]\n",
    "# [3026, 2053, 1538, 242, 239, 238, 6, 162, 1069, 50, 59, 602, 780, 1633, 1805]\n",
    "# [2165, 2918, 1198, 1655, 4449, 4795, 3702, 4417, 3698, 3117, 3556, 2362, 2160, 4322, 2364]"
   ]
  },
  {
   "cell_type": "code",
   "execution_count": 3,
   "metadata": {
    "collapsed": true,
    "deletable": true,
    "editable": true
   },
   "outputs": [],
   "source": [
    "d1x = [163, 12, 23, 311, 44, 75, 82, 122, 219, 247, 5, 251, 118, 1774, 1]\n",
    "d1x = sorted(d1x)\n",
    "d2x = [440, 2946, 227, 143, 550, 32, 293, 137, 157, 151, 4, 14, 174, 1797, 2776]\n",
    "d2x = sorted(d2x)\n",
    "\n",
    "d3x = [3026, 2053, 1538, 242, 239, 238, 6, 162, 1069, 50, 59, 602, 780, 1633, 1805]\n",
    "d3x = sorted(d3x)\n",
    "\n",
    "d4x = [2165, 2918, 1198, 1655, 4449, 4795, 3702, 4417, 3698, 3117, 3556, 2362, 2160, 4322, 2364]\n",
    "d4x = sorted(d4x)\n"
   ]
  },
  {
   "cell_type": "code",
   "execution_count": 4,
   "metadata": {
    "collapsed": false,
    "deletable": true,
    "editable": true
   },
   "outputs": [],
   "source": [
    "d1y = d1x[1:]\n",
    "d1y.append(d1x[0])\n",
    "d2y = d2x[1:]\n",
    "d2y.append(d2x[0])\n",
    "d3y = d3x[1:]\n",
    "d3y.append(d3x[0])\n",
    "d4y = d3x[1:]\n",
    "d4y.append(d4x[0])"
   ]
  },
  {
   "cell_type": "code",
   "execution_count": 5,
   "metadata": {
    "collapsed": false,
    "deletable": true,
    "editable": true
   },
   "outputs": [],
   "source": [
    "d1x = np.reshape(d1x, (15, 1, 1))\n",
    "d2x = np.reshape(d2x, (15, 1, 1))\n",
    "d3x = np.reshape(d3x, (15, 1, 1))\n",
    "d4x = np.reshape(d4x, (15, 1, 1))"
   ]
  },
  {
   "cell_type": "code",
   "execution_count": 6,
   "metadata": {
    "collapsed": false,
    "deletable": true,
    "editable": true
   },
   "outputs": [
    {
     "name": "stderr",
     "output_type": "stream",
     "text": [
      "Using TensorFlow backend.\n"
     ]
    }
   ],
   "source": [
    "from keras.models import Sequential\n",
    "from keras.layers import GRU, Dense, Dropout"
   ]
  },
  {
   "cell_type": "code",
   "execution_count": 7,
   "metadata": {
    "collapsed": true,
    "deletable": true,
    "editable": true
   },
   "outputs": [],
   "source": [
    "eps = 100\n",
    "print_at = 10"
   ]
  },
  {
   "cell_type": "markdown",
   "metadata": {
    "deletable": true,
    "editable": true
   },
   "source": [
    "## Single GRU cell"
   ]
  },
  {
   "cell_type": "code",
   "execution_count": 9,
   "metadata": {
    "collapsed": false,
    "deletable": true,
    "editable": true
   },
   "outputs": [],
   "source": [
    "single_gru = Sequential()\n",
    "single_gru.add(GRU(10, batch_input_shape=(1, d1x.shape[1], d1x.shape[2]), stateful=True))\n",
    "single_gru.add(Dense(1))\n",
    "single_gru.compile(loss='mse', optimizer='rmsprop')"
   ]
  },
  {
   "cell_type": "code",
   "execution_count": 10,
   "metadata": {
    "collapsed": false,
    "deletable": true,
    "editable": true
   },
   "outputs": [
    {
     "name": "stdout",
     "output_type": "stream",
     "text": [
      "_________________________________________________________________\n",
      "Layer (type)                 Output Shape              Param #   \n",
      "=================================================================\n",
      "gru_1 (GRU)                  (1, 10)                   360       \n",
      "_________________________________________________________________\n",
      "dense_1 (Dense)              (1, 1)                    11        \n",
      "=================================================================\n",
      "Total params: 371.0\n",
      "Trainable params: 371\n",
      "Non-trainable params: 0.0\n",
      "_________________________________________________________________\n"
     ]
    }
   ],
   "source": [
    "single_gru.summary()"
   ]
  },
  {
   "cell_type": "code",
   "execution_count": 18,
   "metadata": {
    "collapsed": false,
    "deletable": true,
    "editable": true
   },
   "outputs": [
    {
     "name": "stdout",
     "output_type": "stream",
     "text": [
      "Epoch: 0, losses: 203813.41504433553, 1264954.4630696615, 1467459.4498575847, 1176502.323309326\n",
      "Epoch: 10, losses: 194337.12125752767, 1226413.2885782877, 1412358.637858073, 1125439.0245279947\n",
      "Epoch: 20, losses: 187574.6580830892, 1192376.6299054145, 1362784.3241943358, 1079651.5951863606\n",
      "Epoch: 30, losses: 183115.48260523478, 1162406.6234417597, 1318282.8969558715, 1038689.8321172078\n",
      "Epoch: 40, losses: 180512.46595458983, 1135936.0150309245, 1278382.5754882812, 1002106.3163167317\n",
      "Epoch: 50, losses: 178526.8133082072, 1110946.8596867085, 1241770.0554774667, 968879.027049764\n",
      "Epoch: 60, losses: 175885.58066272736, 1089331.5888997396, 1208109.7219618282, 938477.9734135945\n",
      "Epoch: 70, losses: 174289.6667561849, 1070192.5568603515, 1176639.6878914386, 911041.7903727214\n",
      "Epoch: 80, losses: 173993.92042312623, 1096717.4734466553, 1144567.0365109206, 885455.4004394531\n",
      "Epoch: 90, losses: 171722.4172651291, 1039858.2409464518, 1116193.5980852444, 861278.8502929688\n"
     ]
    }
   ],
   "source": [
    "for i in range(eps + 1):\n",
    "    sgh_d1 = single_gru.fit(d1x, d1y, batch_size=1, verbose=0, shuffle=False, epochs=1)\n",
    "    single_gru.reset_states()\n",
    "    sgh_d2 = single_gru.fit(d2x, d2y, batch_size=1, verbose=0, shuffle=False)\n",
    "    single_gru.reset_states()\n",
    "    sgh_d3 = single_gru.fit(d3x, d3y, batch_size=1, verbose=0, shuffle=False)\n",
    "    single_gru.reset_states()\n",
    "    sgh_d4 = single_gru.fit(d4x, d4y, batch_size=1, verbose=0, shuffle=False)\n",
    "    single_gru.reset_states()\n",
    "    if i % print_at == 0:\n",
    "        print(\"Epoch: {}, losses: {}, {}, {}, {}\".format(i, sgh_d1.history['loss'][-1], \n",
    "                                                         sgh_d2.history['loss'][-1], \n",
    "                                                         sgh_d3.history['loss'][-1], \n",
    "                                                         sgh_d4.history['loss'][-1]))"
   ]
  },
  {
   "cell_type": "code",
   "execution_count": 48,
   "metadata": {
    "collapsed": true,
    "deletable": true,
    "editable": true
   },
   "outputs": [],
   "source": [
    "single_gru.save_weights(\"../models/single_gru\")"
   ]
  },
  {
   "cell_type": "markdown",
   "metadata": {
    "deletable": true,
    "editable": true
   },
   "source": [
    "## 50 GRU cells"
   ]
  },
  {
   "cell_type": "code",
   "execution_count": 30,
   "metadata": {
    "collapsed": false,
    "deletable": true,
    "editable": true
   },
   "outputs": [
    {
     "name": "stdout",
     "output_type": "stream",
     "text": [
      "_________________________________________________________________\n",
      "Layer (type)                 Output Shape              Param #   \n",
      "=================================================================\n",
      "gru_2 (GRU)                  (1, 50)                   7800      \n",
      "_________________________________________________________________\n",
      "dense_2 (Dense)              (1, 1)                    51        \n",
      "=================================================================\n",
      "Total params: 7,851.0\n",
      "Trainable params: 7,851\n",
      "Non-trainable params: 0.0\n",
      "_________________________________________________________________\n"
     ]
    }
   ],
   "source": [
    "_50_gru = Sequential()\n",
    "_50_gru.add(GRU(50, batch_input_shape=(1, d1x.shape[1], d1x.shape[2]), stateful=True))\n",
    "_50_gru.add(Dense(1))\n",
    "_50_gru.compile(loss='mse', optimizer='rmsprop')\n",
    "_50_gru.summary()"
   ]
  },
  {
   "cell_type": "code",
   "execution_count": 32,
   "metadata": {
    "collapsed": false,
    "deletable": true,
    "editable": true
   },
   "outputs": [
    {
     "name": "stdout",
     "output_type": "stream",
     "text": [
      "Epoch: 0, losses: 218673.06007029215, 1319962.3375724792, 1545230.229445394, 1256292.4416646322\n",
      "Epoch: 10, losses: 212412.85485140482, 1299781.5649658204, 1516182.2707038561, 1230681.34997228\n",
      "Epoch: 20, losses: 206899.81344451904, 1281541.7552164714, 1490375.5893781027, 1209072.1835810025\n",
      "Epoch: 30, losses: 201977.77552642822, 1264580.895296224, 1465799.1035542807, 1188309.1961471557\n",
      "Epoch: 40, losses: 197613.27056274415, 1248572.367171224, 1442180.8325520833, 1168298.7858113607\n",
      "Epoch: 50, losses: 193783.89377492268, 1233000.5987386068, 1419497.799576823, 1149026.2990885417\n",
      "Epoch: 60, losses: 190465.37631196977, 1218172.1490346272, 1397720.9051595053, 1130469.408951823\n",
      "Epoch: 70, losses: 187724.04072062174, 1204052.724130551, 1376787.9092936197, 1112603.2538492838\n",
      "Epoch: 80, losses: 185330.64754740396, 1189851.176606687, 1356729.0122512816, 1095409.069506836\n",
      "Epoch: 90, losses: 182857.13179623286, 1178789.8444722493, 1337465.9313036918, 1078843.5079386393\n",
      "Epoch: 100, losses: 180522.4602589925, 1166676.4108235042, 1318924.6194792748, 1062861.432102712\n"
     ]
    }
   ],
   "source": [
    "for i in range(eps + 1):\n",
    "    _50g_d1 = _50_gru.fit(d1x, d1y, batch_size=1, verbose=0, shuffle=False, epochs=1)\n",
    "    _50_gru.reset_states()\n",
    "    _50g_d2 = _50_gru.fit(d2x, d2y, batch_size=1, verbose=0, shuffle=False, epochs=1)\n",
    "    _50_gru.reset_states()\n",
    "    _50g_d3 = _50_gru.fit(d3x, d3y, batch_size=1, verbose=0, shuffle=False, epochs=1)\n",
    "    _50_gru.reset_states()\n",
    "    _50g_d4 = _50_gru.fit(d4x, d4y, batch_size=1, verbose=0, shuffle=False, epochs=1)\n",
    "    _50_gru.reset_states()\n",
    "    if i % print_at == 0:\n",
    "        print(\"Epoch: {}, losses: {}, {}, {}, {}\".format(i, _50g_d1.history['loss'][-1], \n",
    "                                                         _50g_d2.history['loss'][-1], \n",
    "                                                         _50g_d3.history['loss'][-1], \n",
    "                                                         _50g_d4.history['loss'][-1]))"
   ]
  },
  {
   "cell_type": "code",
   "execution_count": 49,
   "metadata": {
    "collapsed": true,
    "deletable": true,
    "editable": true
   },
   "outputs": [],
   "source": [
    "_50_gru.save_weights(\"../models/_50_gru\")"
   ]
  },
  {
   "cell_type": "markdown",
   "metadata": {
    "deletable": true,
    "editable": true
   },
   "source": [
    "## 50 GRU, stateful"
   ]
  },
  {
   "cell_type": "code",
   "execution_count": 42,
   "metadata": {
    "collapsed": false,
    "deletable": true,
    "editable": true
   },
   "outputs": [
    {
     "name": "stdout",
     "output_type": "stream",
     "text": [
      "_________________________________________________________________\n",
      "Layer (type)                 Output Shape              Param #   \n",
      "=================================================================\n",
      "gru_11 (GRU)                 (1, 50)                   7800      \n",
      "_________________________________________________________________\n",
      "dense_8 (Dense)              (1, 1)                    51        \n",
      "=================================================================\n",
      "Total params: 7,851.0\n",
      "Trainable params: 7,851\n",
      "Non-trainable params: 0.0\n",
      "_________________________________________________________________\n"
     ]
    }
   ],
   "source": [
    "_50_gru_stateful = Sequential()\n",
    "_50_gru_stateful.add(GRU(50, batch_input_shape=(1, d1x.shape[1], d1x.shape[2]), stateful=True))\n",
    "_50_gru_stateful.add(Dense(1))\n",
    "_50_gru_stateful.compile(loss='mse', optimizer='rmsprop')\n",
    "_50_gru_stateful.summary()"
   ]
  },
  {
   "cell_type": "code",
   "execution_count": 43,
   "metadata": {
    "collapsed": false,
    "deletable": true,
    "editable": true
   },
   "outputs": [
    {
     "name": "stdout",
     "output_type": "stream",
     "text": [
      "Epoch: 0, losses: 231744.25676333904, 1354791.704703935, 1593848.0842070899, 1296385.5587382636\n",
      "Epoch: 10, losses: 223083.42795960107, 1333166.328859202, 1562855.549282837, 1273121.3160364786\n",
      "Epoch: 20, losses: 216593.375176239, 1313466.2482736686, 1535589.0225402832, 1249964.2363505044\n",
      "Epoch: 30, losses: 210729.95552062988, 1295226.786739095, 1509891.48293101, 1229396.7435635885\n",
      "Epoch: 40, losses: 205446.3465227763, 1278100.343733724, 1485302.5986750284, 1209529.659232712\n",
      "Epoch: 50, losses: 200731.1900089423, 1261878.2052734375, 1461702.2427856445, 1190341.2707158406\n",
      "Epoch: 60, losses: 196549.0761271159, 1246496.4229410808, 1439036.5634928385, 1171814.7629699707\n",
      "Epoch: 70, losses: 192850.0830702464, 1231721.2338867188, 1417280.0056477864, 1153937.3376139323\n",
      "Epoch: 80, losses: 189481.93547185263, 1217660.8460789998, 1396396.869205729, 1136684.619938151\n",
      "Epoch: 90, losses: 186357.6944437663, 1203874.321473821, 1376411.8061360677, 1120024.0727376302\n",
      "Epoch: 100, losses: 183602.9598195394, 1191651.5550163905, 1358190.096759542, 1103927.794954427\n"
     ]
    }
   ],
   "source": [
    "for i in range(eps + 1):\n",
    "    _50gs_d1 = _50_gru_stateful.fit(d1x, d1y, batch_size=1, verbose=0, shuffle=False, epochs=1)\n",
    "    _50_gru_stateful.reset_states()\n",
    "    _50gs_d2 = _50_gru_stateful.fit(d2x, d2y, batch_size=1, verbose=0, shuffle=False, epochs=1)\n",
    "    _50_gru_stateful.reset_states()\n",
    "    _50gs_d3 = _50_gru_stateful.fit(d3x, d3y, batch_size=1, verbose=0, shuffle=False, epochs=1)\n",
    "    _50_gru_stateful.reset_states()\n",
    "    _50gs_d4 = _50_gru_stateful.fit(d4x, d4y, batch_size=1, verbose=0, shuffle=False, epochs=1)\n",
    "    _50_gru_stateful.reset_states()\n",
    "    if i % print_at == 0:\n",
    "        print(\"Epoch: {}, losses: {}, {}, {}, {}\".format(i, _50gs_d1.history['loss'][-1], \n",
    "                                                         _50gs_d2.history['loss'][-1], \n",
    "                                                         _50gs_d3.history['loss'][-1], \n",
    "                                                         _50gs_d4.history['loss'][-1]))"
   ]
  },
  {
   "cell_type": "code",
   "execution_count": 50,
   "metadata": {
    "collapsed": true,
    "deletable": true,
    "editable": true
   },
   "outputs": [],
   "source": [
    "_50_gru_stateful.save_weights(\"../models/_50_gru_stateful\")"
   ]
  },
  {
   "cell_type": "markdown",
   "metadata": {
    "deletable": true,
    "editable": true
   },
   "source": [
    "## 100 GRU hidden layer"
   ]
  },
  {
   "cell_type": "code",
   "execution_count": 40,
   "metadata": {
    "collapsed": false,
    "deletable": true,
    "editable": true
   },
   "outputs": [
    {
     "name": "stdout",
     "output_type": "stream",
     "text": [
      "_________________________________________________________________\n",
      "Layer (type)                 Output Shape              Param #   \n",
      "=================================================================\n",
      "gru_9 (GRU)                  (1, 1, 50)                7800      \n",
      "_________________________________________________________________\n",
      "gru_10 (GRU)                 (1, 100)                  45300     \n",
      "_________________________________________________________________\n",
      "dense_7 (Dense)              (1, 1)                    101       \n",
      "=================================================================\n",
      "Total params: 53,201.0\n",
      "Trainable params: 53,201\n",
      "Non-trainable params: 0.0\n",
      "_________________________________________________________________\n"
     ]
    }
   ],
   "source": [
    "hidden_gru = Sequential()\n",
    "hidden_gru.add(GRU(50, batch_input_shape=(1, d1x.shape[1], d1x.shape[2]), stateful=True, return_sequences=True))\n",
    "hidden_gru.add(GRU(100, stateful=True))\n",
    "hidden_gru.add(Dense(1))\n",
    "hidden_gru.compile(loss='mse', optimizer='rmsprop')\n",
    "hidden_gru.summary()"
   ]
  },
  {
   "cell_type": "code",
   "execution_count": 41,
   "metadata": {
    "collapsed": false,
    "deletable": true,
    "editable": true
   },
   "outputs": [
    {
     "name": "stdout",
     "output_type": "stream",
     "text": [
      "Epoch: 0, losses: 228337.72277437846, 1344408.9899444103, 1576071.4018178305, 1277553.1327285767\n",
      "Epoch: 10, losses: 212804.05720214843, 1297012.4731363931, 1512555.4174050451, 1218538.0096040478\n",
      "Epoch: 20, losses: 201860.00043876967, 1257913.662174479, 1457516.8341064453, 1167399.5321126303\n",
      "Epoch: 30, losses: 193390.50244750976, 1222600.265226237, 1406969.1616373698, 1120571.2955729167\n",
      "Epoch: 40, losses: 187160.71126708985, 1190846.3781570697, 1360567.3752970377, 1077718.8296569823\n",
      "Epoch: 50, losses: 182905.0249883016, 1162296.8171630541, 1318082.9912948608, 1038611.4220535278\n",
      "Epoch: 60, losses: 180392.70670369465, 1136702.8021769205, 1279253.7033121744, 1002988.1104573568\n",
      "Epoch: 70, losses: 179373.32683677675, 1113891.9978928885, 1243817.0837412516, 970588.5592234294\n",
      "Epoch: 80, losses: 179709.14276334445, 1093268.5739868165, 1211515.950923411, 941159.4298660278\n",
      "Epoch: 90, losses: 181100.22256062826, 1075439.3312357585, 1182099.8698323567, 914454.2895385742\n",
      "Epoch: 100, losses: 183552.32412516276, 1059080.3831403255, 1155333.4625651042, 890243.2089192708\n"
     ]
    }
   ],
   "source": [
    "for i in range(eps + 1):\n",
    "    hg_d1 = hidden_gru.fit(d1x, d1y, batch_size=1, verbose=0, shuffle=False, epochs=1)\n",
    "    hidden_gru.reset_states()\n",
    "    hg_d2 = hidden_gru.fit(d2x, d2y, batch_size=1, verbose=0, shuffle=False, epochs=1)\n",
    "    hidden_gru.reset_states()\n",
    "    hg_d3 = hidden_gru.fit(d3x, d3y, batch_size=1, verbose=0, shuffle=False, epochs=1)\n",
    "    hidden_gru.reset_states()\n",
    "    hg_d4 = hidden_gru.fit(d4x, d4y, batch_size=1, verbose=0, shuffle=False, epochs=1)\n",
    "    hidden_gru.reset_states()\n",
    "    if i % print_at == 0:\n",
    "        print(\"Epoch: {}, losses: {}, {}, {}, {}\".format(i, hg_d1.history['loss'][-1], \n",
    "                                                         hg_d2.history['loss'][-1], \n",
    "                                                         hg_d3.history['loss'][-1], \n",
    "                                                         hg_d4.history['loss'][-1]))"
   ]
  },
  {
   "cell_type": "code",
   "execution_count": 51,
   "metadata": {
    "collapsed": true,
    "deletable": true,
    "editable": true
   },
   "outputs": [],
   "source": [
    "hidden_gru.save_weights(\"../models/hidden_gru\")"
   ]
  },
  {
   "cell_type": "markdown",
   "metadata": {
    "deletable": true,
    "editable": true
   },
   "source": [
    "## Multiple Hidden layers"
   ]
  },
  {
   "cell_type": "code",
   "execution_count": 8,
   "metadata": {
    "collapsed": false,
    "deletable": true,
    "editable": true
   },
   "outputs": [
    {
     "name": "stdout",
     "output_type": "stream",
     "text": [
      "_________________________________________________________________\n",
      "Layer (type)                 Output Shape              Param #   \n",
      "=================================================================\n",
      "gru_1 (GRU)                  (1, 1, 50)                7800      \n",
      "_________________________________________________________________\n",
      "gru_2 (GRU)                  (1, 1, 100)               45300     \n",
      "_________________________________________________________________\n",
      "gru_3 (GRU)                  (1, 300)                  360900    \n",
      "_________________________________________________________________\n",
      "dense_1 (Dense)              (1, 1)                    301       \n",
      "=================================================================\n",
      "Total params: 414,301.0\n",
      "Trainable params: 414,301\n",
      "Non-trainable params: 0.0\n",
      "_________________________________________________________________\n"
     ]
    }
   ],
   "source": [
    "multiple_hidden_gru = Sequential()\n",
    "multiple_hidden_gru.add(GRU(50, batch_input_shape=(1, d1x.shape[1], d1x.shape[2]), stateful=True, return_sequences=True))\n",
    "multiple_hidden_gru.add(GRU(100, stateful=True, return_sequences=True))\n",
    "multiple_hidden_gru.add(GRU(300, stateful=True))\n",
    "multiple_hidden_gru.add(Dense(1))\n",
    "multiple_hidden_gru.compile(loss='mse', optimizer='rmsprop')\n",
    "multiple_hidden_gru.summary()"
   ]
  },
  {
   "cell_type": "code",
   "execution_count": 9,
   "metadata": {
    "collapsed": false,
    "deletable": true,
    "editable": true
   },
   "outputs": [
    {
     "name": "stdout",
     "output_type": "stream",
     "text": [
      "Epoch: 0, losses: 220012.9405764262, 1315323.0737991333, 1534393.7032267253, 1617735.992138672\n",
      "Epoch: 50, losses: 141089.19343970617, 898518.7672768354, 927976.7502888998, 964325.6594380697\n",
      "Epoch: 100, losses: 136951.0823071209, 682204.8235473633, 629333.3781819661, 661606.0130023321\n",
      "Epoch: 150, losses: 147430.80485337574, 545447.0349768321, 463712.543019104, 405064.54023129144\n",
      "Epoch: 200, losses: 112833.88903230031, 920591.124184227, 387712.55919698277, 309584.87841796875\n",
      "Epoch: 250, losses: 49110.07330279648, 458611.531980896, 335317.0675168673, 199591.347265625\n",
      "Epoch: 300, losses: 69774.3773402214, 421316.5483451684, 336794.30762634275, 362837.343104744\n",
      "Epoch: 350, losses: 26537.64963549574, 473849.41693375906, 319247.7368570964, 152564.24378865559\n",
      "Epoch: 400, losses: 151370.46763092664, 446570.3530185064, 419749.2342590332, 161355.92743733723\n",
      "Epoch: 450, losses: 136132.79680065313, 561729.0430470784, 328938.56843182247, 152509.01549010276\n",
      "Epoch: 500, losses: 172880.0162935893, 568944.8115915934, 351011.26205002464, 126431.49050168991\n",
      "Epoch: 550, losses: 155034.5792011698, 396778.0311316172, 306833.36214902945, 181710.56611650783\n",
      "Epoch: 600, losses: 170734.67430979412, 1038242.0010665894, 339273.75764576596, 263484.6509195964\n",
      "Epoch: 650, losses: 153441.22739461262, 533134.8818196615, 370374.4357309977, 196501.7203262965\n",
      "Epoch: 700, losses: 262813.7741434733, 425020.7925140381, 436386.1302490195, 809824.8061194966\n",
      "Epoch: 750, losses: 164311.32164815266, 557857.1980214238, 358472.02218475344, 158368.11726727485\n",
      "Epoch: 800, losses: 148113.11853499414, 379472.54664853413, 353240.73653513193, 146690.260667483\n",
      "Epoch: 850, losses: 165361.4854403178, 496668.60494383576, 351242.44253781636, 184068.94376627603\n",
      "Epoch: 900, losses: 90317.83321908316, 430765.23279215494, 322397.5071548921, 128191.19437980652\n",
      "Epoch: 950, losses: 156644.519468381, 326049.9938430786, 474587.75990012585, 152447.34395751954\n",
      "Epoch: 1000, losses: 206002.61039128638, 406161.8404222488, 341094.976323843, 136126.33349088032\n",
      "Epoch: 1050, losses: 159876.0332578659, 310899.6275144418, 348163.7708231608, 128500.00675506592\n",
      "Epoch: 1100, losses: 199760.5856847922, 549189.8569533665, 351855.39482585393, 139798.92376174926\n",
      "Epoch: 1150, losses: 143180.86094303132, 395036.11727493006, 360345.780017217, 186967.77661704223\n",
      "Epoch: 1200, losses: 135599.80133978525, 304327.817422231, 334062.0904350281, 158727.14909261066\n",
      "Epoch: 1250, losses: 185562.32871804238, 387883.1697854201, 361259.64317312243, 101372.77473271688\n",
      "Epoch: 1300, losses: 181224.71924921672, 128249.89266433715, 321903.24935506185, 68065.14354831725\n",
      "Epoch: 1350, losses: 43572.13513973554, 762590.2361353874, 455290.2003804525, 178450.91853195828\n",
      "Epoch: 1400, losses: 101870.5296743234, 429963.18953297933, 371579.90569496155, 164211.43366495767\n",
      "Epoch: 1450, losses: 146293.3555542469, 67985.05413586299, 42211.255286041895, 212773.13551735878\n",
      "Epoch: 1500, losses: 166601.9624230385, 530536.7617731094, 330715.2949457089, 98154.95124308269\n",
      "Epoch: 1550, losses: 147803.60255349876, 319184.5671055476, 707635.4199684361, 191233.39239298503\n",
      "Epoch: 1600, losses: 152675.93144995373, 534793.7069442272, 352390.7564687093, 315036.4000467936\n",
      "Epoch: 1650, losses: 148287.50667094786, 520600.54067492485, 390279.12246958417, 209164.86174262365\n",
      "Epoch: 1700, losses: 71022.51074523925, 43862.48200394313, 28855.231651687624, 107812.06238176624\n",
      "Epoch: 1750, losses: 22757.724812090397, 192509.88536860148, 661554.5908721288, 120839.79181111653\n",
      "Epoch: 1800, losses: 5675.773864555359, 74957.00540216267, 161516.62474225313, 107087.124974823\n",
      "Epoch: 1850, losses: 14256.583093293508, 596840.8077745358, 142915.82820295094, 170319.26503397623\n",
      "Epoch: 1900, losses: 9255.00547680358, 4234.634542751312, 8472.238689156373, 43151.41182149251\n",
      "Epoch: 1950, losses: 103819.70203466415, 654544.558940347, 178959.07160746257, 102014.72483730316\n",
      "Epoch: 2000, losses: 7476.077928320567, 254984.95312319198, 481617.1617428978, 94354.05738474528\n",
      "Epoch: 2050, losses: 156280.01742221913, 287971.7884613037, 320688.0818879485, 133302.31997388203\n",
      "Epoch: 2100, losses: 140209.05862191517, 69570.15877116521, 140784.0892618815, 64487.606316375735\n",
      "Epoch: 2150, losses: 64958.83815889359, 337411.8743594646, 394041.80830287933, 123182.0574849526\n",
      "Epoch: 2200, losses: 2868.038273326556, 334085.7023798784, 376223.5163325906, 215105.356533432\n",
      "Epoch: 2250, losses: 143515.41079329452, 82811.85739947557, 322855.7171403805, 127378.00915050507\n",
      "Epoch: 2300, losses: 184049.38512756923, 574376.5813707988, 109797.37893702189, 147498.2025759379\n",
      "Epoch: 2350, losses: 3902.5489397875963, 354249.3258509318, 442688.528849713, 84809.18450679778\n",
      "Epoch: 2400, losses: 5321.72826461792, 6895.338996164004, 327330.3507429818, 100900.04637349446\n",
      "Epoch: 2450, losses: 14544.337485120259, 4924.703506294886, 393230.8027212878, 58783.6325881203\n",
      "Epoch: 2500, losses: 6404.499881460766, 1241.7858816782634, 4052.8946804900966, 93504.19691829682\n",
      "Epoch: 2550, losses: 134547.2609336853, 4141.717222516735, 33721.72690931956, 246002.66392310758\n",
      "Epoch: 2600, losses: 18245.381962196032, 1567.6304365475974, 20864.042893759408, 22274.501749038696\n",
      "Epoch: 2650, losses: 3189.4171541591486, 20126.431629721323, 61891.4186223348, 37865.51166419983\n",
      "Epoch: 2700, losses: 668.2717918872834, 160.7462976232792, 199085.80386889874, 155284.59780076344\n",
      "Epoch: 2750, losses: 82423.26385718584, 400288.6209492445, 422774.6213447571, 126773.35990804037\n",
      "Epoch: 2800, losses: 204.84008127848307, 13222.349769274393, 23493.306892522178, 166830.5089144389\n",
      "Epoch: 2850, losses: 140929.59217681884, 250.75168188412985, 90195.95717564871, 226171.10563023886\n",
      "Epoch: 2900, losses: 7088.728814117114, 27461.33032270825, 1229035.8102715174, 130077.27392107646\n",
      "Epoch: 2950, losses: 1462.5630241227648, 322998.4614955902, 116878.93490511576, 124697.7043123881\n",
      "Epoch: 3000, losses: 80453.53496786753, 713649.6806663697, 21657.408209284145, 94141.22090212505\n",
      "Epoch: 3050, losses: 280.8370014555752, 388031.7372037848, 391939.1932147185, 243559.13198242188\n",
      "Epoch: 3100, losses: 355.84070798829197, 5313.757409906388, 508993.8666362365, 726097.2856770833\n",
      "Epoch: 3150, losses: 1015.7862471799056, 3213.423223189513, 11134.795024240017, 113270.60869693532\n",
      "Epoch: 3200, losses: 78162.1183131218, 1627.87546484073, 3160.264526049296, 228425.12632738453\n",
      "Epoch: 3250, losses: 72017.57513720194, 6940.132118762533, 600499.2380561193, 147574.75667069753\n",
      "Epoch: 3300, losses: 140853.93813883464, 321954.1822838942, 435241.07106609445, 310932.14803873695\n",
      "Epoch: 3350, losses: 147237.14407488506, 2130.2363910165927, 318840.3938043336, 180351.7766594569\n",
      "Epoch: 3400, losses: 57248.38030715113, 4980.89090979298, 365676.31360524497, 232003.28886782328\n",
      "Epoch: 3450, losses: 61916.77469267845, 63594.72967249552, 138216.73698234558, 139005.8771534602\n",
      "Epoch: 3500, losses: 70639.0355318745, 778.6142224947612, 395236.4944899718, 126055.05355006321\n",
      "Epoch: 3550, losses: 90714.92474309604, 724724.6289626897, 444180.74453125, 139860.72482477824\n",
      "Epoch: 3600, losses: 126213.58656361898, 16636.281384817757, 361545.0821816365, 179979.66334203084\n",
      "Epoch: 3650, losses: 34638.12919270198, 23539.721162128448, 124838.54660577774, 238305.5833963712\n",
      "Epoch: 3700, losses: 17993.730833689373, 190224.5252934138, 24063.089114379884, 128982.75895334681\n",
      "Epoch: 3750, losses: 1102.522778304418, 30050.288025760652, 230585.6487688581, 144048.40643984478\n",
      "Epoch: 3800, losses: 649.9758205254873, 321378.11741247674, 35926.7223285834, 59193.63384243647\n",
      "Epoch: 3850, losses: 1053.0050451156994, 285918.7191368759, 282275.7052771527, 225452.78684017112\n",
      "Epoch: 3900, losses: 355.1953762839238, 1997.5872141599655, 111368.28012283382, 61701.01476052602\n",
      "Epoch: 3950, losses: 31214.93459902207, 390756.02346445917, 303462.10558066366, 138509.1417415897\n",
      "Epoch: 4000, losses: 208541.60924412808, 1705.7770928700766, 317829.99619158107, 256308.39857444764\n",
      "Epoch: 4050, losses: 369.2942348158297, 8105.806483729681, 6983.354715732733, 172420.4891515414\n",
      "Epoch: 4100, losses: 545.6187874913215, 936.4202992230654, 15002.310424176852, 35774.752089945476\n",
      "Epoch: 4150, losses: 17569.90183064143, 263.53246011734007, 485522.2066271628, 15093.786546579997\n",
      "Epoch: 4200, losses: 370492.6440367977, 2682.1602864950896, 568.2675921440125, 8954.233081054688\n",
      "Epoch: 4250, losses: 1703.5307130177816, 1150.879717652003, 6382.844294951359, 6491.764479017258\n",
      "Epoch: 4300, losses: 37438.6008801478, 698628.8621980753, 189.68908979098003, 5570.76198202769\n",
      "Epoch: 4350, losses: 558.1722533633312, 884.4767870585124, 3838.8498893380165, 4225.761711629232\n",
      "Epoch: 4400, losses: 79318.04919840494, 6638.41313217481, 276695.1282201767, 5650.464816256364\n",
      "Epoch: 4450, losses: 365.120685895284, 757.3218301932017, 4301.46331354777, 5664.949038728078\n",
      "Epoch: 4500, losses: 167.8812461766104, 619193.2783045988, 743736.4101357142, 3416.7142004648845\n",
      "Epoch: 4550, losses: 363655.9255587578, 282090.7747279455, 275317.19934736885, 220346.761004893\n",
      "Epoch: 4600, losses: 391.91340891520184, 2591.268876584371, 46999.39401877721, 39505.82369524638\n",
      "Epoch: 4650, losses: 174019.56875781616, 608209.8252894401, 7428.653960307439, 3878.9673449198403\n",
      "Epoch: 4700, losses: 137367.09266151587, 606950.1691024781, 622187.5140560151, 4305.258520121376\n",
      "Epoch: 4750, losses: 4021.990234734987, 751922.9307811578, 609938.8541607539, 295831.92792612314\n"
     ]
    },
    {
     "ename": "KeyboardInterrupt",
     "evalue": "",
     "output_type": "error",
     "traceback": [
      "\u001b[0;31m---------------------------------------------------------------------------\u001b[0m",
      "\u001b[0;31mKeyboardInterrupt\u001b[0m                         Traceback (most recent call last)",
      "\u001b[0;32m<ipython-input-9-275997cd12ba>\u001b[0m in \u001b[0;36m<module>\u001b[0;34m()\u001b[0m\n\u001b[1;32m      4\u001b[0m     \u001b[0mmhg_d2\u001b[0m \u001b[0;34m=\u001b[0m \u001b[0mmultiple_hidden_gru\u001b[0m\u001b[0;34m.\u001b[0m\u001b[0mfit\u001b[0m\u001b[0;34m(\u001b[0m\u001b[0md2x\u001b[0m\u001b[0;34m,\u001b[0m \u001b[0md2y\u001b[0m\u001b[0;34m,\u001b[0m \u001b[0mbatch_size\u001b[0m\u001b[0;34m=\u001b[0m\u001b[0;36m1\u001b[0m\u001b[0;34m,\u001b[0m \u001b[0mverbose\u001b[0m\u001b[0;34m=\u001b[0m\u001b[0;36m0\u001b[0m\u001b[0;34m,\u001b[0m \u001b[0mshuffle\u001b[0m\u001b[0;34m=\u001b[0m\u001b[0;32mFalse\u001b[0m\u001b[0;34m,\u001b[0m \u001b[0mepochs\u001b[0m\u001b[0;34m=\u001b[0m\u001b[0;36m1\u001b[0m\u001b[0;34m)\u001b[0m\u001b[0;34m\u001b[0m\u001b[0m\n\u001b[1;32m      5\u001b[0m     \u001b[0mmultiple_hidden_gru\u001b[0m\u001b[0;34m.\u001b[0m\u001b[0mreset_states\u001b[0m\u001b[0;34m(\u001b[0m\u001b[0;34m)\u001b[0m\u001b[0;34m\u001b[0m\u001b[0m\n\u001b[0;32m----> 6\u001b[0;31m     \u001b[0mmhg_d3\u001b[0m \u001b[0;34m=\u001b[0m \u001b[0mmultiple_hidden_gru\u001b[0m\u001b[0;34m.\u001b[0m\u001b[0mfit\u001b[0m\u001b[0;34m(\u001b[0m\u001b[0md3x\u001b[0m\u001b[0;34m,\u001b[0m \u001b[0md3y\u001b[0m\u001b[0;34m,\u001b[0m \u001b[0mbatch_size\u001b[0m\u001b[0;34m=\u001b[0m\u001b[0;36m1\u001b[0m\u001b[0;34m,\u001b[0m \u001b[0mverbose\u001b[0m\u001b[0;34m=\u001b[0m\u001b[0;36m0\u001b[0m\u001b[0;34m,\u001b[0m \u001b[0mshuffle\u001b[0m\u001b[0;34m=\u001b[0m\u001b[0;32mFalse\u001b[0m\u001b[0;34m,\u001b[0m \u001b[0mepochs\u001b[0m\u001b[0;34m=\u001b[0m\u001b[0;36m1\u001b[0m\u001b[0;34m)\u001b[0m\u001b[0;34m\u001b[0m\u001b[0m\n\u001b[0m\u001b[1;32m      7\u001b[0m     \u001b[0mmultiple_hidden_gru\u001b[0m\u001b[0;34m.\u001b[0m\u001b[0mreset_states\u001b[0m\u001b[0;34m(\u001b[0m\u001b[0;34m)\u001b[0m\u001b[0;34m\u001b[0m\u001b[0m\n\u001b[1;32m      8\u001b[0m     \u001b[0mmhg_d4\u001b[0m \u001b[0;34m=\u001b[0m \u001b[0mmultiple_hidden_gru\u001b[0m\u001b[0;34m.\u001b[0m\u001b[0mfit\u001b[0m\u001b[0;34m(\u001b[0m\u001b[0md4x\u001b[0m\u001b[0;34m,\u001b[0m \u001b[0md4y\u001b[0m\u001b[0;34m,\u001b[0m \u001b[0mbatch_size\u001b[0m\u001b[0;34m=\u001b[0m\u001b[0;36m1\u001b[0m\u001b[0;34m,\u001b[0m \u001b[0mverbose\u001b[0m\u001b[0;34m=\u001b[0m\u001b[0;36m0\u001b[0m\u001b[0;34m,\u001b[0m \u001b[0mshuffle\u001b[0m\u001b[0;34m=\u001b[0m\u001b[0;32mFalse\u001b[0m\u001b[0;34m,\u001b[0m \u001b[0mepochs\u001b[0m\u001b[0;34m=\u001b[0m\u001b[0;36m1\u001b[0m\u001b[0;34m)\u001b[0m\u001b[0;34m\u001b[0m\u001b[0m\n",
      "\u001b[0;32m/home/nischal/anaconda3/lib/python3.6/site-packages/keras/models.py\u001b[0m in \u001b[0;36mfit\u001b[0;34m(self, x, y, batch_size, epochs, verbose, callbacks, validation_split, validation_data, shuffle, class_weight, sample_weight, initial_epoch, **kwargs)\u001b[0m\n\u001b[1;32m    843\u001b[0m                               \u001b[0mclass_weight\u001b[0m\u001b[0;34m=\u001b[0m\u001b[0mclass_weight\u001b[0m\u001b[0;34m,\u001b[0m\u001b[0;34m\u001b[0m\u001b[0m\n\u001b[1;32m    844\u001b[0m                               \u001b[0msample_weight\u001b[0m\u001b[0;34m=\u001b[0m\u001b[0msample_weight\u001b[0m\u001b[0;34m,\u001b[0m\u001b[0;34m\u001b[0m\u001b[0m\n\u001b[0;32m--> 845\u001b[0;31m                               initial_epoch=initial_epoch)\n\u001b[0m\u001b[1;32m    846\u001b[0m \u001b[0;34m\u001b[0m\u001b[0m\n\u001b[1;32m    847\u001b[0m     def evaluate(self, x, y, batch_size=32, verbose=1,\n",
      "\u001b[0;32m/home/nischal/anaconda3/lib/python3.6/site-packages/keras/engine/training.py\u001b[0m in \u001b[0;36mfit\u001b[0;34m(self, x, y, batch_size, epochs, verbose, callbacks, validation_split, validation_data, shuffle, class_weight, sample_weight, initial_epoch, **kwargs)\u001b[0m\n\u001b[1;32m   1483\u001b[0m                               \u001b[0mval_f\u001b[0m\u001b[0;34m=\u001b[0m\u001b[0mval_f\u001b[0m\u001b[0;34m,\u001b[0m \u001b[0mval_ins\u001b[0m\u001b[0;34m=\u001b[0m\u001b[0mval_ins\u001b[0m\u001b[0;34m,\u001b[0m \u001b[0mshuffle\u001b[0m\u001b[0;34m=\u001b[0m\u001b[0mshuffle\u001b[0m\u001b[0;34m,\u001b[0m\u001b[0;34m\u001b[0m\u001b[0m\n\u001b[1;32m   1484\u001b[0m                               \u001b[0mcallback_metrics\u001b[0m\u001b[0;34m=\u001b[0m\u001b[0mcallback_metrics\u001b[0m\u001b[0;34m,\u001b[0m\u001b[0;34m\u001b[0m\u001b[0m\n\u001b[0;32m-> 1485\u001b[0;31m                               initial_epoch=initial_epoch)\n\u001b[0m\u001b[1;32m   1486\u001b[0m \u001b[0;34m\u001b[0m\u001b[0m\n\u001b[1;32m   1487\u001b[0m     \u001b[0;32mdef\u001b[0m \u001b[0mevaluate\u001b[0m\u001b[0;34m(\u001b[0m\u001b[0mself\u001b[0m\u001b[0;34m,\u001b[0m \u001b[0mx\u001b[0m\u001b[0;34m,\u001b[0m \u001b[0my\u001b[0m\u001b[0;34m,\u001b[0m \u001b[0mbatch_size\u001b[0m\u001b[0;34m=\u001b[0m\u001b[0;36m32\u001b[0m\u001b[0;34m,\u001b[0m \u001b[0mverbose\u001b[0m\u001b[0;34m=\u001b[0m\u001b[0;36m1\u001b[0m\u001b[0;34m,\u001b[0m \u001b[0msample_weight\u001b[0m\u001b[0;34m=\u001b[0m\u001b[0;32mNone\u001b[0m\u001b[0;34m)\u001b[0m\u001b[0;34m:\u001b[0m\u001b[0;34m\u001b[0m\u001b[0m\n",
      "\u001b[0;32m/home/nischal/anaconda3/lib/python3.6/site-packages/keras/engine/training.py\u001b[0m in \u001b[0;36m_fit_loop\u001b[0;34m(self, f, ins, out_labels, batch_size, epochs, verbose, callbacks, val_f, val_ins, shuffle, callback_metrics, initial_epoch)\u001b[0m\n\u001b[1;32m   1138\u001b[0m                 \u001b[0mbatch_logs\u001b[0m\u001b[0;34m[\u001b[0m\u001b[0;34m'size'\u001b[0m\u001b[0;34m]\u001b[0m \u001b[0;34m=\u001b[0m \u001b[0mlen\u001b[0m\u001b[0;34m(\u001b[0m\u001b[0mbatch_ids\u001b[0m\u001b[0;34m)\u001b[0m\u001b[0;34m\u001b[0m\u001b[0m\n\u001b[1;32m   1139\u001b[0m                 \u001b[0mcallbacks\u001b[0m\u001b[0;34m.\u001b[0m\u001b[0mon_batch_begin\u001b[0m\u001b[0;34m(\u001b[0m\u001b[0mbatch_index\u001b[0m\u001b[0;34m,\u001b[0m \u001b[0mbatch_logs\u001b[0m\u001b[0;34m)\u001b[0m\u001b[0;34m\u001b[0m\u001b[0m\n\u001b[0;32m-> 1140\u001b[0;31m                 \u001b[0mouts\u001b[0m \u001b[0;34m=\u001b[0m \u001b[0mf\u001b[0m\u001b[0;34m(\u001b[0m\u001b[0mins_batch\u001b[0m\u001b[0;34m)\u001b[0m\u001b[0;34m\u001b[0m\u001b[0m\n\u001b[0m\u001b[1;32m   1141\u001b[0m                 \u001b[0;32mif\u001b[0m \u001b[0;32mnot\u001b[0m \u001b[0misinstance\u001b[0m\u001b[0;34m(\u001b[0m\u001b[0mouts\u001b[0m\u001b[0;34m,\u001b[0m \u001b[0mlist\u001b[0m\u001b[0;34m)\u001b[0m\u001b[0;34m:\u001b[0m\u001b[0;34m\u001b[0m\u001b[0m\n\u001b[1;32m   1142\u001b[0m                     \u001b[0mouts\u001b[0m \u001b[0;34m=\u001b[0m \u001b[0;34m[\u001b[0m\u001b[0mouts\u001b[0m\u001b[0;34m]\u001b[0m\u001b[0;34m\u001b[0m\u001b[0m\n",
      "\u001b[0;32m/home/nischal/anaconda3/lib/python3.6/site-packages/keras/backend/tensorflow_backend.py\u001b[0m in \u001b[0;36m__call__\u001b[0;34m(self, inputs)\u001b[0m\n\u001b[1;32m   2071\u001b[0m         \u001b[0msession\u001b[0m \u001b[0;34m=\u001b[0m \u001b[0mget_session\u001b[0m\u001b[0;34m(\u001b[0m\u001b[0;34m)\u001b[0m\u001b[0;34m\u001b[0m\u001b[0m\n\u001b[1;32m   2072\u001b[0m         updated = session.run(self.outputs + [self.updates_op],\n\u001b[0;32m-> 2073\u001b[0;31m                               feed_dict=feed_dict)\n\u001b[0m\u001b[1;32m   2074\u001b[0m         \u001b[0;32mreturn\u001b[0m \u001b[0mupdated\u001b[0m\u001b[0;34m[\u001b[0m\u001b[0;34m:\u001b[0m\u001b[0mlen\u001b[0m\u001b[0;34m(\u001b[0m\u001b[0mself\u001b[0m\u001b[0;34m.\u001b[0m\u001b[0moutputs\u001b[0m\u001b[0;34m)\u001b[0m\u001b[0;34m]\u001b[0m\u001b[0;34m\u001b[0m\u001b[0m\n\u001b[1;32m   2075\u001b[0m \u001b[0;34m\u001b[0m\u001b[0m\n",
      "\u001b[0;32m/home/nischal/anaconda3/lib/python3.6/site-packages/tensorflow/python/client/session.py\u001b[0m in \u001b[0;36mrun\u001b[0;34m(self, fetches, feed_dict, options, run_metadata)\u001b[0m\n\u001b[1;32m    765\u001b[0m     \u001b[0;32mtry\u001b[0m\u001b[0;34m:\u001b[0m\u001b[0;34m\u001b[0m\u001b[0m\n\u001b[1;32m    766\u001b[0m       result = self._run(None, fetches, feed_dict, options_ptr,\n\u001b[0;32m--> 767\u001b[0;31m                          run_metadata_ptr)\n\u001b[0m\u001b[1;32m    768\u001b[0m       \u001b[0;32mif\u001b[0m \u001b[0mrun_metadata\u001b[0m\u001b[0;34m:\u001b[0m\u001b[0;34m\u001b[0m\u001b[0m\n\u001b[1;32m    769\u001b[0m         \u001b[0mproto_data\u001b[0m \u001b[0;34m=\u001b[0m \u001b[0mtf_session\u001b[0m\u001b[0;34m.\u001b[0m\u001b[0mTF_GetBuffer\u001b[0m\u001b[0;34m(\u001b[0m\u001b[0mrun_metadata_ptr\u001b[0m\u001b[0;34m)\u001b[0m\u001b[0;34m\u001b[0m\u001b[0m\n",
      "\u001b[0;32m/home/nischal/anaconda3/lib/python3.6/site-packages/tensorflow/python/client/session.py\u001b[0m in \u001b[0;36m_run\u001b[0;34m(self, handle, fetches, feed_dict, options, run_metadata)\u001b[0m\n\u001b[1;32m    963\u001b[0m     \u001b[0;32mif\u001b[0m \u001b[0mfinal_fetches\u001b[0m \u001b[0;32mor\u001b[0m \u001b[0mfinal_targets\u001b[0m\u001b[0;34m:\u001b[0m\u001b[0;34m\u001b[0m\u001b[0m\n\u001b[1;32m    964\u001b[0m       results = self._do_run(handle, final_targets, final_fetches,\n\u001b[0;32m--> 965\u001b[0;31m                              feed_dict_string, options, run_metadata)\n\u001b[0m\u001b[1;32m    966\u001b[0m     \u001b[0;32melse\u001b[0m\u001b[0;34m:\u001b[0m\u001b[0;34m\u001b[0m\u001b[0m\n\u001b[1;32m    967\u001b[0m       \u001b[0mresults\u001b[0m \u001b[0;34m=\u001b[0m \u001b[0;34m[\u001b[0m\u001b[0;34m]\u001b[0m\u001b[0;34m\u001b[0m\u001b[0m\n",
      "\u001b[0;32m/home/nischal/anaconda3/lib/python3.6/site-packages/tensorflow/python/client/session.py\u001b[0m in \u001b[0;36m_do_run\u001b[0;34m(self, handle, target_list, fetch_list, feed_dict, options, run_metadata)\u001b[0m\n\u001b[1;32m   1013\u001b[0m     \u001b[0;32mif\u001b[0m \u001b[0mhandle\u001b[0m \u001b[0;32mis\u001b[0m \u001b[0;32mNone\u001b[0m\u001b[0;34m:\u001b[0m\u001b[0;34m\u001b[0m\u001b[0m\n\u001b[1;32m   1014\u001b[0m       return self._do_call(_run_fn, self._session, feed_dict, fetch_list,\n\u001b[0;32m-> 1015\u001b[0;31m                            target_list, options, run_metadata)\n\u001b[0m\u001b[1;32m   1016\u001b[0m     \u001b[0;32melse\u001b[0m\u001b[0;34m:\u001b[0m\u001b[0;34m\u001b[0m\u001b[0m\n\u001b[1;32m   1017\u001b[0m       return self._do_call(_prun_fn, self._session, handle, feed_dict,\n",
      "\u001b[0;32m/home/nischal/anaconda3/lib/python3.6/site-packages/tensorflow/python/client/session.py\u001b[0m in \u001b[0;36m_do_call\u001b[0;34m(self, fn, *args)\u001b[0m\n\u001b[1;32m   1020\u001b[0m   \u001b[0;32mdef\u001b[0m \u001b[0m_do_call\u001b[0m\u001b[0;34m(\u001b[0m\u001b[0mself\u001b[0m\u001b[0;34m,\u001b[0m \u001b[0mfn\u001b[0m\u001b[0;34m,\u001b[0m \u001b[0;34m*\u001b[0m\u001b[0margs\u001b[0m\u001b[0;34m)\u001b[0m\u001b[0;34m:\u001b[0m\u001b[0;34m\u001b[0m\u001b[0m\n\u001b[1;32m   1021\u001b[0m     \u001b[0;32mtry\u001b[0m\u001b[0;34m:\u001b[0m\u001b[0;34m\u001b[0m\u001b[0m\n\u001b[0;32m-> 1022\u001b[0;31m       \u001b[0;32mreturn\u001b[0m \u001b[0mfn\u001b[0m\u001b[0;34m(\u001b[0m\u001b[0;34m*\u001b[0m\u001b[0margs\u001b[0m\u001b[0;34m)\u001b[0m\u001b[0;34m\u001b[0m\u001b[0m\n\u001b[0m\u001b[1;32m   1023\u001b[0m     \u001b[0;32mexcept\u001b[0m \u001b[0merrors\u001b[0m\u001b[0;34m.\u001b[0m\u001b[0mOpError\u001b[0m \u001b[0;32mas\u001b[0m \u001b[0me\u001b[0m\u001b[0;34m:\u001b[0m\u001b[0;34m\u001b[0m\u001b[0m\n\u001b[1;32m   1024\u001b[0m       \u001b[0mmessage\u001b[0m \u001b[0;34m=\u001b[0m \u001b[0mcompat\u001b[0m\u001b[0;34m.\u001b[0m\u001b[0mas_text\u001b[0m\u001b[0;34m(\u001b[0m\u001b[0me\u001b[0m\u001b[0;34m.\u001b[0m\u001b[0mmessage\u001b[0m\u001b[0;34m)\u001b[0m\u001b[0;34m\u001b[0m\u001b[0m\n",
      "\u001b[0;32m/home/nischal/anaconda3/lib/python3.6/site-packages/tensorflow/python/client/session.py\u001b[0m in \u001b[0;36m_run_fn\u001b[0;34m(session, feed_dict, fetch_list, target_list, options, run_metadata)\u001b[0m\n\u001b[1;32m   1002\u001b[0m         return tf_session.TF_Run(session, options,\n\u001b[1;32m   1003\u001b[0m                                  \u001b[0mfeed_dict\u001b[0m\u001b[0;34m,\u001b[0m \u001b[0mfetch_list\u001b[0m\u001b[0;34m,\u001b[0m \u001b[0mtarget_list\u001b[0m\u001b[0;34m,\u001b[0m\u001b[0;34m\u001b[0m\u001b[0m\n\u001b[0;32m-> 1004\u001b[0;31m                                  status, run_metadata)\n\u001b[0m\u001b[1;32m   1005\u001b[0m \u001b[0;34m\u001b[0m\u001b[0m\n\u001b[1;32m   1006\u001b[0m     \u001b[0;32mdef\u001b[0m \u001b[0m_prun_fn\u001b[0m\u001b[0;34m(\u001b[0m\u001b[0msession\u001b[0m\u001b[0;34m,\u001b[0m \u001b[0mhandle\u001b[0m\u001b[0;34m,\u001b[0m \u001b[0mfeed_dict\u001b[0m\u001b[0;34m,\u001b[0m \u001b[0mfetch_list\u001b[0m\u001b[0;34m)\u001b[0m\u001b[0;34m:\u001b[0m\u001b[0;34m\u001b[0m\u001b[0m\n",
      "\u001b[0;31mKeyboardInterrupt\u001b[0m: "
     ]
    }
   ],
   "source": [
    "for i in range(10000):\n",
    "    mhg_d1 = multiple_hidden_gru.fit(d1x, d1y, batch_size=1, verbose=0, shuffle=False, epochs=1)\n",
    "    multiple_hidden_gru.reset_states()\n",
    "    mhg_d2 = multiple_hidden_gru.fit(d2x, d2y, batch_size=1, verbose=0, shuffle=False, epochs=1)\n",
    "    multiple_hidden_gru.reset_states()\n",
    "    mhg_d3 = multiple_hidden_gru.fit(d3x, d3y, batch_size=1, verbose=0, shuffle=False, epochs=1)\n",
    "    multiple_hidden_gru.reset_states()\n",
    "    mhg_d4 = multiple_hidden_gru.fit(d4x, d4y, batch_size=1, verbose=0, shuffle=False, epochs=1)\n",
    "    multiple_hidden_gru.reset_states()\n",
    "    if i % 50 == 0:\n",
    "        print(\"Epoch: {}, losses: {}, {}, {}, {}\".format(i, mhg_d1.history['loss'][-1], \n",
    "                                                         mhg_d2.history['loss'][-1], \n",
    "                                                         mhg_d3.history['loss'][-1], \n",
    "                                                         mhg_d4.history['loss'][-1]))"
   ]
  },
  {
   "cell_type": "code",
   "execution_count": 52,
   "metadata": {
    "collapsed": true,
    "deletable": true,
    "editable": true
   },
   "outputs": [],
   "source": [
    "multiple_hidden_gru.save_weights(\"../models/multiple_hidden_gru\")"
   ]
  },
  {
   "cell_type": "markdown",
   "metadata": {
    "deletable": true,
    "editable": true
   },
   "source": [
    "## New data"
   ]
  },
  {
   "cell_type": "code",
   "execution_count": 70,
   "metadata": {
    "collapsed": false,
    "deletable": true,
    "editable": true
   },
   "outputs": [],
   "source": [
    "dt1 = np.reshape(d1x, (15, 1))\n",
    "dt2 = np.reshape(d2x, (15, 1))\n",
    "dt3 = np.reshape(d3x, (15, 1))\n",
    "dt4 = np.reshape(d4x, (15, 1))"
   ]
  },
  {
   "cell_type": "code",
   "execution_count": 71,
   "metadata": {
    "collapsed": false,
    "deletable": true,
    "editable": true
   },
   "outputs": [
    {
     "data": {
      "text/plain": [
       "array([[ 163],\n",
       "       [  12],\n",
       "       [  23],\n",
       "       [ 311],\n",
       "       [  44],\n",
       "       [  75],\n",
       "       [  82],\n",
       "       [ 122],\n",
       "       [ 219],\n",
       "       [ 247],\n",
       "       [   5],\n",
       "       [ 251],\n",
       "       [ 118],\n",
       "       [1774],\n",
       "       [   1],\n",
       "       [ 440],\n",
       "       [2946],\n",
       "       [ 227],\n",
       "       [ 143],\n",
       "       [ 550],\n",
       "       [  32],\n",
       "       [ 293],\n",
       "       [ 137],\n",
       "       [ 157],\n",
       "       [ 151],\n",
       "       [   4],\n",
       "       [  14],\n",
       "       [ 174],\n",
       "       [1797],\n",
       "       [2776],\n",
       "       [3026],\n",
       "       [2053],\n",
       "       [1538],\n",
       "       [ 242],\n",
       "       [ 239],\n",
       "       [ 238],\n",
       "       [   6],\n",
       "       [ 162],\n",
       "       [1069],\n",
       "       [  50],\n",
       "       [  59],\n",
       "       [ 602],\n",
       "       [ 780],\n",
       "       [1633],\n",
       "       [1805],\n",
       "       [2165],\n",
       "       [2918],\n",
       "       [1198],\n",
       "       [1655],\n",
       "       [4449],\n",
       "       [4795],\n",
       "       [3702],\n",
       "       [4417],\n",
       "       [3698],\n",
       "       [3117],\n",
       "       [3556],\n",
       "       [2362],\n",
       "       [2160],\n",
       "       [4322],\n",
       "       [2364]])"
      ]
     },
     "execution_count": 71,
     "metadata": {},
     "output_type": "execute_result"
    }
   ],
   "source": [
    "dcx = np.concatenate([dt1, dt2, dt3, dt4])\n",
    "dcx"
   ]
  },
  {
   "cell_type": "code",
   "execution_count": 72,
   "metadata": {
    "collapsed": false,
    "deletable": true,
    "editable": true
   },
   "outputs": [
    {
     "data": {
      "text/plain": [
       "array([  12,   23,  311,   44,   75,   82,  122,  219,  247,    5,  251,\n",
       "        118, 1774,    1,  163, 2946,  227,  143,  550,   32,  293,  137,\n",
       "        157,  151,    4,   14,  174, 1797, 2776,  440, 2053, 1538,  242,\n",
       "        239,  238,    6,  162, 1069,   50,   59,  602,  780, 1633, 1805,\n",
       "       3026, 2053, 1538,  242,  239,  238,    6,  162, 1069,   50,   59,\n",
       "        602,  780, 1633, 1805, 2165])"
      ]
     },
     "execution_count": 72,
     "metadata": {},
     "output_type": "execute_result"
    }
   ],
   "source": [
    "dcy = np.concatenate([d1y, d2y, d3y, d4y])\n",
    "dcy"
   ]
  },
  {
   "cell_type": "code",
   "execution_count": 74,
   "metadata": {
    "collapsed": false,
    "deletable": true,
    "editable": true
   },
   "outputs": [],
   "source": [
    "dcx = dcx.reshape(dcx.shape[0], 1, dcx.shape[1])"
   ]
  },
  {
   "cell_type": "code",
   "execution_count": 76,
   "metadata": {
    "collapsed": false,
    "deletable": true,
    "editable": true
   },
   "outputs": [
    {
     "name": "stdout",
     "output_type": "stream",
     "text": [
      "_________________________________________________________________\n",
      "Layer (type)                 Output Shape              Param #   \n",
      "=================================================================\n",
      "gru_18 (GRU)                 (1, 1, 50)                7800      \n",
      "_________________________________________________________________\n",
      "gru_19 (GRU)                 (1, 1, 100)               45300     \n",
      "_________________________________________________________________\n",
      "gru_20 (GRU)                 (1, 300)                  360900    \n",
      "_________________________________________________________________\n",
      "dense_10 (Dense)             (1, 1)                    301       \n",
      "=================================================================\n",
      "Total params: 414,301.0\n",
      "Trainable params: 414,301\n",
      "Non-trainable params: 0.0\n",
      "_________________________________________________________________\n"
     ]
    }
   ],
   "source": [
    "new_model = Sequential()\n",
    "new_model.add(GRU(50, batch_input_shape=(1, dcx.shape[1], dcx.shape[2]), stateful=True, return_sequences=True))\n",
    "new_model.add(GRU(100, stateful=True, return_sequences=True))\n",
    "new_model.add(GRU(300, stateful=True))\n",
    "new_model.add(Dense(1))\n",
    "new_model.compile(loss='mse', optimizer='rmsprop')\n",
    "new_model.summary()"
   ]
  },
  {
   "cell_type": "code",
   "execution_count": 78,
   "metadata": {
    "collapsed": false,
    "deletable": true,
    "editable": true
   },
   "outputs": [
    {
     "name": "stdout",
     "output_type": "stream",
     "text": [
      "Cycle: 0, loss: 857846.301888148\n",
      "Cycle: 25, loss: 756940.6802541097\n",
      "Cycle: 50, loss: 813370.393179957\n",
      "Cycle: 75, loss: 650327.9143087546\n",
      "Cycle: 100, loss: 623573.5518908937\n",
      "Cycle: 125, loss: 559687.7108153979\n",
      "Cycle: 150, loss: 531780.7854706387\n",
      "Cycle: 175, loss: 497372.7902872682\n",
      "Cycle: 200, loss: 509817.8025231739\n",
      "Cycle: 225, loss: 553845.0909625331\n",
      "Cycle: 250, loss: 426690.4478126208\n",
      "Cycle: 275, loss: 415502.03026432596\n",
      "Cycle: 300, loss: 402972.52464250225\n",
      "Cycle: 325, loss: 395620.5888469825\n",
      "Cycle: 350, loss: 397942.7483827591\n",
      "Cycle: 375, loss: 368917.21836880845\n",
      "Cycle: 400, loss: 299190.082925249\n",
      "Cycle: 425, loss: 293765.840569974\n",
      "Cycle: 450, loss: 318394.6443140363\n",
      "Cycle: 475, loss: 206043.87335222066\n",
      "Cycle: 500, loss: 170628.62652446626\n",
      "Cycle: 525, loss: 162718.45010810153\n",
      "Cycle: 550, loss: 478563.95182220737\n",
      "Cycle: 575, loss: 216284.32967556317\n",
      "Cycle: 600, loss: 248964.29171314463\n",
      "Cycle: 625, loss: 256504.701561444\n",
      "Cycle: 650, loss: 299048.1853748838\n",
      "Cycle: 675, loss: 218835.08347139508\n",
      "Cycle: 700, loss: 275858.8271103084\n",
      "Cycle: 725, loss: 274597.2191731838\n",
      "Cycle: 750, loss: 291462.40822096664\n"
     ]
    },
    {
     "ename": "KeyboardInterrupt",
     "evalue": "",
     "output_type": "error",
     "traceback": [
      "\u001b[0;31m---------------------------------------------------------------------------\u001b[0m",
      "\u001b[0;31mKeyboardInterrupt\u001b[0m                         Traceback (most recent call last)",
      "\u001b[0;32m<ipython-input-78-2dc27daeb561>\u001b[0m in \u001b[0;36m<module>\u001b[0;34m()\u001b[0m\n\u001b[1;32m      1\u001b[0m \u001b[0;32mfor\u001b[0m \u001b[0mi\u001b[0m \u001b[0;32min\u001b[0m \u001b[0mrange\u001b[0m\u001b[0;34m(\u001b[0m\u001b[0;36m2500\u001b[0m\u001b[0;34m)\u001b[0m\u001b[0;34m:\u001b[0m\u001b[0;34m\u001b[0m\u001b[0m\n\u001b[0;32m----> 2\u001b[0;31m     \u001b[0mh\u001b[0m \u001b[0;34m=\u001b[0m \u001b[0mnew_model\u001b[0m\u001b[0;34m.\u001b[0m\u001b[0mfit\u001b[0m\u001b[0;34m(\u001b[0m\u001b[0mdcx\u001b[0m\u001b[0;34m,\u001b[0m \u001b[0mdcy\u001b[0m\u001b[0;34m,\u001b[0m \u001b[0mepochs\u001b[0m\u001b[0;34m=\u001b[0m\u001b[0;36m1\u001b[0m\u001b[0;34m,\u001b[0m \u001b[0mbatch_size\u001b[0m\u001b[0;34m=\u001b[0m\u001b[0;36m1\u001b[0m\u001b[0;34m,\u001b[0m \u001b[0mverbose\u001b[0m\u001b[0;34m=\u001b[0m\u001b[0;36m0\u001b[0m\u001b[0;34m,\u001b[0m \u001b[0mshuffle\u001b[0m\u001b[0;34m=\u001b[0m\u001b[0;32mFalse\u001b[0m\u001b[0;34m)\u001b[0m\u001b[0;34m\u001b[0m\u001b[0m\n\u001b[0m\u001b[1;32m      3\u001b[0m     \u001b[0mnew_model\u001b[0m\u001b[0;34m.\u001b[0m\u001b[0mreset_states\u001b[0m\u001b[0;34m(\u001b[0m\u001b[0;34m)\u001b[0m\u001b[0;34m\u001b[0m\u001b[0m\n\u001b[1;32m      4\u001b[0m     \u001b[0;32mif\u001b[0m \u001b[0mi\u001b[0m \u001b[0;34m%\u001b[0m \u001b[0;36m25\u001b[0m \u001b[0;34m==\u001b[0m \u001b[0;36m0\u001b[0m\u001b[0;34m:\u001b[0m\u001b[0;34m\u001b[0m\u001b[0m\n\u001b[1;32m      5\u001b[0m         \u001b[0mprint\u001b[0m\u001b[0;34m(\u001b[0m\u001b[0;34m\"Cycle: {}, loss: {}\"\u001b[0m\u001b[0;34m.\u001b[0m\u001b[0mformat\u001b[0m\u001b[0;34m(\u001b[0m\u001b[0mi\u001b[0m\u001b[0;34m,\u001b[0m \u001b[0mh\u001b[0m\u001b[0;34m.\u001b[0m\u001b[0mhistory\u001b[0m\u001b[0;34m[\u001b[0m\u001b[0;34m'loss'\u001b[0m\u001b[0;34m]\u001b[0m\u001b[0;34m[\u001b[0m\u001b[0;34m-\u001b[0m\u001b[0;36m1\u001b[0m\u001b[0;34m]\u001b[0m\u001b[0;34m)\u001b[0m\u001b[0;34m)\u001b[0m\u001b[0;34m\u001b[0m\u001b[0m\n",
      "\u001b[0;32m/home/nischal/anaconda3/lib/python3.6/site-packages/keras/models.py\u001b[0m in \u001b[0;36mfit\u001b[0;34m(self, x, y, batch_size, epochs, verbose, callbacks, validation_split, validation_data, shuffle, class_weight, sample_weight, initial_epoch, **kwargs)\u001b[0m\n\u001b[1;32m    843\u001b[0m                               \u001b[0mclass_weight\u001b[0m\u001b[0;34m=\u001b[0m\u001b[0mclass_weight\u001b[0m\u001b[0;34m,\u001b[0m\u001b[0;34m\u001b[0m\u001b[0m\n\u001b[1;32m    844\u001b[0m                               \u001b[0msample_weight\u001b[0m\u001b[0;34m=\u001b[0m\u001b[0msample_weight\u001b[0m\u001b[0;34m,\u001b[0m\u001b[0;34m\u001b[0m\u001b[0m\n\u001b[0;32m--> 845\u001b[0;31m                               initial_epoch=initial_epoch)\n\u001b[0m\u001b[1;32m    846\u001b[0m \u001b[0;34m\u001b[0m\u001b[0m\n\u001b[1;32m    847\u001b[0m     def evaluate(self, x, y, batch_size=32, verbose=1,\n",
      "\u001b[0;32m/home/nischal/anaconda3/lib/python3.6/site-packages/keras/engine/training.py\u001b[0m in \u001b[0;36mfit\u001b[0;34m(self, x, y, batch_size, epochs, verbose, callbacks, validation_split, validation_data, shuffle, class_weight, sample_weight, initial_epoch, **kwargs)\u001b[0m\n\u001b[1;32m   1483\u001b[0m                               \u001b[0mval_f\u001b[0m\u001b[0;34m=\u001b[0m\u001b[0mval_f\u001b[0m\u001b[0;34m,\u001b[0m \u001b[0mval_ins\u001b[0m\u001b[0;34m=\u001b[0m\u001b[0mval_ins\u001b[0m\u001b[0;34m,\u001b[0m \u001b[0mshuffle\u001b[0m\u001b[0;34m=\u001b[0m\u001b[0mshuffle\u001b[0m\u001b[0;34m,\u001b[0m\u001b[0;34m\u001b[0m\u001b[0m\n\u001b[1;32m   1484\u001b[0m                               \u001b[0mcallback_metrics\u001b[0m\u001b[0;34m=\u001b[0m\u001b[0mcallback_metrics\u001b[0m\u001b[0;34m,\u001b[0m\u001b[0;34m\u001b[0m\u001b[0m\n\u001b[0;32m-> 1485\u001b[0;31m                               initial_epoch=initial_epoch)\n\u001b[0m\u001b[1;32m   1486\u001b[0m \u001b[0;34m\u001b[0m\u001b[0m\n\u001b[1;32m   1487\u001b[0m     \u001b[0;32mdef\u001b[0m \u001b[0mevaluate\u001b[0m\u001b[0;34m(\u001b[0m\u001b[0mself\u001b[0m\u001b[0;34m,\u001b[0m \u001b[0mx\u001b[0m\u001b[0;34m,\u001b[0m \u001b[0my\u001b[0m\u001b[0;34m,\u001b[0m \u001b[0mbatch_size\u001b[0m\u001b[0;34m=\u001b[0m\u001b[0;36m32\u001b[0m\u001b[0;34m,\u001b[0m \u001b[0mverbose\u001b[0m\u001b[0;34m=\u001b[0m\u001b[0;36m1\u001b[0m\u001b[0;34m,\u001b[0m \u001b[0msample_weight\u001b[0m\u001b[0;34m=\u001b[0m\u001b[0;32mNone\u001b[0m\u001b[0;34m)\u001b[0m\u001b[0;34m:\u001b[0m\u001b[0;34m\u001b[0m\u001b[0m\n",
      "\u001b[0;32m/home/nischal/anaconda3/lib/python3.6/site-packages/keras/engine/training.py\u001b[0m in \u001b[0;36m_fit_loop\u001b[0;34m(self, f, ins, out_labels, batch_size, epochs, verbose, callbacks, val_f, val_ins, shuffle, callback_metrics, initial_epoch)\u001b[0m\n\u001b[1;32m   1138\u001b[0m                 \u001b[0mbatch_logs\u001b[0m\u001b[0;34m[\u001b[0m\u001b[0;34m'size'\u001b[0m\u001b[0;34m]\u001b[0m \u001b[0;34m=\u001b[0m \u001b[0mlen\u001b[0m\u001b[0;34m(\u001b[0m\u001b[0mbatch_ids\u001b[0m\u001b[0;34m)\u001b[0m\u001b[0;34m\u001b[0m\u001b[0m\n\u001b[1;32m   1139\u001b[0m                 \u001b[0mcallbacks\u001b[0m\u001b[0;34m.\u001b[0m\u001b[0mon_batch_begin\u001b[0m\u001b[0;34m(\u001b[0m\u001b[0mbatch_index\u001b[0m\u001b[0;34m,\u001b[0m \u001b[0mbatch_logs\u001b[0m\u001b[0;34m)\u001b[0m\u001b[0;34m\u001b[0m\u001b[0m\n\u001b[0;32m-> 1140\u001b[0;31m                 \u001b[0mouts\u001b[0m \u001b[0;34m=\u001b[0m \u001b[0mf\u001b[0m\u001b[0;34m(\u001b[0m\u001b[0mins_batch\u001b[0m\u001b[0;34m)\u001b[0m\u001b[0;34m\u001b[0m\u001b[0m\n\u001b[0m\u001b[1;32m   1141\u001b[0m                 \u001b[0;32mif\u001b[0m \u001b[0;32mnot\u001b[0m \u001b[0misinstance\u001b[0m\u001b[0;34m(\u001b[0m\u001b[0mouts\u001b[0m\u001b[0;34m,\u001b[0m \u001b[0mlist\u001b[0m\u001b[0;34m)\u001b[0m\u001b[0;34m:\u001b[0m\u001b[0;34m\u001b[0m\u001b[0m\n\u001b[1;32m   1142\u001b[0m                     \u001b[0mouts\u001b[0m \u001b[0;34m=\u001b[0m \u001b[0;34m[\u001b[0m\u001b[0mouts\u001b[0m\u001b[0;34m]\u001b[0m\u001b[0;34m\u001b[0m\u001b[0m\n",
      "\u001b[0;32m/home/nischal/anaconda3/lib/python3.6/site-packages/keras/backend/tensorflow_backend.py\u001b[0m in \u001b[0;36m__call__\u001b[0;34m(self, inputs)\u001b[0m\n\u001b[1;32m   2071\u001b[0m         \u001b[0msession\u001b[0m \u001b[0;34m=\u001b[0m \u001b[0mget_session\u001b[0m\u001b[0;34m(\u001b[0m\u001b[0;34m)\u001b[0m\u001b[0;34m\u001b[0m\u001b[0m\n\u001b[1;32m   2072\u001b[0m         updated = session.run(self.outputs + [self.updates_op],\n\u001b[0;32m-> 2073\u001b[0;31m                               feed_dict=feed_dict)\n\u001b[0m\u001b[1;32m   2074\u001b[0m         \u001b[0;32mreturn\u001b[0m \u001b[0mupdated\u001b[0m\u001b[0;34m[\u001b[0m\u001b[0;34m:\u001b[0m\u001b[0mlen\u001b[0m\u001b[0;34m(\u001b[0m\u001b[0mself\u001b[0m\u001b[0;34m.\u001b[0m\u001b[0moutputs\u001b[0m\u001b[0;34m)\u001b[0m\u001b[0;34m]\u001b[0m\u001b[0;34m\u001b[0m\u001b[0m\n\u001b[1;32m   2075\u001b[0m \u001b[0;34m\u001b[0m\u001b[0m\n",
      "\u001b[0;32m/home/nischal/anaconda3/lib/python3.6/site-packages/tensorflow/python/client/session.py\u001b[0m in \u001b[0;36mrun\u001b[0;34m(self, fetches, feed_dict, options, run_metadata)\u001b[0m\n\u001b[1;32m    765\u001b[0m     \u001b[0;32mtry\u001b[0m\u001b[0;34m:\u001b[0m\u001b[0;34m\u001b[0m\u001b[0m\n\u001b[1;32m    766\u001b[0m       result = self._run(None, fetches, feed_dict, options_ptr,\n\u001b[0;32m--> 767\u001b[0;31m                          run_metadata_ptr)\n\u001b[0m\u001b[1;32m    768\u001b[0m       \u001b[0;32mif\u001b[0m \u001b[0mrun_metadata\u001b[0m\u001b[0;34m:\u001b[0m\u001b[0;34m\u001b[0m\u001b[0m\n\u001b[1;32m    769\u001b[0m         \u001b[0mproto_data\u001b[0m \u001b[0;34m=\u001b[0m \u001b[0mtf_session\u001b[0m\u001b[0;34m.\u001b[0m\u001b[0mTF_GetBuffer\u001b[0m\u001b[0;34m(\u001b[0m\u001b[0mrun_metadata_ptr\u001b[0m\u001b[0;34m)\u001b[0m\u001b[0;34m\u001b[0m\u001b[0m\n",
      "\u001b[0;32m/home/nischal/anaconda3/lib/python3.6/site-packages/tensorflow/python/client/session.py\u001b[0m in \u001b[0;36m_run\u001b[0;34m(self, handle, fetches, feed_dict, options, run_metadata)\u001b[0m\n\u001b[1;32m    938\u001b[0m           \u001b[0mnp_val\u001b[0m \u001b[0;34m=\u001b[0m \u001b[0mnp\u001b[0m\u001b[0;34m.\u001b[0m\u001b[0masarray\u001b[0m\u001b[0;34m(\u001b[0m\u001b[0msubfeed_val\u001b[0m\u001b[0;34m,\u001b[0m \u001b[0mdtype\u001b[0m\u001b[0;34m=\u001b[0m\u001b[0msubfeed_dtype\u001b[0m\u001b[0;34m)\u001b[0m\u001b[0;34m\u001b[0m\u001b[0m\n\u001b[1;32m    939\u001b[0m \u001b[0;34m\u001b[0m\u001b[0m\n\u001b[0;32m--> 940\u001b[0;31m           \u001b[0;32mif\u001b[0m \u001b[0;32mnot\u001b[0m \u001b[0msubfeed_t\u001b[0m\u001b[0;34m.\u001b[0m\u001b[0mget_shape\u001b[0m\u001b[0;34m(\u001b[0m\u001b[0;34m)\u001b[0m\u001b[0;34m.\u001b[0m\u001b[0mis_compatible_with\u001b[0m\u001b[0;34m(\u001b[0m\u001b[0mnp_val\u001b[0m\u001b[0;34m.\u001b[0m\u001b[0mshape\u001b[0m\u001b[0;34m)\u001b[0m\u001b[0;34m:\u001b[0m\u001b[0;34m\u001b[0m\u001b[0m\n\u001b[0m\u001b[1;32m    941\u001b[0m             raise ValueError(\n\u001b[1;32m    942\u001b[0m                 \u001b[0;34m'Cannot feed value of shape %r for Tensor %r, '\u001b[0m\u001b[0;34m\u001b[0m\u001b[0m\n",
      "\u001b[0;32m/home/nischal/anaconda3/lib/python3.6/site-packages/tensorflow/python/framework/tensor_shape.py\u001b[0m in \u001b[0;36mis_compatible_with\u001b[0;34m(self, other)\u001b[0m\n\u001b[1;32m    716\u001b[0m         \u001b[0;32mreturn\u001b[0m \u001b[0;32mFalse\u001b[0m\u001b[0;34m\u001b[0m\u001b[0m\n\u001b[1;32m    717\u001b[0m       \u001b[0;32mfor\u001b[0m \u001b[0mx_dim\u001b[0m\u001b[0;34m,\u001b[0m \u001b[0my_dim\u001b[0m \u001b[0;32min\u001b[0m \u001b[0mzip\u001b[0m\u001b[0;34m(\u001b[0m\u001b[0mself\u001b[0m\u001b[0;34m.\u001b[0m\u001b[0m_dims\u001b[0m\u001b[0;34m,\u001b[0m \u001b[0mother\u001b[0m\u001b[0;34m.\u001b[0m\u001b[0mdims\u001b[0m\u001b[0;34m)\u001b[0m\u001b[0;34m:\u001b[0m\u001b[0;34m\u001b[0m\u001b[0m\n\u001b[0;32m--> 718\u001b[0;31m         \u001b[0;32mif\u001b[0m \u001b[0;32mnot\u001b[0m \u001b[0mx_dim\u001b[0m\u001b[0;34m.\u001b[0m\u001b[0mis_compatible_with\u001b[0m\u001b[0;34m(\u001b[0m\u001b[0my_dim\u001b[0m\u001b[0;34m)\u001b[0m\u001b[0;34m:\u001b[0m\u001b[0;34m\u001b[0m\u001b[0m\n\u001b[0m\u001b[1;32m    719\u001b[0m           \u001b[0;32mreturn\u001b[0m \u001b[0;32mFalse\u001b[0m\u001b[0;34m\u001b[0m\u001b[0m\n\u001b[1;32m    720\u001b[0m     \u001b[0;32mreturn\u001b[0m \u001b[0;32mTrue\u001b[0m\u001b[0;34m\u001b[0m\u001b[0m\n",
      "\u001b[0;32m/home/nischal/anaconda3/lib/python3.6/site-packages/tensorflow/python/framework/tensor_shape.py\u001b[0m in \u001b[0;36mis_compatible_with\u001b[0;34m(self, other)\u001b[0m\n\u001b[1;32m     92\u001b[0m     return (self._value is None\n\u001b[1;32m     93\u001b[0m             \u001b[0;32mor\u001b[0m \u001b[0mother\u001b[0m\u001b[0;34m.\u001b[0m\u001b[0mvalue\u001b[0m \u001b[0;32mis\u001b[0m \u001b[0;32mNone\u001b[0m\u001b[0;34m\u001b[0m\u001b[0m\n\u001b[0;32m---> 94\u001b[0;31m             or self._value == other.value)\n\u001b[0m\u001b[1;32m     95\u001b[0m \u001b[0;34m\u001b[0m\u001b[0m\n\u001b[1;32m     96\u001b[0m   \u001b[0;32mdef\u001b[0m \u001b[0massert_is_compatible_with\u001b[0m\u001b[0;34m(\u001b[0m\u001b[0mself\u001b[0m\u001b[0;34m,\u001b[0m \u001b[0mother\u001b[0m\u001b[0;34m)\u001b[0m\u001b[0;34m:\u001b[0m\u001b[0;34m\u001b[0m\u001b[0m\n",
      "\u001b[0;32m/home/nischal/anaconda3/lib/python3.6/site-packages/tensorflow/python/framework/tensor_shape.py\u001b[0m in \u001b[0;36mvalue\u001b[0;34m(self)\u001b[0m\n\u001b[1;32m     72\u001b[0m     \u001b[0;32mreturn\u001b[0m \u001b[0mself\u001b[0m\u001b[0;34m.\u001b[0m\u001b[0m_value\u001b[0m\u001b[0;34m\u001b[0m\u001b[0m\n\u001b[1;32m     73\u001b[0m \u001b[0;34m\u001b[0m\u001b[0m\n\u001b[0;32m---> 74\u001b[0;31m   \u001b[0;34m@\u001b[0m\u001b[0mproperty\u001b[0m\u001b[0;34m\u001b[0m\u001b[0m\n\u001b[0m\u001b[1;32m     75\u001b[0m   \u001b[0;32mdef\u001b[0m \u001b[0mvalue\u001b[0m\u001b[0;34m(\u001b[0m\u001b[0mself\u001b[0m\u001b[0;34m)\u001b[0m\u001b[0;34m:\u001b[0m\u001b[0;34m\u001b[0m\u001b[0m\n\u001b[1;32m     76\u001b[0m     \u001b[0;34m\"\"\"The value of this dimension, or None if it is unknown.\"\"\"\u001b[0m\u001b[0;34m\u001b[0m\u001b[0m\n",
      "\u001b[0;31mKeyboardInterrupt\u001b[0m: "
     ]
    }
   ],
   "source": [
    "for i in range(2500):\n",
    "    h = new_model.fit(dcx, dcy, epochs=1, batch_size=1, verbose=0, shuffle=False)\n",
    "    new_model.reset_states()\n",
    "    if i % 25 == 0:\n",
    "        print(\"Cycle: {}, loss: {}\".format(i, h.history['loss'][-1]))"
   ]
  },
  {
   "cell_type": "code",
   "execution_count": 79,
   "metadata": {
    "collapsed": true,
    "deletable": true,
    "editable": true
   },
   "outputs": [],
   "source": [
    "new_model.save_weights(\"../models/new_model1\")"
   ]
  },
  {
   "cell_type": "markdown",
   "metadata": {
    "deletable": true,
    "editable": true
   },
   "source": [
    "## New 2"
   ]
  },
  {
   "cell_type": "code",
   "execution_count": null,
   "metadata": {
    "collapsed": true,
    "deletable": true,
    "editable": true
   },
   "outputs": [],
   "source": [
    "new2 = Sequential()\n",
    "new2.add(GRU(128, batch_input_shape=(1, dcx.shape[1], dcx.shape[2]), stateful=True, return_sequences=True))\n",
    "new2.add(GRU(256, stateful=True, return_sequences=True))\n",
    "new2.add(GRU(512, stateful=True))\n",
    "new2.add(Dense(1))"
   ]
  },
  {
   "cell_type": "code",
   "execution_count": 108,
   "metadata": {
    "collapsed": false,
    "deletable": true,
    "editable": true
   },
   "outputs": [
    {
     "name": "stdout",
     "output_type": "stream",
     "text": [
      "_________________________________________________________________\n",
      "Layer (type)                 Output Shape              Param #   \n",
      "=================================================================\n",
      "gru_36 (GRU)                 (1, 1, 128)               49920     \n",
      "_________________________________________________________________\n",
      "gru_37 (GRU)                 (1, 1, 256)               295680    \n",
      "_________________________________________________________________\n",
      "gru_38 (GRU)                 (1, 512)                  1181184   \n",
      "_________________________________________________________________\n",
      "dense_15 (Dense)             (1, 1)                    513       \n",
      "=================================================================\n",
      "Total params: 1,527,297.0\n",
      "Trainable params: 1,527,297\n",
      "Non-trainable params: 0.0\n",
      "_________________________________________________________________\n"
     ]
    }
   ],
   "source": [
    "new2.compile(loss='mse', optimizer='rmsprop')\n",
    "new2.summary()"
   ]
  },
  {
   "cell_type": "code",
   "execution_count": 110,
   "metadata": {
    "collapsed": true,
    "deletable": true,
    "editable": true
   },
   "outputs": [],
   "source": [
    "new2.load_weights(\"../models/new2_t2\")"
   ]
  },
  {
   "cell_type": "code",
   "execution_count": 115,
   "metadata": {
    "collapsed": true,
    "deletable": true,
    "editable": true
   },
   "outputs": [
    {
     "name": "stdout",
     "output_type": "stream",
     "text": [
      "Cycle: 0, loss: 169475.47717073958, l_min: 68939.14234560082\n",
      "Cycle: 5, loss: 128458.21667805487, l_min: 68939.14234560082\n",
      "Cycle: 10, loss: 121649.12483216524, l_min: 68939.14234560082\n",
      "Cycle: 15, loss: 121829.99556201267, l_min: 68939.14234560082\n",
      "Cycle: 20, loss: 107873.5603341251, l_min: 68939.14234560082\n",
      "Cycle: 25, loss: 121133.17701150278, l_min: 68939.14234560082\n",
      "Cycle: 30, loss: 126122.45257737189, l_min: 68939.14234560082\n",
      "Cycle: 35, loss: 107994.35538958122, l_min: 68939.14234560082\n",
      "Cycle: 40, loss: 128630.12539689506, l_min: 68939.14234560082\n",
      "Cycle: 45, loss: 130686.64933551665, l_min: 68939.14234560082\n",
      "Cycle: 50, loss: 127423.14466701151, l_min: 68939.14234560082\n"
     ]
    },
    {
     "ename": "KeyboardInterrupt",
     "evalue": "",
     "output_type": "error",
     "traceback": [
      "\u001b[0;31m---------------------------------------------------------------------------\u001b[0m",
      "\u001b[0;31mKeyboardInterrupt\u001b[0m                         Traceback (most recent call last)",
      "\u001b[0;32m<ipython-input-115-66cded86f395>\u001b[0m in \u001b[0;36m<module>\u001b[0;34m()\u001b[0m\n\u001b[1;32m      1\u001b[0m \u001b[0;31m# l_min = 10e10\u001b[0m\u001b[0;34m\u001b[0m\u001b[0;34m\u001b[0m\u001b[0m\n\u001b[1;32m      2\u001b[0m \u001b[0;32mfor\u001b[0m \u001b[0mi\u001b[0m \u001b[0;32min\u001b[0m \u001b[0mrange\u001b[0m\u001b[0;34m(\u001b[0m\u001b[0;36m100\u001b[0m\u001b[0;34m)\u001b[0m\u001b[0;34m:\u001b[0m\u001b[0;34m\u001b[0m\u001b[0m\n\u001b[0;32m----> 3\u001b[0;31m     \u001b[0mh\u001b[0m \u001b[0;34m=\u001b[0m \u001b[0mnew2\u001b[0m\u001b[0;34m.\u001b[0m\u001b[0mfit\u001b[0m\u001b[0;34m(\u001b[0m\u001b[0mdcx\u001b[0m\u001b[0;34m,\u001b[0m \u001b[0mdcy\u001b[0m\u001b[0;34m,\u001b[0m \u001b[0mepochs\u001b[0m\u001b[0;34m=\u001b[0m\u001b[0;36m1\u001b[0m\u001b[0;34m,\u001b[0m \u001b[0mbatch_size\u001b[0m\u001b[0;34m=\u001b[0m\u001b[0;36m1\u001b[0m\u001b[0;34m,\u001b[0m \u001b[0mverbose\u001b[0m\u001b[0;34m=\u001b[0m\u001b[0;36m0\u001b[0m\u001b[0;34m,\u001b[0m \u001b[0mshuffle\u001b[0m\u001b[0;34m=\u001b[0m\u001b[0;32mFalse\u001b[0m\u001b[0;34m)\u001b[0m\u001b[0;34m\u001b[0m\u001b[0m\n\u001b[0m\u001b[1;32m      4\u001b[0m     \u001b[0mnew2\u001b[0m\u001b[0;34m.\u001b[0m\u001b[0mreset_states\u001b[0m\u001b[0;34m(\u001b[0m\u001b[0;34m)\u001b[0m\u001b[0;34m\u001b[0m\u001b[0m\n\u001b[1;32m      5\u001b[0m     \u001b[0mloss\u001b[0m \u001b[0;34m=\u001b[0m \u001b[0mh\u001b[0m\u001b[0;34m.\u001b[0m\u001b[0mhistory\u001b[0m\u001b[0;34m[\u001b[0m\u001b[0;34m'loss'\u001b[0m\u001b[0;34m]\u001b[0m\u001b[0;34m[\u001b[0m\u001b[0;36m0\u001b[0m\u001b[0;34m]\u001b[0m\u001b[0;34m\u001b[0m\u001b[0m\n",
      "\u001b[0;32m/home/nischal/anaconda3/lib/python3.6/site-packages/keras/models.py\u001b[0m in \u001b[0;36mfit\u001b[0;34m(self, x, y, batch_size, epochs, verbose, callbacks, validation_split, validation_data, shuffle, class_weight, sample_weight, initial_epoch, **kwargs)\u001b[0m\n\u001b[1;32m    843\u001b[0m                               \u001b[0mclass_weight\u001b[0m\u001b[0;34m=\u001b[0m\u001b[0mclass_weight\u001b[0m\u001b[0;34m,\u001b[0m\u001b[0;34m\u001b[0m\u001b[0m\n\u001b[1;32m    844\u001b[0m                               \u001b[0msample_weight\u001b[0m\u001b[0;34m=\u001b[0m\u001b[0msample_weight\u001b[0m\u001b[0;34m,\u001b[0m\u001b[0;34m\u001b[0m\u001b[0m\n\u001b[0;32m--> 845\u001b[0;31m                               initial_epoch=initial_epoch)\n\u001b[0m\u001b[1;32m    846\u001b[0m \u001b[0;34m\u001b[0m\u001b[0m\n\u001b[1;32m    847\u001b[0m     def evaluate(self, x, y, batch_size=32, verbose=1,\n",
      "\u001b[0;32m/home/nischal/anaconda3/lib/python3.6/site-packages/keras/engine/training.py\u001b[0m in \u001b[0;36mfit\u001b[0;34m(self, x, y, batch_size, epochs, verbose, callbacks, validation_split, validation_data, shuffle, class_weight, sample_weight, initial_epoch, **kwargs)\u001b[0m\n\u001b[1;32m   1483\u001b[0m                               \u001b[0mval_f\u001b[0m\u001b[0;34m=\u001b[0m\u001b[0mval_f\u001b[0m\u001b[0;34m,\u001b[0m \u001b[0mval_ins\u001b[0m\u001b[0;34m=\u001b[0m\u001b[0mval_ins\u001b[0m\u001b[0;34m,\u001b[0m \u001b[0mshuffle\u001b[0m\u001b[0;34m=\u001b[0m\u001b[0mshuffle\u001b[0m\u001b[0;34m,\u001b[0m\u001b[0;34m\u001b[0m\u001b[0m\n\u001b[1;32m   1484\u001b[0m                               \u001b[0mcallback_metrics\u001b[0m\u001b[0;34m=\u001b[0m\u001b[0mcallback_metrics\u001b[0m\u001b[0;34m,\u001b[0m\u001b[0;34m\u001b[0m\u001b[0m\n\u001b[0;32m-> 1485\u001b[0;31m                               initial_epoch=initial_epoch)\n\u001b[0m\u001b[1;32m   1486\u001b[0m \u001b[0;34m\u001b[0m\u001b[0m\n\u001b[1;32m   1487\u001b[0m     \u001b[0;32mdef\u001b[0m \u001b[0mevaluate\u001b[0m\u001b[0;34m(\u001b[0m\u001b[0mself\u001b[0m\u001b[0;34m,\u001b[0m \u001b[0mx\u001b[0m\u001b[0;34m,\u001b[0m \u001b[0my\u001b[0m\u001b[0;34m,\u001b[0m \u001b[0mbatch_size\u001b[0m\u001b[0;34m=\u001b[0m\u001b[0;36m32\u001b[0m\u001b[0;34m,\u001b[0m \u001b[0mverbose\u001b[0m\u001b[0;34m=\u001b[0m\u001b[0;36m1\u001b[0m\u001b[0;34m,\u001b[0m \u001b[0msample_weight\u001b[0m\u001b[0;34m=\u001b[0m\u001b[0;32mNone\u001b[0m\u001b[0;34m)\u001b[0m\u001b[0;34m:\u001b[0m\u001b[0;34m\u001b[0m\u001b[0m\n",
      "\u001b[0;32m/home/nischal/anaconda3/lib/python3.6/site-packages/keras/engine/training.py\u001b[0m in \u001b[0;36m_fit_loop\u001b[0;34m(self, f, ins, out_labels, batch_size, epochs, verbose, callbacks, val_f, val_ins, shuffle, callback_metrics, initial_epoch)\u001b[0m\n\u001b[1;32m   1138\u001b[0m                 \u001b[0mbatch_logs\u001b[0m\u001b[0;34m[\u001b[0m\u001b[0;34m'size'\u001b[0m\u001b[0;34m]\u001b[0m \u001b[0;34m=\u001b[0m \u001b[0mlen\u001b[0m\u001b[0;34m(\u001b[0m\u001b[0mbatch_ids\u001b[0m\u001b[0;34m)\u001b[0m\u001b[0;34m\u001b[0m\u001b[0m\n\u001b[1;32m   1139\u001b[0m                 \u001b[0mcallbacks\u001b[0m\u001b[0;34m.\u001b[0m\u001b[0mon_batch_begin\u001b[0m\u001b[0;34m(\u001b[0m\u001b[0mbatch_index\u001b[0m\u001b[0;34m,\u001b[0m \u001b[0mbatch_logs\u001b[0m\u001b[0;34m)\u001b[0m\u001b[0;34m\u001b[0m\u001b[0m\n\u001b[0;32m-> 1140\u001b[0;31m                 \u001b[0mouts\u001b[0m \u001b[0;34m=\u001b[0m \u001b[0mf\u001b[0m\u001b[0;34m(\u001b[0m\u001b[0mins_batch\u001b[0m\u001b[0;34m)\u001b[0m\u001b[0;34m\u001b[0m\u001b[0m\n\u001b[0m\u001b[1;32m   1141\u001b[0m                 \u001b[0;32mif\u001b[0m \u001b[0;32mnot\u001b[0m \u001b[0misinstance\u001b[0m\u001b[0;34m(\u001b[0m\u001b[0mouts\u001b[0m\u001b[0;34m,\u001b[0m \u001b[0mlist\u001b[0m\u001b[0;34m)\u001b[0m\u001b[0;34m:\u001b[0m\u001b[0;34m\u001b[0m\u001b[0m\n\u001b[1;32m   1142\u001b[0m                     \u001b[0mouts\u001b[0m \u001b[0;34m=\u001b[0m \u001b[0;34m[\u001b[0m\u001b[0mouts\u001b[0m\u001b[0;34m]\u001b[0m\u001b[0;34m\u001b[0m\u001b[0m\n",
      "\u001b[0;32m/home/nischal/anaconda3/lib/python3.6/site-packages/keras/backend/tensorflow_backend.py\u001b[0m in \u001b[0;36m__call__\u001b[0;34m(self, inputs)\u001b[0m\n\u001b[1;32m   2071\u001b[0m         \u001b[0msession\u001b[0m \u001b[0;34m=\u001b[0m \u001b[0mget_session\u001b[0m\u001b[0;34m(\u001b[0m\u001b[0;34m)\u001b[0m\u001b[0;34m\u001b[0m\u001b[0m\n\u001b[1;32m   2072\u001b[0m         updated = session.run(self.outputs + [self.updates_op],\n\u001b[0;32m-> 2073\u001b[0;31m                               feed_dict=feed_dict)\n\u001b[0m\u001b[1;32m   2074\u001b[0m         \u001b[0;32mreturn\u001b[0m \u001b[0mupdated\u001b[0m\u001b[0;34m[\u001b[0m\u001b[0;34m:\u001b[0m\u001b[0mlen\u001b[0m\u001b[0;34m(\u001b[0m\u001b[0mself\u001b[0m\u001b[0;34m.\u001b[0m\u001b[0moutputs\u001b[0m\u001b[0;34m)\u001b[0m\u001b[0;34m]\u001b[0m\u001b[0;34m\u001b[0m\u001b[0m\n\u001b[1;32m   2075\u001b[0m \u001b[0;34m\u001b[0m\u001b[0m\n",
      "\u001b[0;32m/home/nischal/anaconda3/lib/python3.6/site-packages/tensorflow/python/client/session.py\u001b[0m in \u001b[0;36mrun\u001b[0;34m(self, fetches, feed_dict, options, run_metadata)\u001b[0m\n\u001b[1;32m    765\u001b[0m     \u001b[0;32mtry\u001b[0m\u001b[0;34m:\u001b[0m\u001b[0;34m\u001b[0m\u001b[0m\n\u001b[1;32m    766\u001b[0m       result = self._run(None, fetches, feed_dict, options_ptr,\n\u001b[0;32m--> 767\u001b[0;31m                          run_metadata_ptr)\n\u001b[0m\u001b[1;32m    768\u001b[0m       \u001b[0;32mif\u001b[0m \u001b[0mrun_metadata\u001b[0m\u001b[0;34m:\u001b[0m\u001b[0;34m\u001b[0m\u001b[0m\n\u001b[1;32m    769\u001b[0m         \u001b[0mproto_data\u001b[0m \u001b[0;34m=\u001b[0m \u001b[0mtf_session\u001b[0m\u001b[0;34m.\u001b[0m\u001b[0mTF_GetBuffer\u001b[0m\u001b[0;34m(\u001b[0m\u001b[0mrun_metadata_ptr\u001b[0m\u001b[0;34m)\u001b[0m\u001b[0;34m\u001b[0m\u001b[0m\n",
      "\u001b[0;32m/home/nischal/anaconda3/lib/python3.6/site-packages/tensorflow/python/client/session.py\u001b[0m in \u001b[0;36m_run\u001b[0;34m(self, handle, fetches, feed_dict, options, run_metadata)\u001b[0m\n\u001b[1;32m    963\u001b[0m     \u001b[0;32mif\u001b[0m \u001b[0mfinal_fetches\u001b[0m \u001b[0;32mor\u001b[0m \u001b[0mfinal_targets\u001b[0m\u001b[0;34m:\u001b[0m\u001b[0;34m\u001b[0m\u001b[0m\n\u001b[1;32m    964\u001b[0m       results = self._do_run(handle, final_targets, final_fetches,\n\u001b[0;32m--> 965\u001b[0;31m                              feed_dict_string, options, run_metadata)\n\u001b[0m\u001b[1;32m    966\u001b[0m     \u001b[0;32melse\u001b[0m\u001b[0;34m:\u001b[0m\u001b[0;34m\u001b[0m\u001b[0m\n\u001b[1;32m    967\u001b[0m       \u001b[0mresults\u001b[0m \u001b[0;34m=\u001b[0m \u001b[0;34m[\u001b[0m\u001b[0;34m]\u001b[0m\u001b[0;34m\u001b[0m\u001b[0m\n",
      "\u001b[0;32m/home/nischal/anaconda3/lib/python3.6/site-packages/tensorflow/python/client/session.py\u001b[0m in \u001b[0;36m_do_run\u001b[0;34m(self, handle, target_list, fetch_list, feed_dict, options, run_metadata)\u001b[0m\n\u001b[1;32m   1013\u001b[0m     \u001b[0;32mif\u001b[0m \u001b[0mhandle\u001b[0m \u001b[0;32mis\u001b[0m \u001b[0;32mNone\u001b[0m\u001b[0;34m:\u001b[0m\u001b[0;34m\u001b[0m\u001b[0m\n\u001b[1;32m   1014\u001b[0m       return self._do_call(_run_fn, self._session, feed_dict, fetch_list,\n\u001b[0;32m-> 1015\u001b[0;31m                            target_list, options, run_metadata)\n\u001b[0m\u001b[1;32m   1016\u001b[0m     \u001b[0;32melse\u001b[0m\u001b[0;34m:\u001b[0m\u001b[0;34m\u001b[0m\u001b[0m\n\u001b[1;32m   1017\u001b[0m       return self._do_call(_prun_fn, self._session, handle, feed_dict,\n",
      "\u001b[0;32m/home/nischal/anaconda3/lib/python3.6/site-packages/tensorflow/python/client/session.py\u001b[0m in \u001b[0;36m_do_call\u001b[0;34m(self, fn, *args)\u001b[0m\n\u001b[1;32m   1020\u001b[0m   \u001b[0;32mdef\u001b[0m \u001b[0m_do_call\u001b[0m\u001b[0;34m(\u001b[0m\u001b[0mself\u001b[0m\u001b[0;34m,\u001b[0m \u001b[0mfn\u001b[0m\u001b[0;34m,\u001b[0m \u001b[0;34m*\u001b[0m\u001b[0margs\u001b[0m\u001b[0;34m)\u001b[0m\u001b[0;34m:\u001b[0m\u001b[0;34m\u001b[0m\u001b[0m\n\u001b[1;32m   1021\u001b[0m     \u001b[0;32mtry\u001b[0m\u001b[0;34m:\u001b[0m\u001b[0;34m\u001b[0m\u001b[0m\n\u001b[0;32m-> 1022\u001b[0;31m       \u001b[0;32mreturn\u001b[0m \u001b[0mfn\u001b[0m\u001b[0;34m(\u001b[0m\u001b[0;34m*\u001b[0m\u001b[0margs\u001b[0m\u001b[0;34m)\u001b[0m\u001b[0;34m\u001b[0m\u001b[0m\n\u001b[0m\u001b[1;32m   1023\u001b[0m     \u001b[0;32mexcept\u001b[0m \u001b[0merrors\u001b[0m\u001b[0;34m.\u001b[0m\u001b[0mOpError\u001b[0m \u001b[0;32mas\u001b[0m \u001b[0me\u001b[0m\u001b[0;34m:\u001b[0m\u001b[0;34m\u001b[0m\u001b[0m\n\u001b[1;32m   1024\u001b[0m       \u001b[0mmessage\u001b[0m \u001b[0;34m=\u001b[0m \u001b[0mcompat\u001b[0m\u001b[0;34m.\u001b[0m\u001b[0mas_text\u001b[0m\u001b[0;34m(\u001b[0m\u001b[0me\u001b[0m\u001b[0;34m.\u001b[0m\u001b[0mmessage\u001b[0m\u001b[0;34m)\u001b[0m\u001b[0;34m\u001b[0m\u001b[0m\n",
      "\u001b[0;32m/home/nischal/anaconda3/lib/python3.6/site-packages/tensorflow/python/client/session.py\u001b[0m in \u001b[0;36m_run_fn\u001b[0;34m(session, feed_dict, fetch_list, target_list, options, run_metadata)\u001b[0m\n\u001b[1;32m   1002\u001b[0m         return tf_session.TF_Run(session, options,\n\u001b[1;32m   1003\u001b[0m                                  \u001b[0mfeed_dict\u001b[0m\u001b[0;34m,\u001b[0m \u001b[0mfetch_list\u001b[0m\u001b[0;34m,\u001b[0m \u001b[0mtarget_list\u001b[0m\u001b[0;34m,\u001b[0m\u001b[0;34m\u001b[0m\u001b[0m\n\u001b[0;32m-> 1004\u001b[0;31m                                  status, run_metadata)\n\u001b[0m\u001b[1;32m   1005\u001b[0m \u001b[0;34m\u001b[0m\u001b[0m\n\u001b[1;32m   1006\u001b[0m     \u001b[0;32mdef\u001b[0m \u001b[0m_prun_fn\u001b[0m\u001b[0;34m(\u001b[0m\u001b[0msession\u001b[0m\u001b[0;34m,\u001b[0m \u001b[0mhandle\u001b[0m\u001b[0;34m,\u001b[0m \u001b[0mfeed_dict\u001b[0m\u001b[0;34m,\u001b[0m \u001b[0mfetch_list\u001b[0m\u001b[0;34m)\u001b[0m\u001b[0;34m:\u001b[0m\u001b[0;34m\u001b[0m\u001b[0m\n",
      "\u001b[0;31mKeyboardInterrupt\u001b[0m: "
     ]
    }
   ],
   "source": [
    "# l_min = 10e10\n",
    "for i in range(100):\n",
    "    h = new2.fit(dcx, dcy, epochs=1, batch_size=1, verbose=0, shuffle=False)\n",
    "    new2.reset_states()\n",
    "    loss = h.history['loss'][0]\n",
    "    if loss < l_min:\n",
    "        l_min = loss\n",
    "        new2.save_weights(\"../models/new2_t2\") # loss at 68k\n",
    "        print(\"saving for loss: {}\".format(loss))\n",
    "    if i % 5 == 0:\n",
    "        print(\"Cycle: {}, loss: {}, l_min: {}\".format(i, loss, l_min))"
   ]
  },
  {
   "cell_type": "code",
   "execution_count": 90,
   "metadata": {
    "collapsed": true,
    "deletable": true,
    "editable": true
   },
   "outputs": [],
   "source": [
    "new2.save_weights(\"../models/new2_t1\")"
   ]
  },
  {
   "cell_type": "markdown",
   "metadata": {
    "deletable": true,
    "editable": true
   },
   "source": [
    "## New 3"
   ]
  },
  {
   "cell_type": "code",
   "execution_count": 120,
   "metadata": {
    "collapsed": false,
    "deletable": true,
    "editable": true
   },
   "outputs": [
    {
     "name": "stdout",
     "output_type": "stream",
     "text": [
      "_________________________________________________________________\n",
      "Layer (type)                 Output Shape              Param #   \n",
      "=================================================================\n",
      "gru_45 (GRU)                 (1, 1, 256)               198144    \n",
      "_________________________________________________________________\n",
      "gru_46 (GRU)                 (1, 1, 512)               1181184   \n",
      "_________________________________________________________________\n",
      "gru_47 (GRU)                 (1, 1024)                 4721664   \n",
      "_________________________________________________________________\n",
      "dense_18 (Dense)             (1, 1)                    1025      \n",
      "=================================================================\n",
      "Total params: 6,102,017.0\n",
      "Trainable params: 6,102,017\n",
      "Non-trainable params: 0.0\n",
      "_________________________________________________________________\n"
     ]
    }
   ],
   "source": [
    "new3 = Sequential()\n",
    "new3.add(GRU(256, batch_input_shape=(1, dcx.shape[1], dcx.shape[2]), stateful=True, return_sequences=True))\n",
    "new3.add(GRU(512, stateful=True, return_sequences=True))\n",
    "new3.add(GRU(1024, stateful=True))\n",
    "new3.add(Dense(1))\n",
    "new3.compile(loss='mse', optimizer='rmsprop')\n",
    "new3.summary()"
   ]
  },
  {
   "cell_type": "code",
   "execution_count": 121,
   "metadata": {
    "collapsed": true,
    "deletable": true,
    "editable": true
   },
   "outputs": [
    {
     "name": "stdout",
     "output_type": "stream",
     "text": [
      "saving for loss: 1033891.8230355014\n",
      "Cycle: 0, loss: 1033891.8230355014, l_min: 1033891.8230355014\n",
      "saving for loss: 996672.549457105\n",
      "saving for loss: 971067.5842756589\n",
      "Cycle: 5, loss: 1005844.2713866552, l_min: 971067.5842756589\n",
      "Cycle: 10, loss: 988984.8017049154, l_min: 971067.5842756589\n",
      "saving for loss: 968717.9839182297\n",
      "Cycle: 15, loss: 968717.9839182297, l_min: 968717.9839182297\n",
      "saving for loss: 954976.6511682193\n",
      "saving for loss: 946582.2893295448\n",
      "saving for loss: 942343.8553911884\n",
      "saving for loss: 936849.4520301946\n"
     ]
    },
    {
     "ename": "KeyboardInterrupt",
     "evalue": "",
     "output_type": "error",
     "traceback": [
      "\u001b[0;31m---------------------------------------------------------------------------\u001b[0m",
      "\u001b[0;31mKeyboardInterrupt\u001b[0m                         Traceback (most recent call last)",
      "\u001b[0;32m<ipython-input-121-763cd0583cf4>\u001b[0m in \u001b[0;36m<module>\u001b[0;34m()\u001b[0m\n\u001b[1;32m      1\u001b[0m \u001b[0ml_min\u001b[0m \u001b[0;34m=\u001b[0m \u001b[0;36m10e10\u001b[0m\u001b[0;34m\u001b[0m\u001b[0m\n\u001b[1;32m      2\u001b[0m \u001b[0;32mfor\u001b[0m \u001b[0mi\u001b[0m \u001b[0;32min\u001b[0m \u001b[0mrange\u001b[0m\u001b[0;34m(\u001b[0m\u001b[0;36m100\u001b[0m\u001b[0;34m)\u001b[0m\u001b[0;34m:\u001b[0m\u001b[0;34m\u001b[0m\u001b[0m\n\u001b[0;32m----> 3\u001b[0;31m     \u001b[0mh\u001b[0m \u001b[0;34m=\u001b[0m \u001b[0mnew3\u001b[0m\u001b[0;34m.\u001b[0m\u001b[0mfit\u001b[0m\u001b[0;34m(\u001b[0m\u001b[0mdcx\u001b[0m\u001b[0;34m,\u001b[0m \u001b[0mdcy\u001b[0m\u001b[0;34m,\u001b[0m \u001b[0mepochs\u001b[0m\u001b[0;34m=\u001b[0m\u001b[0;36m1\u001b[0m\u001b[0;34m,\u001b[0m \u001b[0mbatch_size\u001b[0m\u001b[0;34m=\u001b[0m\u001b[0;36m1\u001b[0m\u001b[0;34m,\u001b[0m \u001b[0mverbose\u001b[0m\u001b[0;34m=\u001b[0m\u001b[0;36m0\u001b[0m\u001b[0;34m,\u001b[0m \u001b[0mshuffle\u001b[0m\u001b[0;34m=\u001b[0m\u001b[0;32mFalse\u001b[0m\u001b[0;34m)\u001b[0m\u001b[0;34m\u001b[0m\u001b[0m\n\u001b[0m\u001b[1;32m      4\u001b[0m     \u001b[0mnew3\u001b[0m\u001b[0;34m.\u001b[0m\u001b[0mreset_states\u001b[0m\u001b[0;34m(\u001b[0m\u001b[0;34m)\u001b[0m\u001b[0;34m\u001b[0m\u001b[0m\n\u001b[1;32m      5\u001b[0m     \u001b[0mloss\u001b[0m \u001b[0;34m=\u001b[0m \u001b[0mh\u001b[0m\u001b[0;34m.\u001b[0m\u001b[0mhistory\u001b[0m\u001b[0;34m[\u001b[0m\u001b[0;34m'loss'\u001b[0m\u001b[0;34m]\u001b[0m\u001b[0;34m[\u001b[0m\u001b[0;36m0\u001b[0m\u001b[0;34m]\u001b[0m\u001b[0;34m\u001b[0m\u001b[0m\n",
      "\u001b[0;32m/home/nischal/anaconda3/lib/python3.6/site-packages/keras/models.py\u001b[0m in \u001b[0;36mfit\u001b[0;34m(self, x, y, batch_size, epochs, verbose, callbacks, validation_split, validation_data, shuffle, class_weight, sample_weight, initial_epoch, **kwargs)\u001b[0m\n\u001b[1;32m    843\u001b[0m                               \u001b[0mclass_weight\u001b[0m\u001b[0;34m=\u001b[0m\u001b[0mclass_weight\u001b[0m\u001b[0;34m,\u001b[0m\u001b[0;34m\u001b[0m\u001b[0m\n\u001b[1;32m    844\u001b[0m                               \u001b[0msample_weight\u001b[0m\u001b[0;34m=\u001b[0m\u001b[0msample_weight\u001b[0m\u001b[0;34m,\u001b[0m\u001b[0;34m\u001b[0m\u001b[0m\n\u001b[0;32m--> 845\u001b[0;31m                               initial_epoch=initial_epoch)\n\u001b[0m\u001b[1;32m    846\u001b[0m \u001b[0;34m\u001b[0m\u001b[0m\n\u001b[1;32m    847\u001b[0m     def evaluate(self, x, y, batch_size=32, verbose=1,\n",
      "\u001b[0;32m/home/nischal/anaconda3/lib/python3.6/site-packages/keras/engine/training.py\u001b[0m in \u001b[0;36mfit\u001b[0;34m(self, x, y, batch_size, epochs, verbose, callbacks, validation_split, validation_data, shuffle, class_weight, sample_weight, initial_epoch, **kwargs)\u001b[0m\n\u001b[1;32m   1483\u001b[0m                               \u001b[0mval_f\u001b[0m\u001b[0;34m=\u001b[0m\u001b[0mval_f\u001b[0m\u001b[0;34m,\u001b[0m \u001b[0mval_ins\u001b[0m\u001b[0;34m=\u001b[0m\u001b[0mval_ins\u001b[0m\u001b[0;34m,\u001b[0m \u001b[0mshuffle\u001b[0m\u001b[0;34m=\u001b[0m\u001b[0mshuffle\u001b[0m\u001b[0;34m,\u001b[0m\u001b[0;34m\u001b[0m\u001b[0m\n\u001b[1;32m   1484\u001b[0m                               \u001b[0mcallback_metrics\u001b[0m\u001b[0;34m=\u001b[0m\u001b[0mcallback_metrics\u001b[0m\u001b[0;34m,\u001b[0m\u001b[0;34m\u001b[0m\u001b[0m\n\u001b[0;32m-> 1485\u001b[0;31m                               initial_epoch=initial_epoch)\n\u001b[0m\u001b[1;32m   1486\u001b[0m \u001b[0;34m\u001b[0m\u001b[0m\n\u001b[1;32m   1487\u001b[0m     \u001b[0;32mdef\u001b[0m \u001b[0mevaluate\u001b[0m\u001b[0;34m(\u001b[0m\u001b[0mself\u001b[0m\u001b[0;34m,\u001b[0m \u001b[0mx\u001b[0m\u001b[0;34m,\u001b[0m \u001b[0my\u001b[0m\u001b[0;34m,\u001b[0m \u001b[0mbatch_size\u001b[0m\u001b[0;34m=\u001b[0m\u001b[0;36m32\u001b[0m\u001b[0;34m,\u001b[0m \u001b[0mverbose\u001b[0m\u001b[0;34m=\u001b[0m\u001b[0;36m1\u001b[0m\u001b[0;34m,\u001b[0m \u001b[0msample_weight\u001b[0m\u001b[0;34m=\u001b[0m\u001b[0;32mNone\u001b[0m\u001b[0;34m)\u001b[0m\u001b[0;34m:\u001b[0m\u001b[0;34m\u001b[0m\u001b[0m\n",
      "\u001b[0;32m/home/nischal/anaconda3/lib/python3.6/site-packages/keras/engine/training.py\u001b[0m in \u001b[0;36m_fit_loop\u001b[0;34m(self, f, ins, out_labels, batch_size, epochs, verbose, callbacks, val_f, val_ins, shuffle, callback_metrics, initial_epoch)\u001b[0m\n\u001b[1;32m   1138\u001b[0m                 \u001b[0mbatch_logs\u001b[0m\u001b[0;34m[\u001b[0m\u001b[0;34m'size'\u001b[0m\u001b[0;34m]\u001b[0m \u001b[0;34m=\u001b[0m \u001b[0mlen\u001b[0m\u001b[0;34m(\u001b[0m\u001b[0mbatch_ids\u001b[0m\u001b[0;34m)\u001b[0m\u001b[0;34m\u001b[0m\u001b[0m\n\u001b[1;32m   1139\u001b[0m                 \u001b[0mcallbacks\u001b[0m\u001b[0;34m.\u001b[0m\u001b[0mon_batch_begin\u001b[0m\u001b[0;34m(\u001b[0m\u001b[0mbatch_index\u001b[0m\u001b[0;34m,\u001b[0m \u001b[0mbatch_logs\u001b[0m\u001b[0;34m)\u001b[0m\u001b[0;34m\u001b[0m\u001b[0m\n\u001b[0;32m-> 1140\u001b[0;31m                 \u001b[0mouts\u001b[0m \u001b[0;34m=\u001b[0m \u001b[0mf\u001b[0m\u001b[0;34m(\u001b[0m\u001b[0mins_batch\u001b[0m\u001b[0;34m)\u001b[0m\u001b[0;34m\u001b[0m\u001b[0m\n\u001b[0m\u001b[1;32m   1141\u001b[0m                 \u001b[0;32mif\u001b[0m \u001b[0;32mnot\u001b[0m \u001b[0misinstance\u001b[0m\u001b[0;34m(\u001b[0m\u001b[0mouts\u001b[0m\u001b[0;34m,\u001b[0m \u001b[0mlist\u001b[0m\u001b[0;34m)\u001b[0m\u001b[0;34m:\u001b[0m\u001b[0;34m\u001b[0m\u001b[0m\n\u001b[1;32m   1142\u001b[0m                     \u001b[0mouts\u001b[0m \u001b[0;34m=\u001b[0m \u001b[0;34m[\u001b[0m\u001b[0mouts\u001b[0m\u001b[0;34m]\u001b[0m\u001b[0;34m\u001b[0m\u001b[0m\n",
      "\u001b[0;32m/home/nischal/anaconda3/lib/python3.6/site-packages/keras/backend/tensorflow_backend.py\u001b[0m in \u001b[0;36m__call__\u001b[0;34m(self, inputs)\u001b[0m\n\u001b[1;32m   2071\u001b[0m         \u001b[0msession\u001b[0m \u001b[0;34m=\u001b[0m \u001b[0mget_session\u001b[0m\u001b[0;34m(\u001b[0m\u001b[0;34m)\u001b[0m\u001b[0;34m\u001b[0m\u001b[0m\n\u001b[1;32m   2072\u001b[0m         updated = session.run(self.outputs + [self.updates_op],\n\u001b[0;32m-> 2073\u001b[0;31m                               feed_dict=feed_dict)\n\u001b[0m\u001b[1;32m   2074\u001b[0m         \u001b[0;32mreturn\u001b[0m \u001b[0mupdated\u001b[0m\u001b[0;34m[\u001b[0m\u001b[0;34m:\u001b[0m\u001b[0mlen\u001b[0m\u001b[0;34m(\u001b[0m\u001b[0mself\u001b[0m\u001b[0;34m.\u001b[0m\u001b[0moutputs\u001b[0m\u001b[0;34m)\u001b[0m\u001b[0;34m]\u001b[0m\u001b[0;34m\u001b[0m\u001b[0m\n\u001b[1;32m   2075\u001b[0m \u001b[0;34m\u001b[0m\u001b[0m\n",
      "\u001b[0;32m/home/nischal/anaconda3/lib/python3.6/site-packages/tensorflow/python/client/session.py\u001b[0m in \u001b[0;36mrun\u001b[0;34m(self, fetches, feed_dict, options, run_metadata)\u001b[0m\n\u001b[1;32m    765\u001b[0m     \u001b[0;32mtry\u001b[0m\u001b[0;34m:\u001b[0m\u001b[0;34m\u001b[0m\u001b[0m\n\u001b[1;32m    766\u001b[0m       result = self._run(None, fetches, feed_dict, options_ptr,\n\u001b[0;32m--> 767\u001b[0;31m                          run_metadata_ptr)\n\u001b[0m\u001b[1;32m    768\u001b[0m       \u001b[0;32mif\u001b[0m \u001b[0mrun_metadata\u001b[0m\u001b[0;34m:\u001b[0m\u001b[0;34m\u001b[0m\u001b[0m\n\u001b[1;32m    769\u001b[0m         \u001b[0mproto_data\u001b[0m \u001b[0;34m=\u001b[0m \u001b[0mtf_session\u001b[0m\u001b[0;34m.\u001b[0m\u001b[0mTF_GetBuffer\u001b[0m\u001b[0;34m(\u001b[0m\u001b[0mrun_metadata_ptr\u001b[0m\u001b[0;34m)\u001b[0m\u001b[0;34m\u001b[0m\u001b[0m\n",
      "\u001b[0;32m/home/nischal/anaconda3/lib/python3.6/site-packages/tensorflow/python/client/session.py\u001b[0m in \u001b[0;36m_run\u001b[0;34m(self, handle, fetches, feed_dict, options, run_metadata)\u001b[0m\n\u001b[1;32m    963\u001b[0m     \u001b[0;32mif\u001b[0m \u001b[0mfinal_fetches\u001b[0m \u001b[0;32mor\u001b[0m \u001b[0mfinal_targets\u001b[0m\u001b[0;34m:\u001b[0m\u001b[0;34m\u001b[0m\u001b[0m\n\u001b[1;32m    964\u001b[0m       results = self._do_run(handle, final_targets, final_fetches,\n\u001b[0;32m--> 965\u001b[0;31m                              feed_dict_string, options, run_metadata)\n\u001b[0m\u001b[1;32m    966\u001b[0m     \u001b[0;32melse\u001b[0m\u001b[0;34m:\u001b[0m\u001b[0;34m\u001b[0m\u001b[0m\n\u001b[1;32m    967\u001b[0m       \u001b[0mresults\u001b[0m \u001b[0;34m=\u001b[0m \u001b[0;34m[\u001b[0m\u001b[0;34m]\u001b[0m\u001b[0;34m\u001b[0m\u001b[0m\n",
      "\u001b[0;32m/home/nischal/anaconda3/lib/python3.6/site-packages/tensorflow/python/client/session.py\u001b[0m in \u001b[0;36m_do_run\u001b[0;34m(self, handle, target_list, fetch_list, feed_dict, options, run_metadata)\u001b[0m\n\u001b[1;32m   1013\u001b[0m     \u001b[0;32mif\u001b[0m \u001b[0mhandle\u001b[0m \u001b[0;32mis\u001b[0m \u001b[0;32mNone\u001b[0m\u001b[0;34m:\u001b[0m\u001b[0;34m\u001b[0m\u001b[0m\n\u001b[1;32m   1014\u001b[0m       return self._do_call(_run_fn, self._session, feed_dict, fetch_list,\n\u001b[0;32m-> 1015\u001b[0;31m                            target_list, options, run_metadata)\n\u001b[0m\u001b[1;32m   1016\u001b[0m     \u001b[0;32melse\u001b[0m\u001b[0;34m:\u001b[0m\u001b[0;34m\u001b[0m\u001b[0m\n\u001b[1;32m   1017\u001b[0m       return self._do_call(_prun_fn, self._session, handle, feed_dict,\n",
      "\u001b[0;32m/home/nischal/anaconda3/lib/python3.6/site-packages/tensorflow/python/client/session.py\u001b[0m in \u001b[0;36m_do_call\u001b[0;34m(self, fn, *args)\u001b[0m\n\u001b[1;32m   1020\u001b[0m   \u001b[0;32mdef\u001b[0m \u001b[0m_do_call\u001b[0m\u001b[0;34m(\u001b[0m\u001b[0mself\u001b[0m\u001b[0;34m,\u001b[0m \u001b[0mfn\u001b[0m\u001b[0;34m,\u001b[0m \u001b[0;34m*\u001b[0m\u001b[0margs\u001b[0m\u001b[0;34m)\u001b[0m\u001b[0;34m:\u001b[0m\u001b[0;34m\u001b[0m\u001b[0m\n\u001b[1;32m   1021\u001b[0m     \u001b[0;32mtry\u001b[0m\u001b[0;34m:\u001b[0m\u001b[0;34m\u001b[0m\u001b[0m\n\u001b[0;32m-> 1022\u001b[0;31m       \u001b[0;32mreturn\u001b[0m \u001b[0mfn\u001b[0m\u001b[0;34m(\u001b[0m\u001b[0;34m*\u001b[0m\u001b[0margs\u001b[0m\u001b[0;34m)\u001b[0m\u001b[0;34m\u001b[0m\u001b[0m\n\u001b[0m\u001b[1;32m   1023\u001b[0m     \u001b[0;32mexcept\u001b[0m \u001b[0merrors\u001b[0m\u001b[0;34m.\u001b[0m\u001b[0mOpError\u001b[0m \u001b[0;32mas\u001b[0m \u001b[0me\u001b[0m\u001b[0;34m:\u001b[0m\u001b[0;34m\u001b[0m\u001b[0m\n\u001b[1;32m   1024\u001b[0m       \u001b[0mmessage\u001b[0m \u001b[0;34m=\u001b[0m \u001b[0mcompat\u001b[0m\u001b[0;34m.\u001b[0m\u001b[0mas_text\u001b[0m\u001b[0;34m(\u001b[0m\u001b[0me\u001b[0m\u001b[0;34m.\u001b[0m\u001b[0mmessage\u001b[0m\u001b[0;34m)\u001b[0m\u001b[0;34m\u001b[0m\u001b[0m\n",
      "\u001b[0;32m/home/nischal/anaconda3/lib/python3.6/site-packages/tensorflow/python/client/session.py\u001b[0m in \u001b[0;36m_run_fn\u001b[0;34m(session, feed_dict, fetch_list, target_list, options, run_metadata)\u001b[0m\n\u001b[1;32m   1002\u001b[0m         return tf_session.TF_Run(session, options,\n\u001b[1;32m   1003\u001b[0m                                  \u001b[0mfeed_dict\u001b[0m\u001b[0;34m,\u001b[0m \u001b[0mfetch_list\u001b[0m\u001b[0;34m,\u001b[0m \u001b[0mtarget_list\u001b[0m\u001b[0;34m,\u001b[0m\u001b[0;34m\u001b[0m\u001b[0m\n\u001b[0;32m-> 1004\u001b[0;31m                                  status, run_metadata)\n\u001b[0m\u001b[1;32m   1005\u001b[0m \u001b[0;34m\u001b[0m\u001b[0m\n\u001b[1;32m   1006\u001b[0m     \u001b[0;32mdef\u001b[0m \u001b[0m_prun_fn\u001b[0m\u001b[0;34m(\u001b[0m\u001b[0msession\u001b[0m\u001b[0;34m,\u001b[0m \u001b[0mhandle\u001b[0m\u001b[0;34m,\u001b[0m \u001b[0mfeed_dict\u001b[0m\u001b[0;34m,\u001b[0m \u001b[0mfetch_list\u001b[0m\u001b[0;34m)\u001b[0m\u001b[0;34m:\u001b[0m\u001b[0;34m\u001b[0m\u001b[0m\n",
      "\u001b[0;31mKeyboardInterrupt\u001b[0m: "
     ]
    }
   ],
   "source": [
    "l_min = 10e10\n",
    "for i in range(100):\n",
    "    h = new3.fit(dcx, dcy, epochs=1, batch_size=1, verbose=0, shuffle=False)\n",
    "    new3.reset_states()\n",
    "    loss = h.history['loss'][0]\n",
    "    if loss < l_min:\n",
    "        l_min = loss\n",
    "        new3.save_weights(\"../models/new3_t1\")\n",
    "        print(\"saving for loss: {}\".format(loss))\n",
    "    if i % 5 == 0:\n",
    "        print(\"Cycle: {}, loss: {}, l_min: {}\".format(i, loss, l_min))"
   ]
  }
 ],
 "metadata": {
  "kernelspec": {
   "display_name": "Python 3",
   "language": "python",
   "name": "python3"
  },
  "language_info": {
   "codemirror_mode": {
    "name": "ipython",
    "version": 3
   },
   "file_extension": ".py",
   "mimetype": "text/x-python",
   "name": "python",
   "nbconvert_exporter": "python",
   "pygments_lexer": "ipython3",
   "version": "3.6.0"
  }
 },
 "nbformat": 4,
 "nbformat_minor": 2
}
