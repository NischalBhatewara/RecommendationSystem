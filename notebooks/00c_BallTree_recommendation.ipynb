{
 "cells": [
  {
   "cell_type": "markdown",
   "metadata": {},
   "source": [
    "## Imports"
   ]
  },
  {
   "cell_type": "code",
   "execution_count": 1,
   "metadata": {
    "collapsed": true,
    "deletable": true,
    "editable": true
   },
   "outputs": [],
   "source": [
    "import numpy as np\n",
    "import pandas as pd"
   ]
  },
  {
   "cell_type": "markdown",
   "metadata": {},
   "source": [
    "## Load and format data\n",
    "\n",
    "Load data from csv saved from feature engineering process."
   ]
  },
  {
   "cell_type": "code",
   "execution_count": 2,
   "metadata": {
    "collapsed": true,
    "deletable": true,
    "editable": true
   },
   "outputs": [],
   "source": [
    "def load_imdb(path):\n",
    "    data = pd.read_csv(path)\n",
    "    movies = data['movie_title']\n",
    "    data.drop('movie_title', axis=1, inplace=True)\n",
    "    data.set_index(movies, inplace=True)\n",
    "    return movies, data"
   ]
  },
  {
   "cell_type": "code",
   "execution_count": 3,
   "metadata": {
    "collapsed": false,
    "deletable": true,
    "editable": true
   },
   "outputs": [],
   "source": [
    "movies, imdb = load_imdb('../data/imdb_dataset.csv')\n",
    "imdb2 = pd.read_csv('../data/imdb_dataset.csv')\n",
    "movies2 = imdb2.movie_title.copy()"
   ]
  },
  {
   "cell_type": "markdown",
   "metadata": {},
   "source": [
    "## KDTree and BallTreee"
   ]
  },
  {
   "cell_type": "code",
   "execution_count": 4,
   "metadata": {
    "collapsed": true,
    "deletable": true,
    "editable": true
   },
   "outputs": [],
   "source": [
    "from sklearn.neighbors import BallTree, KDTree"
   ]
  },
  {
   "cell_type": "code",
   "execution_count": 5,
   "metadata": {
    "collapsed": false,
    "deletable": true,
    "editable": true
   },
   "outputs": [],
   "source": [
    "btree = BallTree(imdb, leaf_size=5)\n",
    "kdtree = KDTree(imdb, leaf_size=2)"
   ]
  },
  {
   "cell_type": "markdown",
   "metadata": {},
   "source": [
    "The array `liked` contains the list of movies the user has liked, based on these movies, the system recommends `n_movies` movies for each element in `liked`\n",
    "<hr>\n",
    "For example, if the user has liked movies:\n",
    "    1. Pirates of the Caribbean: At World's End\n",
    "    2. Spectre\n",
    "    3. Spider-Man 3\n",
    "the `liked` array will be `[1, 2, 6]`"
   ]
  },
  {
   "cell_type": "code",
   "execution_count": 6,
   "metadata": {
    "collapsed": false,
    "deletable": true,
    "editable": true
   },
   "outputs": [
    {
     "name": "stdout",
     "output_type": "stream",
     "text": [
      "Index(['Pirates of the Caribbean: At World's End', 'Spectre', 'Spider-Man 3'], dtype='object', name='movie_title')\n"
     ]
    }
   ],
   "source": [
    "liked = movies[[1, 2, 6]].index\n",
    "l_imdb = imdb.iloc[liked, :]\n",
    "print(l_imdb.index)"
   ]
  },
  {
   "cell_type": "code",
   "execution_count": 7,
   "metadata": {
    "collapsed": true
   },
   "outputs": [],
   "source": [
    "n_movies = 5 # number of movies to recommend for each element in array liked"
   ]
  },
  {
   "cell_type": "code",
   "execution_count": 8,
   "metadata": {
    "collapsed": false,
    "deletable": true,
    "editable": true
   },
   "outputs": [
    {
     "name": "stdout",
     "output_type": "stream",
     "text": [
      "\n",
      "Because you liked Pirates of the Caribbean: At World's End:\n",
      "\t1. A Christmas Carol\n",
      "\t2. Gangs of New York\n",
      "\t3. Michael Collins\n",
      "\t4. Austin Powers: The Spy Who Shagged Me\n",
      "\n",
      "Because you liked Spectre:\n",
      "\t1. The Hobbit: The Desolation of Smaug\n",
      "\t2. Suicide Squad\n",
      "\t3. Maleficent\n",
      "\t4. The Theory of Everything\n",
      "\n",
      "Because you liked Spider-Man 3:\n",
      "\t1. Spider-Man 3\n",
      "\t2. Yoga Hosers\n",
      "\t3. Get Smart\n",
      "\t4. Flawless\n"
     ]
    }
   ],
   "source": [
    "dist, index = btree.query(l_imdb, n_movies) # ball tree query\n",
    "for ind in index:\n",
    "    print(\"\\nBecause you liked {}:\".format(movies[ind[0]]))\n",
    "    for n, i in enumerate(ind[1:]):\n",
    "        print(\"\\t{}. {}\".format(n+1, movies[i]))"
   ]
  },
  {
   "cell_type": "code",
   "execution_count": 9,
   "metadata": {
    "collapsed": false
   },
   "outputs": [
    {
     "name": "stdout",
     "output_type": "stream",
     "text": [
      "\n",
      "Because you liked Pirates of the Caribbean: At World's End:\n",
      "\t1. A Christmas Carol\n",
      "\t2. Gangs of New York\n",
      "\t3. Michael Collins\n",
      "\t4. Austin Powers: The Spy Who Shagged Me\n",
      "\n",
      "Because you liked Spectre:\n",
      "\t1. The Hobbit: The Desolation of Smaug\n",
      "\t2. Suicide Squad\n",
      "\t3. Maleficent\n",
      "\t4. The Theory of Everything\n",
      "\n",
      "Because you liked Spider-Man 3:\n",
      "\t1. Spider-Man 3\n",
      "\t2. Yoga Hosers\n",
      "\t3. Get Smart\n",
      "\t4. Flawless\n"
     ]
    }
   ],
   "source": [
    "dist, index = kdtree.query(l_imdb, n_movies) # kd tree query\n",
    "for ind in index: \n",
    "    print(\"\\nBecause you liked {}:\".format(movies[ind[0]]))\n",
    "    for n, i in enumerate(ind[1:]):\n",
    "        print(\"\\t{}. {}\".format(n+1, movies[i]))"
   ]
  },
  {
   "cell_type": "markdown",
   "metadata": {},
   "source": [
    "The recommendations are not fitting and need refinement."
   ]
  }
 ],
 "metadata": {
  "kernelspec": {
   "display_name": "Python 3",
   "language": "python",
   "name": "python3"
  },
  "language_info": {
   "codemirror_mode": {
    "name": "ipython",
    "version": 3
   },
   "file_extension": ".py",
   "mimetype": "text/x-python",
   "name": "python",
   "nbconvert_exporter": "python",
   "pygments_lexer": "ipython3",
   "version": "3.6.0"
  }
 },
 "nbformat": 4,
 "nbformat_minor": 2
}
