{
 "cells": [
  {
   "cell_type": "code",
   "execution_count": 1,
   "metadata": {
    "collapsed": true,
    "deletable": true,
    "editable": true
   },
   "outputs": [],
   "source": [
    "import numpy as np\n",
    "import pandas as pd\n",
    "import matplotlib.pyplot as plt\n",
    "%matplotlib inline"
   ]
  },
  {
   "cell_type": "code",
   "execution_count": 2,
   "metadata": {
    "collapsed": true,
    "deletable": true,
    "editable": true
   },
   "outputs": [],
   "source": [
    "def load_imdb(path):\n",
    "    data = pd.read_csv(path)\n",
    "    movies = data['movie_title']\n",
    "    data.drop('movie_title', axis=1, inplace=True)\n",
    "    data.set_index(movies, inplace=True)\n",
    "    return movies, data"
   ]
  },
  {
   "cell_type": "code",
   "execution_count": 26,
   "metadata": {
    "collapsed": false,
    "deletable": true,
    "editable": true
   },
   "outputs": [],
   "source": [
    "movies, imdb = load_imdb('../data/imdb_dataset.csv')\n",
    "imdb2 = pd.read_csv('../data/imdb_dataset.csv')\n",
    "movies2 = imdb2.movie_title.copy()"
   ]
  },
  {
   "cell_type": "code",
   "execution_count": 27,
   "metadata": {
    "collapsed": false,
    "deletable": true,
    "editable": true
   },
   "outputs": [
    {
     "data": {
      "text/plain": [
       "Index(['duration', 'cast_total_facebook_likes', 'title_year', 'imdb_score',\n",
       "       'movie_facebook_likes', 'director_id', 'actor_2_id', 'actor_1_id',\n",
       "       'actor_3_id', 'Action', 'Sport', 'Reality-TV', 'Animation', 'Western',\n",
       "       'Music', 'Comedy', 'Adventure', 'Short', 'Musical', 'Documentary',\n",
       "       'Film-Noir', 'News', 'Sci-Fi', 'Game-Show', 'War', 'Thriller',\n",
       "       'Fantasy', 'Drama', 'Horror', 'Family', 'Mystery', 'Biography', 'Crime',\n",
       "       'History', 'Romance', 'language_id', 'country_id', 'content_rating_id'],\n",
       "      dtype='object')"
      ]
     },
     "execution_count": 27,
     "metadata": {},
     "output_type": "execute_result"
    }
   ],
   "source": [
    "imdb.columns"
   ]
  },
  {
   "cell_type": "code",
   "execution_count": 28,
   "metadata": {
    "collapsed": false
   },
   "outputs": [
    {
     "data": {
      "text/html": [
       "<div>\n",
       "<table border=\"1\" class=\"dataframe\">\n",
       "  <thead>\n",
       "    <tr style=\"text-align: right;\">\n",
       "      <th></th>\n",
       "      <th>duration</th>\n",
       "      <th>cast_total_facebook_likes</th>\n",
       "      <th>title_year</th>\n",
       "      <th>imdb_score</th>\n",
       "      <th>movie_facebook_likes</th>\n",
       "      <th>director_id</th>\n",
       "      <th>actor_2_id</th>\n",
       "      <th>actor_1_id</th>\n",
       "      <th>actor_3_id</th>\n",
       "      <th>Action</th>\n",
       "      <th>...</th>\n",
       "      <th>Family</th>\n",
       "      <th>Mystery</th>\n",
       "      <th>Biography</th>\n",
       "      <th>Crime</th>\n",
       "      <th>History</th>\n",
       "      <th>Romance</th>\n",
       "      <th>language_id</th>\n",
       "      <th>country_id</th>\n",
       "      <th>content_rating_id</th>\n",
       "      <th>movie_title</th>\n",
       "    </tr>\n",
       "  </thead>\n",
       "  <tbody>\n",
       "    <tr>\n",
       "      <th>536</th>\n",
       "      <td>128</td>\n",
       "      <td>16199</td>\n",
       "      <td>2004</td>\n",
       "      <td>7.3</td>\n",
       "      <td>16000</td>\n",
       "      <td>38</td>\n",
       "      <td>401</td>\n",
       "      <td>33</td>\n",
       "      <td>457</td>\n",
       "      <td>0</td>\n",
       "      <td>...</td>\n",
       "      <td>0</td>\n",
       "      <td>0</td>\n",
       "      <td>0</td>\n",
       "      <td>0</td>\n",
       "      <td>0</td>\n",
       "      <td>0</td>\n",
       "      <td>0</td>\n",
       "      <td>0</td>\n",
       "      <td>0</td>\n",
       "      <td>The Terminal</td>\n",
       "    </tr>\n",
       "  </tbody>\n",
       "</table>\n",
       "<p>1 rows × 39 columns</p>\n",
       "</div>"
      ],
      "text/plain": [
       "     duration  cast_total_facebook_likes  title_year  imdb_score  \\\n",
       "536       128                      16199        2004         7.3   \n",
       "\n",
       "     movie_facebook_likes  director_id  actor_2_id  actor_1_id  actor_3_id  \\\n",
       "536                 16000           38         401          33         457   \n",
       "\n",
       "     Action      ...       Family  Mystery  Biography  Crime  History  \\\n",
       "536       0      ...            0        0          0      0        0   \n",
       "\n",
       "     Romance  language_id  country_id  content_rating_id   movie_title  \n",
       "536        0            0           0                  0  The Terminal  \n",
       "\n",
       "[1 rows x 39 columns]"
      ]
     },
     "execution_count": 28,
     "metadata": {},
     "output_type": "execute_result"
    }
   ],
   "source": [
    "imdb2[imdb2.movie_title == \"The Terminal\"]"
   ]
  },
  {
   "cell_type": "code",
   "execution_count": 29,
   "metadata": {
    "collapsed": false,
    "deletable": true,
    "editable": true
   },
   "outputs": [
    {
     "data": {
      "text/html": [
       "<div>\n",
       "<table border=\"1\" class=\"dataframe\">\n",
       "  <thead>\n",
       "    <tr style=\"text-align: right;\">\n",
       "      <th></th>\n",
       "      <th>duration</th>\n",
       "      <th>cast_total_facebook_likes</th>\n",
       "      <th>title_year</th>\n",
       "      <th>imdb_score</th>\n",
       "      <th>movie_facebook_likes</th>\n",
       "      <th>director_id</th>\n",
       "      <th>actor_2_id</th>\n",
       "      <th>actor_1_id</th>\n",
       "      <th>actor_3_id</th>\n",
       "      <th>Action</th>\n",
       "      <th>...</th>\n",
       "      <th>Horror</th>\n",
       "      <th>Family</th>\n",
       "      <th>Mystery</th>\n",
       "      <th>Biography</th>\n",
       "      <th>Crime</th>\n",
       "      <th>History</th>\n",
       "      <th>Romance</th>\n",
       "      <th>language_id</th>\n",
       "      <th>country_id</th>\n",
       "      <th>content_rating_id</th>\n",
       "    </tr>\n",
       "    <tr>\n",
       "      <th>movie_title</th>\n",
       "      <th></th>\n",
       "      <th></th>\n",
       "      <th></th>\n",
       "      <th></th>\n",
       "      <th></th>\n",
       "      <th></th>\n",
       "      <th></th>\n",
       "      <th></th>\n",
       "      <th></th>\n",
       "      <th></th>\n",
       "      <th></th>\n",
       "      <th></th>\n",
       "      <th></th>\n",
       "      <th></th>\n",
       "      <th></th>\n",
       "      <th></th>\n",
       "      <th></th>\n",
       "      <th></th>\n",
       "      <th></th>\n",
       "      <th></th>\n",
       "      <th></th>\n",
       "    </tr>\n",
       "  </thead>\n",
       "  <tbody>\n",
       "    <tr>\n",
       "      <th>Avatar</th>\n",
       "      <td>178</td>\n",
       "      <td>4834</td>\n",
       "      <td>2009</td>\n",
       "      <td>7.9</td>\n",
       "      <td>33000</td>\n",
       "      <td>0</td>\n",
       "      <td>0</td>\n",
       "      <td>0</td>\n",
       "      <td>0</td>\n",
       "      <td>1</td>\n",
       "      <td>...</td>\n",
       "      <td>0</td>\n",
       "      <td>0</td>\n",
       "      <td>0</td>\n",
       "      <td>0</td>\n",
       "      <td>0</td>\n",
       "      <td>0</td>\n",
       "      <td>0</td>\n",
       "      <td>0</td>\n",
       "      <td>0</td>\n",
       "      <td>0</td>\n",
       "    </tr>\n",
       "    <tr>\n",
       "      <th>Pirates of the Caribbean: At World's End</th>\n",
       "      <td>169</td>\n",
       "      <td>48350</td>\n",
       "      <td>2007</td>\n",
       "      <td>7.1</td>\n",
       "      <td>0</td>\n",
       "      <td>1</td>\n",
       "      <td>1</td>\n",
       "      <td>1</td>\n",
       "      <td>1</td>\n",
       "      <td>1</td>\n",
       "      <td>...</td>\n",
       "      <td>0</td>\n",
       "      <td>0</td>\n",
       "      <td>0</td>\n",
       "      <td>0</td>\n",
       "      <td>0</td>\n",
       "      <td>0</td>\n",
       "      <td>0</td>\n",
       "      <td>0</td>\n",
       "      <td>0</td>\n",
       "      <td>0</td>\n",
       "    </tr>\n",
       "    <tr>\n",
       "      <th>Spectre</th>\n",
       "      <td>148</td>\n",
       "      <td>11700</td>\n",
       "      <td>2015</td>\n",
       "      <td>6.8</td>\n",
       "      <td>85000</td>\n",
       "      <td>2</td>\n",
       "      <td>2</td>\n",
       "      <td>2</td>\n",
       "      <td>2</td>\n",
       "      <td>1</td>\n",
       "      <td>...</td>\n",
       "      <td>0</td>\n",
       "      <td>0</td>\n",
       "      <td>0</td>\n",
       "      <td>0</td>\n",
       "      <td>0</td>\n",
       "      <td>0</td>\n",
       "      <td>0</td>\n",
       "      <td>0</td>\n",
       "      <td>1</td>\n",
       "      <td>0</td>\n",
       "    </tr>\n",
       "    <tr>\n",
       "      <th>The Dark Knight Rises</th>\n",
       "      <td>164</td>\n",
       "      <td>106759</td>\n",
       "      <td>2012</td>\n",
       "      <td>8.5</td>\n",
       "      <td>164000</td>\n",
       "      <td>3</td>\n",
       "      <td>3</td>\n",
       "      <td>3</td>\n",
       "      <td>3</td>\n",
       "      <td>1</td>\n",
       "      <td>...</td>\n",
       "      <td>0</td>\n",
       "      <td>0</td>\n",
       "      <td>0</td>\n",
       "      <td>0</td>\n",
       "      <td>0</td>\n",
       "      <td>0</td>\n",
       "      <td>0</td>\n",
       "      <td>0</td>\n",
       "      <td>0</td>\n",
       "      <td>0</td>\n",
       "    </tr>\n",
       "    <tr>\n",
       "      <th>Star Wars: Episode VII - The Force Awakens</th>\n",
       "      <td>107</td>\n",
       "      <td>143</td>\n",
       "      <td>0</td>\n",
       "      <td>7.1</td>\n",
       "      <td>0</td>\n",
       "      <td>4</td>\n",
       "      <td>4</td>\n",
       "      <td>4</td>\n",
       "      <td>4</td>\n",
       "      <td>0</td>\n",
       "      <td>...</td>\n",
       "      <td>0</td>\n",
       "      <td>0</td>\n",
       "      <td>0</td>\n",
       "      <td>0</td>\n",
       "      <td>0</td>\n",
       "      <td>0</td>\n",
       "      <td>0</td>\n",
       "      <td>0</td>\n",
       "      <td>0</td>\n",
       "      <td>1</td>\n",
       "    </tr>\n",
       "  </tbody>\n",
       "</table>\n",
       "<p>5 rows × 38 columns</p>\n",
       "</div>"
      ],
      "text/plain": [
       "                                            duration  \\\n",
       "movie_title                                            \n",
       "Avatar                                           178   \n",
       "Pirates of the Caribbean: At World's End         169   \n",
       "Spectre                                          148   \n",
       "The Dark Knight Rises                            164   \n",
       "Star Wars: Episode VII - The Force Awakens       107   \n",
       "\n",
       "                                            cast_total_facebook_likes  \\\n",
       "movie_title                                                             \n",
       "Avatar                                                           4834   \n",
       "Pirates of the Caribbean: At World's End                        48350   \n",
       "Spectre                                                         11700   \n",
       "The Dark Knight Rises                                          106759   \n",
       "Star Wars: Episode VII - The Force Awakens                        143   \n",
       "\n",
       "                                            title_year  imdb_score  \\\n",
       "movie_title                                                          \n",
       "Avatar                                            2009         7.9   \n",
       "Pirates of the Caribbean: At World's End          2007         7.1   \n",
       "Spectre                                           2015         6.8   \n",
       "The Dark Knight Rises                             2012         8.5   \n",
       "Star Wars: Episode VII - The Force Awakens           0         7.1   \n",
       "\n",
       "                                            movie_facebook_likes  director_id  \\\n",
       "movie_title                                                                     \n",
       "Avatar                                                     33000            0   \n",
       "Pirates of the Caribbean: At World's End                       0            1   \n",
       "Spectre                                                    85000            2   \n",
       "The Dark Knight Rises                                     164000            3   \n",
       "Star Wars: Episode VII - The Force Awakens                     0            4   \n",
       "\n",
       "                                            actor_2_id  actor_1_id  \\\n",
       "movie_title                                                          \n",
       "Avatar                                               0           0   \n",
       "Pirates of the Caribbean: At World's End             1           1   \n",
       "Spectre                                              2           2   \n",
       "The Dark Knight Rises                                3           3   \n",
       "Star Wars: Episode VII - The Force Awakens           4           4   \n",
       "\n",
       "                                            actor_3_id  Action  \\\n",
       "movie_title                                                      \n",
       "Avatar                                               0       1   \n",
       "Pirates of the Caribbean: At World's End             1       1   \n",
       "Spectre                                              2       1   \n",
       "The Dark Knight Rises                                3       1   \n",
       "Star Wars: Episode VII - The Force Awakens           4       0   \n",
       "\n",
       "                                                  ...          Horror  Family  \\\n",
       "movie_title                                       ...                           \n",
       "Avatar                                            ...               0       0   \n",
       "Pirates of the Caribbean: At World's End          ...               0       0   \n",
       "Spectre                                           ...               0       0   \n",
       "The Dark Knight Rises                             ...               0       0   \n",
       "Star Wars: Episode VII - The Force Awakens        ...               0       0   \n",
       "\n",
       "                                            Mystery  Biography  Crime  \\\n",
       "movie_title                                                             \n",
       "Avatar                                            0          0      0   \n",
       "Pirates of the Caribbean: At World's End          0          0      0   \n",
       "Spectre                                           0          0      0   \n",
       "The Dark Knight Rises                             0          0      0   \n",
       "Star Wars: Episode VII - The Force Awakens        0          0      0   \n",
       "\n",
       "                                            History  Romance  language_id  \\\n",
       "movie_title                                                                 \n",
       "Avatar                                            0        0            0   \n",
       "Pirates of the Caribbean: At World's End          0        0            0   \n",
       "Spectre                                           0        0            0   \n",
       "The Dark Knight Rises                             0        0            0   \n",
       "Star Wars: Episode VII - The Force Awakens        0        0            0   \n",
       "\n",
       "                                            country_id  content_rating_id  \n",
       "movie_title                                                                \n",
       "Avatar                                               0                  0  \n",
       "Pirates of the Caribbean: At World's End             0                  0  \n",
       "Spectre                                              1                  0  \n",
       "The Dark Knight Rises                                0                  0  \n",
       "Star Wars: Episode VII - The Force Awakens           0                  1  \n",
       "\n",
       "[5 rows x 38 columns]"
      ]
     },
     "execution_count": 29,
     "metadata": {},
     "output_type": "execute_result"
    }
   ],
   "source": [
    "imdb.head()"
   ]
  },
  {
   "cell_type": "code",
   "execution_count": 30,
   "metadata": {
    "collapsed": true,
    "deletable": true,
    "editable": true
   },
   "outputs": [],
   "source": [
    "from sklearn.neighbors import BallTree, KDTree"
   ]
  },
  {
   "cell_type": "code",
   "execution_count": 36,
   "metadata": {
    "collapsed": false,
    "deletable": true,
    "editable": true
   },
   "outputs": [],
   "source": [
    "tree = BallTree(imdb, leaf_size=40)\n",
    "#tree = KDTree(imdb, leaf_size=2)"
   ]
  },
  {
   "cell_type": "code",
   "execution_count": 42,
   "metadata": {
    "collapsed": false,
    "deletable": true,
    "editable": true
   },
   "outputs": [
    {
     "name": "stdout",
     "output_type": "stream",
     "text": [
      "Index(['The Dark Knight Rises'], dtype='object', name='movie_title')\n"
     ]
    }
   ],
   "source": [
    "liked = movies[[3]].index\n",
    "l_imdb = imdb.iloc[liked, :]\n",
    "print(l_imdb.index)"
   ]
  },
  {
   "cell_type": "code",
   "execution_count": 43,
   "metadata": {
    "collapsed": false,
    "deletable": true,
    "editable": true
   },
   "outputs": [
    {
     "name": "stdout",
     "output_type": "stream",
     "text": [
      "\n",
      "Because you liked The Dark Knight Rises:\n",
      "\t1. Inception\n",
      "\t2. The Avengers\n",
      "\t3. The Avengers\n",
      "\t4. Avengers: Age of Ultron\n",
      "\t5. The Revenant\n",
      "\t6. Silver Linings Playbook\n",
      "\t7. The Hunger Games\n",
      "\t8. Les Misérables\n",
      "\t9. The Wolf of Wall Street\n"
     ]
    }
   ],
   "source": [
    "dist, index = tree.query(l_imdb, 10)\n",
    "for ind in index:\n",
    "    print(\"\\nBecause you liked {}:\".format(movies[ind[0]]))\n",
    "    for n, i in enumerate(ind[1:]):\n",
    "        print(\"\\t{}. {}\".format(n+1, movies[i]))"
   ]
  },
  {
   "cell_type": "code",
   "execution_count": 39,
   "metadata": {
    "collapsed": true,
    "deletable": true,
    "editable": true
   },
   "outputs": [],
   "source": [
    "from sklearn.neighbors import NearestNeighbors"
   ]
  },
  {
   "cell_type": "code",
   "execution_count": 40,
   "metadata": {
    "collapsed": false,
    "deletable": true,
    "editable": true
   },
   "outputs": [
    {
     "data": {
      "text/plain": [
       "NearestNeighbors(algorithm='brute', leaf_size=30, metric='minkowski',\n",
       "         metric_params=None, n_jobs=1, n_neighbors=5, p=2, radius=0.4)"
      ]
     },
     "execution_count": 40,
     "metadata": {},
     "output_type": "execute_result"
    }
   ],
   "source": [
    "nn = NearestNeighbors(algorithm='brute', radius=0.4)\n",
    "nn.fit(imdb)"
   ]
  },
  {
   "cell_type": "code",
   "execution_count": 41,
   "metadata": {
    "collapsed": false,
    "deletable": true,
    "editable": true
   },
   "outputs": [
    {
     "name": "stdout",
     "output_type": "stream",
     "text": [
      "0                   Avatar\n",
      "815             Goosebumps\n",
      "4569            Goosebumps\n",
      "649         Need for Speed\n",
      "1381     We're the Millers\n",
      "3175    American History X\n",
      "Name: movie_title, dtype: object\n"
     ]
    }
   ],
   "source": [
    "mov = nn.kneighbors(l_imdb, 6, return_distance=False)\n",
    "for m in mov:\n",
    "    print(movies[m])"
   ]
  },
  {
   "cell_type": "code",
   "execution_count": null,
   "metadata": {
    "collapsed": true,
    "deletable": true,
    "editable": true
   },
   "outputs": [],
   "source": []
  }
 ],
 "metadata": {
  "kernelspec": {
   "display_name": "Python 3",
   "language": "python",
   "name": "python3"
  },
  "language_info": {
   "codemirror_mode": {
    "name": "ipython",
    "version": 3
   },
   "file_extension": ".py",
   "mimetype": "text/x-python",
   "name": "python",
   "nbconvert_exporter": "python",
   "pygments_lexer": "ipython3",
   "version": "3.6.0"
  }
 },
 "nbformat": 4,
 "nbformat_minor": 2
}
