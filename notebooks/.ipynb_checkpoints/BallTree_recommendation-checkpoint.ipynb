{
 "cells": [
  {
   "cell_type": "code",
   "execution_count": 1,
   "metadata": {
    "collapsed": true,
    "deletable": true,
    "editable": true
   },
   "outputs": [],
   "source": [
    "import numpy as np\n",
    "import pandas as pd\n",
    "import matplotlib.pyplot as plt\n",
    "%matplotlib inline"
   ]
  },
  {
   "cell_type": "code",
   "execution_count": 2,
   "metadata": {
    "collapsed": true,
    "deletable": true,
    "editable": true
   },
   "outputs": [],
   "source": [
    "def load_imdb(path):\n",
    "    data = pd.read_csv(path)\n",
    "    movies = data['movie_title']\n",
    "    data.drop('movie_title', axis=1, inplace=True)\n",
    "    data.set_index(movies, inplace=True)\n",
    "    return movies, data"
   ]
  },
  {
   "cell_type": "code",
   "execution_count": 3,
   "metadata": {
    "collapsed": true,
    "deletable": true,
    "editable": true
   },
   "outputs": [],
   "source": [
    "movies, imdb = load_imdb('../data/imdb_dataset.csv')"
   ]
  },
  {
   "cell_type": "code",
   "execution_count": 67,
   "metadata": {
    "collapsed": false,
    "deletable": true,
    "editable": true
   },
   "outputs": [
    {
     "data": {
      "text/plain": [
       "Index(['duration', 'cast_total_facebook_likes', 'title_year', 'imdb_score',\n",
       "       'movie_facebook_likes', 'director_id', 'actor_2_id', 'actor_1_id',\n",
       "       'actor_3_id', 'Action', 'Sport', 'Reality-TV', 'Animation', 'Western',\n",
       "       'Music', 'Comedy', 'Adventure', 'Short', 'Musical', 'Documentary',\n",
       "       'Film-Noir', 'News', 'Sci-Fi', 'Game-Show', 'War', 'Thriller',\n",
       "       'Fantasy', 'Drama', 'Horror', 'Family', 'Mystery', 'Biography', 'Crime',\n",
       "       'History', 'Romance', 'language_id', 'country_id', 'content_rating_id'],\n",
       "      dtype='object')"
      ]
     },
     "execution_count": 67,
     "metadata": {},
     "output_type": "execute_result"
    }
   ],
   "source": [
    "imdb.columns"
   ]
  },
  {
   "cell_type": "code",
   "execution_count": 5,
   "metadata": {
    "collapsed": false,
    "deletable": true,
    "editable": true
   },
   "outputs": [
    {
     "data": {
      "text/html": [
       "<div>\n",
       "<table border=\"1\" class=\"dataframe\">\n",
       "  <thead>\n",
       "    <tr style=\"text-align: right;\">\n",
       "      <th></th>\n",
       "      <th>duration</th>\n",
       "      <th>cast_total_facebook_likes</th>\n",
       "      <th>title_year</th>\n",
       "      <th>imdb_score</th>\n",
       "      <th>movie_facebook_likes</th>\n",
       "      <th>director_id</th>\n",
       "      <th>actor_2_id</th>\n",
       "      <th>actor_1_id</th>\n",
       "      <th>actor_3_id</th>\n",
       "      <th>Action</th>\n",
       "      <th>...</th>\n",
       "      <th>Horror</th>\n",
       "      <th>Family</th>\n",
       "      <th>Mystery</th>\n",
       "      <th>Biography</th>\n",
       "      <th>Crime</th>\n",
       "      <th>History</th>\n",
       "      <th>Romance</th>\n",
       "      <th>language_id</th>\n",
       "      <th>country_id</th>\n",
       "      <th>content_rating_id</th>\n",
       "    </tr>\n",
       "    <tr>\n",
       "      <th>movie_title</th>\n",
       "      <th></th>\n",
       "      <th></th>\n",
       "      <th></th>\n",
       "      <th></th>\n",
       "      <th></th>\n",
       "      <th></th>\n",
       "      <th></th>\n",
       "      <th></th>\n",
       "      <th></th>\n",
       "      <th></th>\n",
       "      <th></th>\n",
       "      <th></th>\n",
       "      <th></th>\n",
       "      <th></th>\n",
       "      <th></th>\n",
       "      <th></th>\n",
       "      <th></th>\n",
       "      <th></th>\n",
       "      <th></th>\n",
       "      <th></th>\n",
       "      <th></th>\n",
       "    </tr>\n",
       "  </thead>\n",
       "  <tbody>\n",
       "    <tr>\n",
       "      <th>Avatar</th>\n",
       "      <td>178</td>\n",
       "      <td>4834</td>\n",
       "      <td>2009</td>\n",
       "      <td>7.9</td>\n",
       "      <td>33000</td>\n",
       "      <td>0</td>\n",
       "      <td>0</td>\n",
       "      <td>0</td>\n",
       "      <td>0</td>\n",
       "      <td>1</td>\n",
       "      <td>...</td>\n",
       "      <td>0</td>\n",
       "      <td>0</td>\n",
       "      <td>0</td>\n",
       "      <td>0</td>\n",
       "      <td>0</td>\n",
       "      <td>0</td>\n",
       "      <td>0</td>\n",
       "      <td>0</td>\n",
       "      <td>0</td>\n",
       "      <td>0</td>\n",
       "    </tr>\n",
       "    <tr>\n",
       "      <th>Pirates of the Caribbean: At World's End</th>\n",
       "      <td>169</td>\n",
       "      <td>48350</td>\n",
       "      <td>2007</td>\n",
       "      <td>7.1</td>\n",
       "      <td>0</td>\n",
       "      <td>1</td>\n",
       "      <td>1</td>\n",
       "      <td>1</td>\n",
       "      <td>1</td>\n",
       "      <td>1</td>\n",
       "      <td>...</td>\n",
       "      <td>0</td>\n",
       "      <td>0</td>\n",
       "      <td>0</td>\n",
       "      <td>0</td>\n",
       "      <td>0</td>\n",
       "      <td>0</td>\n",
       "      <td>0</td>\n",
       "      <td>0</td>\n",
       "      <td>0</td>\n",
       "      <td>0</td>\n",
       "    </tr>\n",
       "    <tr>\n",
       "      <th>Spectre</th>\n",
       "      <td>148</td>\n",
       "      <td>11700</td>\n",
       "      <td>2015</td>\n",
       "      <td>6.8</td>\n",
       "      <td>85000</td>\n",
       "      <td>2</td>\n",
       "      <td>2</td>\n",
       "      <td>2</td>\n",
       "      <td>2</td>\n",
       "      <td>1</td>\n",
       "      <td>...</td>\n",
       "      <td>0</td>\n",
       "      <td>0</td>\n",
       "      <td>0</td>\n",
       "      <td>0</td>\n",
       "      <td>0</td>\n",
       "      <td>0</td>\n",
       "      <td>0</td>\n",
       "      <td>0</td>\n",
       "      <td>1</td>\n",
       "      <td>0</td>\n",
       "    </tr>\n",
       "    <tr>\n",
       "      <th>The Dark Knight Rises</th>\n",
       "      <td>164</td>\n",
       "      <td>106759</td>\n",
       "      <td>2012</td>\n",
       "      <td>8.5</td>\n",
       "      <td>164000</td>\n",
       "      <td>3</td>\n",
       "      <td>3</td>\n",
       "      <td>3</td>\n",
       "      <td>3</td>\n",
       "      <td>1</td>\n",
       "      <td>...</td>\n",
       "      <td>0</td>\n",
       "      <td>0</td>\n",
       "      <td>0</td>\n",
       "      <td>0</td>\n",
       "      <td>0</td>\n",
       "      <td>0</td>\n",
       "      <td>0</td>\n",
       "      <td>0</td>\n",
       "      <td>0</td>\n",
       "      <td>0</td>\n",
       "    </tr>\n",
       "    <tr>\n",
       "      <th>Star Wars: Episode VII - The Force Awakens</th>\n",
       "      <td>107</td>\n",
       "      <td>143</td>\n",
       "      <td>0</td>\n",
       "      <td>7.1</td>\n",
       "      <td>0</td>\n",
       "      <td>4</td>\n",
       "      <td>4</td>\n",
       "      <td>4</td>\n",
       "      <td>4</td>\n",
       "      <td>0</td>\n",
       "      <td>...</td>\n",
       "      <td>0</td>\n",
       "      <td>0</td>\n",
       "      <td>0</td>\n",
       "      <td>0</td>\n",
       "      <td>0</td>\n",
       "      <td>0</td>\n",
       "      <td>0</td>\n",
       "      <td>0</td>\n",
       "      <td>0</td>\n",
       "      <td>1</td>\n",
       "    </tr>\n",
       "  </tbody>\n",
       "</table>\n",
       "<p>5 rows × 38 columns</p>\n",
       "</div>"
      ],
      "text/plain": [
       "                                            duration  \\\n",
       "movie_title                                            \n",
       "Avatar                                           178   \n",
       "Pirates of the Caribbean: At World's End         169   \n",
       "Spectre                                          148   \n",
       "The Dark Knight Rises                            164   \n",
       "Star Wars: Episode VII - The Force Awakens       107   \n",
       "\n",
       "                                            cast_total_facebook_likes  \\\n",
       "movie_title                                                             \n",
       "Avatar                                                           4834   \n",
       "Pirates of the Caribbean: At World's End                        48350   \n",
       "Spectre                                                         11700   \n",
       "The Dark Knight Rises                                          106759   \n",
       "Star Wars: Episode VII - The Force Awakens                        143   \n",
       "\n",
       "                                            title_year  imdb_score  \\\n",
       "movie_title                                                          \n",
       "Avatar                                            2009         7.9   \n",
       "Pirates of the Caribbean: At World's End          2007         7.1   \n",
       "Spectre                                           2015         6.8   \n",
       "The Dark Knight Rises                             2012         8.5   \n",
       "Star Wars: Episode VII - The Force Awakens           0         7.1   \n",
       "\n",
       "                                            movie_facebook_likes  director_id  \\\n",
       "movie_title                                                                     \n",
       "Avatar                                                     33000            0   \n",
       "Pirates of the Caribbean: At World's End                       0            1   \n",
       "Spectre                                                    85000            2   \n",
       "The Dark Knight Rises                                     164000            3   \n",
       "Star Wars: Episode VII - The Force Awakens                     0            4   \n",
       "\n",
       "                                            actor_2_id  actor_1_id  \\\n",
       "movie_title                                                          \n",
       "Avatar                                               0           0   \n",
       "Pirates of the Caribbean: At World's End             1           1   \n",
       "Spectre                                              2           2   \n",
       "The Dark Knight Rises                                3           3   \n",
       "Star Wars: Episode VII - The Force Awakens           4           4   \n",
       "\n",
       "                                            actor_3_id  Action  \\\n",
       "movie_title                                                      \n",
       "Avatar                                               0       1   \n",
       "Pirates of the Caribbean: At World's End             1       1   \n",
       "Spectre                                              2       1   \n",
       "The Dark Knight Rises                                3       1   \n",
       "Star Wars: Episode VII - The Force Awakens           4       0   \n",
       "\n",
       "                                                  ...          Horror  Family  \\\n",
       "movie_title                                       ...                           \n",
       "Avatar                                            ...               0       0   \n",
       "Pirates of the Caribbean: At World's End          ...               0       0   \n",
       "Spectre                                           ...               0       0   \n",
       "The Dark Knight Rises                             ...               0       0   \n",
       "Star Wars: Episode VII - The Force Awakens        ...               0       0   \n",
       "\n",
       "                                            Mystery  Biography  Crime  \\\n",
       "movie_title                                                             \n",
       "Avatar                                            0          0      0   \n",
       "Pirates of the Caribbean: At World's End          0          0      0   \n",
       "Spectre                                           0          0      0   \n",
       "The Dark Knight Rises                             0          0      0   \n",
       "Star Wars: Episode VII - The Force Awakens        0          0      0   \n",
       "\n",
       "                                            History  Romance  language_id  \\\n",
       "movie_title                                                                 \n",
       "Avatar                                            0        0            0   \n",
       "Pirates of the Caribbean: At World's End          0        0            0   \n",
       "Spectre                                           0        0            0   \n",
       "The Dark Knight Rises                             0        0            0   \n",
       "Star Wars: Episode VII - The Force Awakens        0        0            0   \n",
       "\n",
       "                                            country_id  content_rating_id  \n",
       "movie_title                                                                \n",
       "Avatar                                               0                  0  \n",
       "Pirates of the Caribbean: At World's End             0                  0  \n",
       "Spectre                                              1                  0  \n",
       "The Dark Knight Rises                                0                  0  \n",
       "Star Wars: Episode VII - The Force Awakens           0                  1  \n",
       "\n",
       "[5 rows x 38 columns]"
      ]
     },
     "execution_count": 5,
     "metadata": {},
     "output_type": "execute_result"
    }
   ],
   "source": [
    "imdb.head()"
   ]
  },
  {
   "cell_type": "code",
   "execution_count": 6,
   "metadata": {
    "collapsed": true,
    "deletable": true,
    "editable": true
   },
   "outputs": [],
   "source": [
    "from sklearn.neighbors import BallTree"
   ]
  },
  {
   "cell_type": "code",
   "execution_count": 7,
   "metadata": {
    "collapsed": true,
    "deletable": true,
    "editable": true
   },
   "outputs": [],
   "source": [
    "tree = BallTree(imdb)"
   ]
  },
  {
   "cell_type": "code",
   "execution_count": 64,
   "metadata": {
    "collapsed": false,
    "deletable": true,
    "editable": true
   },
   "outputs": [
    {
     "name": "stdout",
     "output_type": "stream",
     "text": [
      "Index(['The Internship', 'The Day the Earth Stood Still',\n",
      "       'Star Wars: Episode VII - The Force Awakens'],\n",
      "      dtype='object', name='movie_title')\n"
     ]
    }
   ],
   "source": [
    "liked = movies[[823, 468, 4]].index\n",
    "l_imdb = imdb.iloc[liked, :]\n",
    "print(l_imdb.index)"
   ]
  },
  {
   "cell_type": "code",
   "execution_count": 65,
   "metadata": {
    "collapsed": false,
    "deletable": true,
    "editable": true
   },
   "outputs": [],
   "source": [
    "dist, index = tree.query(l_imdb, 6)"
   ]
  },
  {
   "cell_type": "code",
   "execution_count": 66,
   "metadata": {
    "collapsed": false,
    "deletable": true,
    "editable": true
   },
   "outputs": [
    {
     "name": "stdout",
     "output_type": "stream",
     "text": [
      "\n",
      "Because you liked The Internship:\n",
      "\t1. No Country for Old Men\n",
      "\t2. Selma\n",
      "\t3. Trance\n",
      "\t4. Trance\n",
      "\t5. Gladiator\n",
      "\n",
      "Because you liked The Day the Earth Stood Still:\n",
      "\t1. The Day the Earth Stood Still\n",
      "\t2. Witness\n",
      "\t3. Jumper\n",
      "\t4. Unleashed\n",
      "\t5. Kate & Leopold\n",
      "\n",
      "Because you liked Star Wars: Episode VII - The Force Awakens:\n",
      "\t1. 10,000 B.C.\n",
      "\t2. Life\n",
      "\t3. The Bachelor\n",
      "\t4. Yu-Gi-Oh! Duel Monsters\n",
      "\t5. A Touch of Frost\n"
     ]
    }
   ],
   "source": [
    "for ind in index:\n",
    "    print(\"\\nBecause you liked {}:\".format(movies[ind[0]]))\n",
    "    for n, i in enumerate(ind[1:]):\n",
    "        print(\"\\t{}. {}\".format(n+1, movies[i]))"
   ]
  }
 ],
 "metadata": {
  "kernelspec": {
   "display_name": "Python 3",
   "language": "python",
   "name": "python3"
  },
  "language_info": {
   "codemirror_mode": {
    "name": "ipython",
    "version": 3
   },
   "file_extension": ".py",
   "mimetype": "text/x-python",
   "name": "python",
   "nbconvert_exporter": "python",
   "pygments_lexer": "ipython3",
   "version": "3.6.0"
  }
 },
 "nbformat": 4,
 "nbformat_minor": 2
}
