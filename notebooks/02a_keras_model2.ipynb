{
 "cells": [
  {
   "cell_type": "code",
   "execution_count": 2,
   "metadata": {
    "collapsed": true,
    "deletable": true,
    "editable": true
   },
   "outputs": [],
   "source": [
    "import numpy as np\n",
    "import pandas as pd"
   ]
  },
  {
   "cell_type": "code",
   "execution_count": 3,
   "metadata": {
    "collapsed": false,
    "deletable": true,
    "editable": true
   },
   "outputs": [],
   "source": [
    "data = pd.read_csv(\"../data/ml-latest-small/ratings.csv\")\n",
    "good_data = data[data.rating > 2.0]\n",
    "good_data = data[(data.userId > 0) & (data.userId < 5)]"
   ]
  },
  {
   "cell_type": "code",
   "execution_count": 4,
   "metadata": {
    "collapsed": true,
    "deletable": true,
    "editable": true
   },
   "outputs": [],
   "source": [
    "user_groups = good_data.groupby('userId')"
   ]
  },
  {
   "cell_type": "code",
   "execution_count": 5,
   "metadata": {
    "collapsed": false,
    "deletable": true,
    "editable": true
   },
   "outputs": [],
   "source": [
    "input_array_size = user_groups.count().max()[0]"
   ]
  },
  {
   "cell_type": "code",
   "execution_count": 15,
   "metadata": {
    "collapsed": false,
    "deletable": true,
    "editable": true
   },
   "outputs": [],
   "source": [
    "def create_train_data(x):\n",
    "    arr = np.array(x.movieId)\n",
    "    zeros = np.zeros(input_array_size - arr.size)\n",
    "    arr = np.concatenate((arr, zeros), axis=0)\n",
    "    arr = arr.reshape(input_array_size, 1)\n",
    "    return arr\n",
    "#     return arr"
   ]
  },
  {
   "cell_type": "code",
   "execution_count": 16,
   "metadata": {
    "collapsed": false,
    "deletable": true,
    "editable": true
   },
   "outputs": [
    {
     "data": {
      "text/plain": [
       "[userId\n",
       " 1    [[31.0], [1029.0], [1061.0], [1129.0], [1172.0...\n",
       " 2    [[10.0], [17.0], [39.0], [47.0], [50.0], [52.0...\n",
       " 3    [[60.0], [110.0], [247.0], [267.0], [296.0], [...\n",
       " 4    [[10.0], [34.0], [112.0], [141.0], [153.0], [1...\n",
       " dtype: object]"
      ]
     },
     "execution_count": 16,
     "metadata": {},
     "output_type": "execute_result"
    }
   ],
   "source": [
    "# user_groups.apply(create_train_data)\n",
    "x = []\n",
    "x.append(user_groups.apply(create_train_data))\n",
    "\n",
    "# user_groups.count()"
   ]
  },
  {
   "cell_type": "code",
   "execution_count": null,
   "metadata": {
    "collapsed": true,
    "deletable": true,
    "editable": true
   },
   "outputs": [],
   "source": []
  }
 ],
 "metadata": {
  "kernelspec": {
   "display_name": "Python 3",
   "language": "python",
   "name": "python3"
  },
  "language_info": {
   "codemirror_mode": {
    "name": "ipython",
    "version": 3
   },
   "file_extension": ".py",
   "mimetype": "text/x-python",
   "name": "python",
   "nbconvert_exporter": "python",
   "pygments_lexer": "ipython3",
   "version": "3.6.0"
  }
 },
 "nbformat": 4,
 "nbformat_minor": 2
}
