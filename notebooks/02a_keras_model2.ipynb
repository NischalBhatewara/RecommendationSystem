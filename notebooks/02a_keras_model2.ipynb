{
 "cells": [
  {
   "cell_type": "code",
   "execution_count": 1,
   "metadata": {
    "collapsed": true
   },
   "outputs": [],
   "source": [
    "import numpy as np\n",
    "import pandas as pd"
   ]
  },
  {
   "cell_type": "code",
   "execution_count": 211,
   "metadata": {
    "collapsed": false
   },
   "outputs": [],
   "source": [
    "data = pd.read_csv(\"../data/ml-latest-small/ratings.csv\")\n",
    "good_data = data[data.rating > 2.0]\n",
    "good_data = data[(data.userId > 0) & (data.userId < 5)]"
   ]
  },
  {
   "cell_type": "code",
   "execution_count": 212,
   "metadata": {
    "collapsed": true
   },
   "outputs": [],
   "source": [
    "user_groups = good_data.groupby('userId')"
   ]
  },
  {
   "cell_type": "code",
   "execution_count": 213,
   "metadata": {
    "collapsed": false
   },
   "outputs": [],
   "source": [
    "input_array_size = user_groups.count().max()[0]"
   ]
  },
  {
   "cell_type": "code",
   "execution_count": 227,
   "metadata": {
    "collapsed": false
   },
   "outputs": [],
   "source": [
    "def create_train_data(x):\n",
    "    arr = np.array(x.movieId)\n",
    "    zeros = np.zeros(input_array_size - arr.size)\n",
    "    arr = np.concatenate((arr, zeros), axis=0)\n",
    "    arr = arr.reshape(input_array_size, 1)\n",
    "    print(\"\\ntype:\", type(x), \"\\n\\n\")\n",
    "#     return arr"
   ]
  },
  {
   "cell_type": "code",
   "execution_count": 229,
   "metadata": {
    "collapsed": false
   },
   "outputs": [
    {
     "name": "stdout",
     "output_type": "stream",
     "text": [
      "\n",
      "type: <class 'pandas.core.frame.DataFrame'> \n",
      "\n",
      "\n",
      "\n",
      "type: <class 'pandas.core.frame.DataFrame'> \n",
      "\n",
      "\n",
      "\n",
      "type: <class 'pandas.core.frame.DataFrame'> \n",
      "\n",
      "\n",
      "\n",
      "type: <class 'pandas.core.frame.DataFrame'> \n",
      "\n",
      "\n",
      "\n",
      "type: <class 'pandas.core.frame.DataFrame'> \n",
      "\n",
      "\n"
     ]
    },
    {
     "data": {
      "text/html": [
       "<div>\n",
       "<table border=\"1\" class=\"dataframe\">\n",
       "  <thead>\n",
       "    <tr style=\"text-align: right;\">\n",
       "      <th></th>\n",
       "    </tr>\n",
       "  </thead>\n",
       "  <tbody>\n",
       "  </tbody>\n",
       "</table>\n",
       "</div>"
      ],
      "text/plain": [
       "Empty DataFrame\n",
       "Columns: []\n",
       "Index: []"
      ]
     },
     "execution_count": 229,
     "metadata": {},
     "output_type": "execute_result"
    }
   ],
   "source": [
    "user_groups.apply(create_train_data)\n",
    "# x = []\n",
    "# x.append(user_groups.apply(create_train_data))\n",
    "# x[0]\n",
    "# user_groups.count()"
   ]
  },
  {
   "cell_type": "code",
   "execution_count": null,
   "metadata": {
    "collapsed": true
   },
   "outputs": [],
   "source": []
  }
 ],
 "metadata": {
  "kernelspec": {
   "display_name": "Python 3",
   "language": "python",
   "name": "python3"
  },
  "language_info": {
   "codemirror_mode": {
    "name": "ipython",
    "version": 3
   },
   "file_extension": ".py",
   "mimetype": "text/x-python",
   "name": "python",
   "nbconvert_exporter": "python",
   "pygments_lexer": "ipython3",
   "version": "3.6.0"
  }
 },
 "nbformat": 4,
 "nbformat_minor": 2
}
