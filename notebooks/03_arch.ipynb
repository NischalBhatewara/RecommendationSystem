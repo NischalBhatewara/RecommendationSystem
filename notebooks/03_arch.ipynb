{
 "cells": [
  {
   "cell_type": "code",
   "execution_count": 129,
   "metadata": {
    "collapsed": false,
    "deletable": true,
    "editable": true
   },
   "outputs": [],
   "source": [
    "import numpy as np\n",
    "import pandas as pd\n",
    "import matplotlib.pyplot as plt\n",
    "from keras.models import Sequential\n",
    "from keras.layers import GRU, Dense\n",
    "from keras.models import load_model\n",
    "%matplotlib inline"
   ]
  },
  {
   "cell_type": "markdown",
   "metadata": {},
   "source": [
    "## About the data\n",
    "<hr>\n",
    "For training our models, we will be using the MovieLens 100k dataset by GroupLens. <br><br>\n",
    "GroupLens Research has collected and made available rating data sets from the MovieLens web site (http://movielens.org). The data sets were collected over various periods of time, depending on the size of the set. "
   ]
  },
  {
   "cell_type": "code",
   "execution_count": 184,
   "metadata": {
    "collapsed": true,
    "deletable": true,
    "editable": true
   },
   "outputs": [],
   "source": [
    "ratings = pd.read_csv(\"../data/ml-latest-small/ratings.csv\")\n",
    "movies = pd.read_csv(\"../data/ml-latest-small/movies.csv\", index_col=0)"
   ]
  },
  {
   "cell_type": "markdown",
   "metadata": {},
   "source": [
    "The contents of the dataset are:"
   ]
  },
  {
   "cell_type": "code",
   "execution_count": 7,
   "metadata": {
    "collapsed": false,
    "deletable": true,
    "editable": true
   },
   "outputs": [
    {
     "name": "stdout",
     "output_type": "stream",
     "text": [
      "links.csv  movies.csv  ratings.csv  README.txt  tags.csv\r\n"
     ]
    }
   ],
   "source": [
    "%ls ../data/ml-latest-small/"
   ]
  },
  {
   "cell_type": "code",
   "execution_count": 5,
   "metadata": {
    "collapsed": false,
    "deletable": true,
    "editable": true
   },
   "outputs": [
    {
     "data": {
      "text/html": [
       "<div>\n",
       "<table border=\"1\" class=\"dataframe\">\n",
       "  <thead>\n",
       "    <tr style=\"text-align: right;\">\n",
       "      <th></th>\n",
       "      <th>userId</th>\n",
       "      <th>movieId</th>\n",
       "      <th>rating</th>\n",
       "      <th>timestamp</th>\n",
       "    </tr>\n",
       "  </thead>\n",
       "  <tbody>\n",
       "    <tr>\n",
       "      <th>0</th>\n",
       "      <td>1</td>\n",
       "      <td>31</td>\n",
       "      <td>2.5</td>\n",
       "      <td>1260759144</td>\n",
       "    </tr>\n",
       "    <tr>\n",
       "      <th>1</th>\n",
       "      <td>1</td>\n",
       "      <td>1029</td>\n",
       "      <td>3.0</td>\n",
       "      <td>1260759179</td>\n",
       "    </tr>\n",
       "    <tr>\n",
       "      <th>2</th>\n",
       "      <td>1</td>\n",
       "      <td>1061</td>\n",
       "      <td>3.0</td>\n",
       "      <td>1260759182</td>\n",
       "    </tr>\n",
       "    <tr>\n",
       "      <th>3</th>\n",
       "      <td>1</td>\n",
       "      <td>1129</td>\n",
       "      <td>2.0</td>\n",
       "      <td>1260759185</td>\n",
       "    </tr>\n",
       "    <tr>\n",
       "      <th>4</th>\n",
       "      <td>1</td>\n",
       "      <td>1172</td>\n",
       "      <td>4.0</td>\n",
       "      <td>1260759205</td>\n",
       "    </tr>\n",
       "  </tbody>\n",
       "</table>\n",
       "</div>"
      ],
      "text/plain": [
       "   userId  movieId  rating   timestamp\n",
       "0       1       31     2.5  1260759144\n",
       "1       1     1029     3.0  1260759179\n",
       "2       1     1061     3.0  1260759182\n",
       "3       1     1129     2.0  1260759185\n",
       "4       1     1172     4.0  1260759205"
      ]
     },
     "execution_count": 5,
     "metadata": {},
     "output_type": "execute_result"
    }
   ],
   "source": [
    "ratings.head()"
   ]
  },
  {
   "cell_type": "code",
   "execution_count": 32,
   "metadata": {
    "collapsed": false,
    "deletable": true,
    "editable": true
   },
   "outputs": [
    {
     "data": {
      "text/html": [
       "<div>\n",
       "<table border=\"1\" class=\"dataframe\">\n",
       "  <thead>\n",
       "    <tr style=\"text-align: right;\">\n",
       "      <th></th>\n",
       "      <th>title</th>\n",
       "      <th>genres</th>\n",
       "    </tr>\n",
       "    <tr>\n",
       "      <th>movieId</th>\n",
       "      <th></th>\n",
       "      <th></th>\n",
       "    </tr>\n",
       "  </thead>\n",
       "  <tbody>\n",
       "    <tr>\n",
       "      <th>1</th>\n",
       "      <td>Toy Story (1995)</td>\n",
       "      <td>Adventure|Animation|Children|Comedy|Fantasy</td>\n",
       "    </tr>\n",
       "    <tr>\n",
       "      <th>2</th>\n",
       "      <td>Jumanji (1995)</td>\n",
       "      <td>Adventure|Children|Fantasy</td>\n",
       "    </tr>\n",
       "    <tr>\n",
       "      <th>3</th>\n",
       "      <td>Grumpier Old Men (1995)</td>\n",
       "      <td>Comedy|Romance</td>\n",
       "    </tr>\n",
       "    <tr>\n",
       "      <th>4</th>\n",
       "      <td>Waiting to Exhale (1995)</td>\n",
       "      <td>Comedy|Drama|Romance</td>\n",
       "    </tr>\n",
       "    <tr>\n",
       "      <th>5</th>\n",
       "      <td>Father of the Bride Part II (1995)</td>\n",
       "      <td>Comedy</td>\n",
       "    </tr>\n",
       "  </tbody>\n",
       "</table>\n",
       "</div>"
      ],
      "text/plain": [
       "                                      title  \\\n",
       "movieId                                       \n",
       "1                          Toy Story (1995)   \n",
       "2                            Jumanji (1995)   \n",
       "3                   Grumpier Old Men (1995)   \n",
       "4                  Waiting to Exhale (1995)   \n",
       "5        Father of the Bride Part II (1995)   \n",
       "\n",
       "                                              genres  \n",
       "movieId                                               \n",
       "1        Adventure|Animation|Children|Comedy|Fantasy  \n",
       "2                         Adventure|Children|Fantasy  \n",
       "3                                     Comedy|Romance  \n",
       "4                               Comedy|Drama|Romance  \n",
       "5                                             Comedy  "
      ]
     },
     "execution_count": 32,
     "metadata": {},
     "output_type": "execute_result"
    }
   ],
   "source": [
    "movies.head()"
   ]
  },
  {
   "cell_type": "markdown",
   "metadata": {},
   "source": [
    "We assume that movies above the rating 2.5 are good (the user likes them and is willing to watch other movies of that sort)"
   ]
  },
  {
   "cell_type": "code",
   "execution_count": 185,
   "metadata": {
    "collapsed": true,
    "deletable": true,
    "editable": true
   },
   "outputs": [],
   "source": [
    "good_ratings = ratings[ratings.rating > 2.4]"
   ]
  },
  {
   "cell_type": "code",
   "execution_count": 10,
   "metadata": {
    "collapsed": false,
    "deletable": true,
    "editable": true
   },
   "outputs": [
    {
     "data": {
      "text/plain": [
       "((86619, 4), (100004, 4))"
      ]
     },
     "execution_count": 10,
     "metadata": {},
     "output_type": "execute_result"
    }
   ],
   "source": [
    "good_ratings.shape, ratings.shape"
   ]
  },
  {
   "cell_type": "code",
   "execution_count": 43,
   "metadata": {
    "collapsed": false,
    "deletable": true,
    "editable": true
   },
   "outputs": [
    {
     "data": {
      "text/html": [
       "<div>\n",
       "<table border=\"1\" class=\"dataframe\">\n",
       "  <thead>\n",
       "    <tr style=\"text-align: right;\">\n",
       "      <th></th>\n",
       "      <th>userId</th>\n",
       "      <th>movieId</th>\n",
       "      <th>rating</th>\n",
       "      <th>timestamp</th>\n",
       "    </tr>\n",
       "  </thead>\n",
       "  <tbody>\n",
       "    <tr>\n",
       "      <th>0</th>\n",
       "      <td>1</td>\n",
       "      <td>31</td>\n",
       "      <td>2.5</td>\n",
       "      <td>1260759144</td>\n",
       "    </tr>\n",
       "    <tr>\n",
       "      <th>1</th>\n",
       "      <td>1</td>\n",
       "      <td>1029</td>\n",
       "      <td>3.0</td>\n",
       "      <td>1260759179</td>\n",
       "    </tr>\n",
       "    <tr>\n",
       "      <th>2</th>\n",
       "      <td>1</td>\n",
       "      <td>1061</td>\n",
       "      <td>3.0</td>\n",
       "      <td>1260759182</td>\n",
       "    </tr>\n",
       "    <tr>\n",
       "      <th>4</th>\n",
       "      <td>1</td>\n",
       "      <td>1172</td>\n",
       "      <td>4.0</td>\n",
       "      <td>1260759205</td>\n",
       "    </tr>\n",
       "    <tr>\n",
       "      <th>8</th>\n",
       "      <td>1</td>\n",
       "      <td>1339</td>\n",
       "      <td>3.5</td>\n",
       "      <td>1260759125</td>\n",
       "    </tr>\n",
       "  </tbody>\n",
       "</table>\n",
       "</div>"
      ],
      "text/plain": [
       "   userId  movieId  rating   timestamp\n",
       "0       1       31     2.5  1260759144\n",
       "1       1     1029     3.0  1260759179\n",
       "2       1     1061     3.0  1260759182\n",
       "4       1     1172     4.0  1260759205\n",
       "8       1     1339     3.5  1260759125"
      ]
     },
     "execution_count": 43,
     "metadata": {},
     "output_type": "execute_result"
    }
   ],
   "source": [
    "good_ratings.head()"
   ]
  },
  {
   "cell_type": "markdown",
   "metadata": {},
   "source": [
    "### The data"
   ]
  },
  {
   "cell_type": "code",
   "execution_count": 39,
   "metadata": {
    "collapsed": true,
    "deletable": true,
    "editable": true
   },
   "outputs": [],
   "source": [
    "def apply_fun(x):\n",
    "    x['MovieName'] = movies.title[x.movieId]\n",
    "    return x"
   ]
  },
  {
   "cell_type": "code",
   "execution_count": 60,
   "metadata": {
    "collapsed": false,
    "deletable": true,
    "editable": true
   },
   "outputs": [
    {
     "name": "stderr",
     "output_type": "stream",
     "text": [
      "/home/nischal/anaconda3/lib/python3.6/site-packages/ipykernel/__main__.py:2: SettingWithCopyWarning: \n",
      "A value is trying to be set on a copy of a slice from a DataFrame.\n",
      "Try using .loc[row_indexer,col_indexer] = value instead\n",
      "\n",
      "See the caveats in the documentation: http://pandas.pydata.org/pandas-docs/stable/indexing.html#indexing-view-versus-copy\n",
      "  from ipykernel import kernelapp as app\n"
     ]
    },
    {
     "data": {
      "text/html": [
       "<div>\n",
       "<table border=\"1\" class=\"dataframe\">\n",
       "  <thead>\n",
       "    <tr style=\"text-align: right;\">\n",
       "      <th></th>\n",
       "      <th>userId</th>\n",
       "      <th>movieId</th>\n",
       "      <th>rating</th>\n",
       "      <th>timestamp</th>\n",
       "      <th>MovieName</th>\n",
       "    </tr>\n",
       "  </thead>\n",
       "  <tbody>\n",
       "    <tr>\n",
       "      <th>0</th>\n",
       "      <td>1</td>\n",
       "      <td>31</td>\n",
       "      <td>2.5</td>\n",
       "      <td>1260759144</td>\n",
       "      <td>Dangerous Minds (1995)</td>\n",
       "    </tr>\n",
       "    <tr>\n",
       "      <th>1</th>\n",
       "      <td>1</td>\n",
       "      <td>1029</td>\n",
       "      <td>3.0</td>\n",
       "      <td>1260759179</td>\n",
       "      <td>Dumbo (1941)</td>\n",
       "    </tr>\n",
       "    <tr>\n",
       "      <th>2</th>\n",
       "      <td>1</td>\n",
       "      <td>1061</td>\n",
       "      <td>3.0</td>\n",
       "      <td>1260759182</td>\n",
       "      <td>Sleepers (1996)</td>\n",
       "    </tr>\n",
       "    <tr>\n",
       "      <th>4</th>\n",
       "      <td>1</td>\n",
       "      <td>1172</td>\n",
       "      <td>4.0</td>\n",
       "      <td>1260759205</td>\n",
       "      <td>Cinema Paradiso (Nuovo cinema Paradiso) (1989)</td>\n",
       "    </tr>\n",
       "    <tr>\n",
       "      <th>8</th>\n",
       "      <td>1</td>\n",
       "      <td>1339</td>\n",
       "      <td>3.5</td>\n",
       "      <td>1260759125</td>\n",
       "      <td>Dracula (Bram Stoker's Dracula) (1992)</td>\n",
       "    </tr>\n",
       "  </tbody>\n",
       "</table>\n",
       "</div>"
      ],
      "text/plain": [
       "   userId  movieId  rating   timestamp  \\\n",
       "0       1       31     2.5  1260759144   \n",
       "1       1     1029     3.0  1260759179   \n",
       "2       1     1061     3.0  1260759182   \n",
       "4       1     1172     4.0  1260759205   \n",
       "8       1     1339     3.5  1260759125   \n",
       "\n",
       "                                        MovieName  \n",
       "0                          Dangerous Minds (1995)  \n",
       "1                                    Dumbo (1941)  \n",
       "2                                 Sleepers (1996)  \n",
       "4  Cinema Paradiso (Nuovo cinema Paradiso) (1989)  \n",
       "8          Dracula (Bram Stoker's Dracula) (1992)  "
      ]
     },
     "execution_count": 60,
     "metadata": {},
     "output_type": "execute_result"
    }
   ],
   "source": [
    "one_user = good_ratings[good_ratings.userId == 1]\n",
    "one_user['MovieName'] = 'movie'\n",
    "one_user = one_user.apply(apply_fun, axis=1)\n",
    "one_user.drop('movieId', axis=1)\n",
    "one_user.head()"
   ]
  },
  {
   "cell_type": "code",
   "execution_count": 61,
   "metadata": {
    "collapsed": false,
    "deletable": true,
    "editable": true
   },
   "outputs": [
    {
     "data": {
      "text/html": [
       "<div>\n",
       "<table border=\"1\" class=\"dataframe\">\n",
       "  <thead>\n",
       "    <tr style=\"text-align: right;\">\n",
       "      <th></th>\n",
       "      <th>userId</th>\n",
       "      <th>movieId</th>\n",
       "      <th>rating</th>\n",
       "      <th>timestamp</th>\n",
       "      <th>MovieName</th>\n",
       "    </tr>\n",
       "  </thead>\n",
       "  <tbody>\n",
       "    <tr>\n",
       "      <th>17</th>\n",
       "      <td>1</td>\n",
       "      <td>2455</td>\n",
       "      <td>2.5</td>\n",
       "      <td>1260759113</td>\n",
       "      <td>Fly, The (1986)</td>\n",
       "    </tr>\n",
       "    <tr>\n",
       "      <th>19</th>\n",
       "      <td>1</td>\n",
       "      <td>3671</td>\n",
       "      <td>3.0</td>\n",
       "      <td>1260759117</td>\n",
       "      <td>Blazing Saddles (1974)</td>\n",
       "    </tr>\n",
       "    <tr>\n",
       "      <th>8</th>\n",
       "      <td>1</td>\n",
       "      <td>1339</td>\n",
       "      <td>3.5</td>\n",
       "      <td>1260759125</td>\n",
       "      <td>Dracula (Bram Stoker's Dracula) (1992)</td>\n",
       "    </tr>\n",
       "    <tr>\n",
       "      <th>10</th>\n",
       "      <td>1</td>\n",
       "      <td>1371</td>\n",
       "      <td>2.5</td>\n",
       "      <td>1260759135</td>\n",
       "      <td>Star Trek: The Motion Picture (1979)</td>\n",
       "    </tr>\n",
       "    <tr>\n",
       "      <th>13</th>\n",
       "      <td>1</td>\n",
       "      <td>2105</td>\n",
       "      <td>4.0</td>\n",
       "      <td>1260759139</td>\n",
       "      <td>Tron (1982)</td>\n",
       "    </tr>\n",
       "  </tbody>\n",
       "</table>\n",
       "</div>"
      ],
      "text/plain": [
       "    userId  movieId  rating   timestamp  \\\n",
       "17       1     2455     2.5  1260759113   \n",
       "19       1     3671     3.0  1260759117   \n",
       "8        1     1339     3.5  1260759125   \n",
       "10       1     1371     2.5  1260759135   \n",
       "13       1     2105     4.0  1260759139   \n",
       "\n",
       "                                 MovieName  \n",
       "17                         Fly, The (1986)  \n",
       "19                  Blazing Saddles (1974)  \n",
       "8   Dracula (Bram Stoker's Dracula) (1992)  \n",
       "10    Star Trek: The Motion Picture (1979)  \n",
       "13                             Tron (1982)  "
      ]
     },
     "execution_count": 61,
     "metadata": {},
     "output_type": "execute_result"
    }
   ],
   "source": [
    "one_user.sort_values(by='timestamp').head()"
   ]
  },
  {
   "cell_type": "markdown",
   "metadata": {},
   "source": [
    "Our model should learn such sequences and predict the next movie based on user behaviour."
   ]
  },
  {
   "cell_type": "code",
   "execution_count": 67,
   "metadata": {
    "collapsed": false,
    "deletable": true,
    "editable": true
   },
   "outputs": [
    {
     "name": "stdout",
     "output_type": "stream",
     "text": [
      "31 -> 1029 -> 1061 -> 1172 -> 1339 -> 1371 -> 1953 -> 2105 -> 2150 -> 2455 -> 3671\n"
     ]
    }
   ],
   "source": [
    "for mid in one_user.movieId.values[:-1]:\n",
    "    print(\"{} -> \".format(mid), end=\"\")\n",
    "print(one_user.movieId.values[-1])"
   ]
  },
  {
   "cell_type": "code",
   "execution_count": 190,
   "metadata": {
    "collapsed": false,
    "deletable": true,
    "editable": true
   },
   "outputs": [
    {
     "name": "stdout",
     "output_type": "stream",
     "text": [
      "1997\n"
     ]
    }
   ],
   "source": [
    "groups = good_ratings.sort_values('timestamp').groupby(\"userId\")\n",
    "max_length = groups.movieId.count().max()\n",
    "print(max_length)"
   ]
  },
  {
   "cell_type": "markdown",
   "metadata": {},
   "source": [
    "Make the training data"
   ]
  },
  {
   "cell_type": "code",
   "execution_count": 191,
   "metadata": {
    "collapsed": false,
    "deletable": true,
    "editable": true
   },
   "outputs": [],
   "source": [
    "train_data = []\n",
    "train_data = np.concatenate((train_data, \n",
    "                             groups\n",
    "                                .apply(\n",
    "                                    lambda x: np.concatenate(\n",
    "                                        (x.movieId.values.tolist(), \n",
    "                                         np.zeros(max_length - len(x.movieId.values.tolist())))\n",
    "                                        )\n",
    "                                    .reshape((-1, 1))\n",
    "                                    .tolist()\n",
    "                                )))\n",
    "train_data = train_data.tolist()"
   ]
  },
  {
   "cell_type": "code",
   "execution_count": 192,
   "metadata": {
    "collapsed": false,
    "deletable": true,
    "editable": true
   },
   "outputs": [
    {
     "data": {
      "text/plain": [
       "[[2455.0],\n",
       " [3671.0],\n",
       " [1339.0],\n",
       " [1371.0],\n",
       " [2105.0],\n",
       " [31.0],\n",
       " [1029.0],\n",
       " [1061.0],\n",
       " [1953.0],\n",
       " [2150.0]]"
      ]
     },
     "execution_count": 192,
     "metadata": {},
     "output_type": "execute_result"
    }
   ],
   "source": [
    "train_data[0][:10]"
   ]
  },
  {
   "cell_type": "code",
   "execution_count": 193,
   "metadata": {
    "collapsed": false,
    "deletable": true,
    "editable": true
   },
   "outputs": [
    {
     "data": {
      "text/plain": [
       "[[592.0],\n",
       " [296.0],\n",
       " [590.0],\n",
       " [150.0],\n",
       " [588.0],\n",
       " [153.0],\n",
       " [165.0],\n",
       " [349.0],\n",
       " [292.0],\n",
       " [339.0]]"
      ]
     },
     "execution_count": 193,
     "metadata": {},
     "output_type": "execute_result"
    }
   ],
   "source": [
    "train_data[1][:10]"
   ]
  },
  {
   "cell_type": "markdown",
   "metadata": {
    "deletable": true,
    "editable": true
   },
   "source": [
    "## Split data into 3 part\n",
    "<hr>\n",
    "Now, we split the data into 3 parts, to make mini-batches, so as to learn faster."
   ]
  },
  {
   "cell_type": "code",
   "execution_count": 159,
   "metadata": {
    "collapsed": false
   },
   "outputs": [],
   "source": [
    "d1x, d2x, d3x = pd.split_into_mini_batches(data=train_data, parts=3)"
   ]
  },
  {
   "cell_type": "code",
   "execution_count": 160,
   "metadata": {
    "collapsed": false,
    "deletable": true,
    "editable": true
   },
   "outputs": [
    {
     "data": {
      "text/plain": [
       "(array([   4,   14,   32,  137,  143,  151,  157,  174,  227,  293,  440,\n",
       "         550, 1797]),\n",
       " array([  5,  12,  23,  44,  75,  82, 118, 122, 163, 219, 247, 251, 311]),\n",
       " array([   6,   50,   59,  162,  238,  239,  242,  602,  780, 1069, 1538,\n",
       "        1633, 1805]))"
      ]
     },
     "execution_count": 160,
     "metadata": {},
     "output_type": "execute_result"
    }
   ],
   "source": [
    "d1x[:15], d2x[:15], d3x[:15]"
   ]
  },
  {
   "cell_type": "markdown",
   "metadata": {
    "deletable": true,
    "editable": true
   },
   "source": [
    "## Defining `y` for data \n",
    "<hr>\n",
    "Now that we have our data, we need to specify what the model should learn for each of the input IDs. We create the `y` set by shifting `X` by one to the left and adding the first element of `X` to the end of the `y`. The below is what it should look like.\n",
    "\n",
    "<table>\n",
    "    <tr>\n",
    "        <th>X</th>\n",
    "        <td>0</td>\n",
    "        <td>1</td>\n",
    "        <td>2</td>\n",
    "        <td>3</td>\n",
    "        <td>4</td>\n",
    "        <td>5</td>\n",
    "        <td>6</td>\n",
    "        <td>7</td>\n",
    "        <td>8</td>\n",
    "        <td>9</td>\n",
    "    <tr>\n",
    "        <th>y</th>\n",
    "        <td>1</td>\n",
    "        <td>2</td>\n",
    "        <td>3</td>\n",
    "        <td>4</td>\n",
    "        <td>5</td>\n",
    "        <td>6</td>\n",
    "        <td>7</td>\n",
    "        <td>8</td>\n",
    "        <td>9</td>\n",
    "        <td>0</td>\n",
    "    </tr>\n",
    "</table>"
   ]
  },
  {
   "cell_type": "code",
   "execution_count": 161,
   "metadata": {
    "collapsed": true,
    "deletable": true,
    "editable": true
   },
   "outputs": [],
   "source": [
    "d1y = np.append(d1x[1:], d1x[0])\n",
    "d2y = np.append(d2x[1:], d2x[0])\n",
    "d3y = np.append(d3x[1:], d3x[0])"
   ]
  },
  {
   "cell_type": "code",
   "execution_count": 162,
   "metadata": {
    "collapsed": false,
    "deletable": true,
    "editable": true
   },
   "outputs": [
    {
     "data": {
      "text/plain": [
       "(array([  4,  14,  32, 137, 143, 151, 157, 174, 227, 293]),\n",
       " array([ 14,  32, 137, 143, 151, 157, 174, 227, 293, 440]))"
      ]
     },
     "execution_count": 162,
     "metadata": {},
     "output_type": "execute_result"
    }
   ],
   "source": [
    "d1x[:10], d1y[:10]"
   ]
  },
  {
   "cell_type": "markdown",
   "metadata": {
    "deletable": true,
    "editable": true
   },
   "source": [
    "## Define RNN arch"
   ]
  },
  {
   "cell_type": "markdown",
   "metadata": {},
   "source": [
    "Now that the data is preped and ready, we begin designing out RNN. First, we reshape the data to comply with the standard Keras API. "
   ]
  },
  {
   "cell_type": "code",
   "execution_count": 163,
   "metadata": {
    "collapsed": false,
    "deletable": true,
    "editable": true
   },
   "outputs": [],
   "source": [
    "d1x = d1x.reshape(d1x.shape[0], 1, 1)\n",
    "d2x = d2x.reshape(d2x.shape[0], 1, 1)\n",
    "d3x = d3x.reshape(d3x.shape[0], 1, 1)"
   ]
  },
  {
   "cell_type": "code",
   "execution_count": 179,
   "metadata": {
    "collapsed": false,
    "deletable": true,
    "editable": true
   },
   "outputs": [
    {
     "name": "stdout",
     "output_type": "stream",
     "text": [
      "_________________________________________________________________\n",
      "Layer (type)                 Output Shape              Param #   \n",
      "=================================================================\n",
      "gru_25 (GRU)                 (1, 1, 50)                7800      \n",
      "_________________________________________________________________\n",
      "gru_26 (GRU)                 (1, 1, 100)               45300     \n",
      "_________________________________________________________________\n",
      "gru_27 (GRU)                 (1, 300)                  360900    \n",
      "_________________________________________________________________\n",
      "dense_9 (Dense)              (1, 1)                    301       \n",
      "=================================================================\n",
      "Total params: 414,301.0\n",
      "Trainable params: 414,301\n",
      "Non-trainable params: 0.0\n",
      "_________________________________________________________________\n"
     ]
    }
   ],
   "source": [
    "model = Sequential() \n",
    "model.add(GRU(50, batch_input_shape=(1, d1x.shape[1], d1x.shape[2]), \n",
    "               stateful=True, return_sequences=True))\n",
    "model.add(GRU(100, stateful=True, return_sequences=True))\n",
    "model.add(GRU(300, stateful=True))\n",
    "model.add(Dense(1))\n",
    "model.compile(loss='mse', optimizer='rmsprop')\n",
    "model.summary()"
   ]
  },
  {
   "cell_type": "markdown",
   "metadata": {},
   "source": [
    "### Helper functions"
   ]
  },
  {
   "cell_type": "code",
   "execution_count": 123,
   "metadata": {
    "collapsed": true
   },
   "outputs": [],
   "source": [
    "def plot_helper(l, bl, name, save_path):\n",
    "    x_scale = range(len(l))\n",
    "    plt.clf()\n",
    "    plt.figure(figsize=[8, 6])\n",
    "    plt.subplot(111)\n",
    "    plt.plot(x_scale, l, 'y-', label='Loss')\n",
    "    plt.plot(x_scale, bl, 'r-', label='Best Loss')\n",
    "    plt.title('Loss and Best Loss for ' + name, fontsize=15)\n",
    "    plt.xlabel('Epochs', fontsize=15)\n",
    "    plt.ylabel('Loss', fontsize=15)\n",
    "    plt.legend(fontsize=15)\n",
    "    plt.tight_layout()\n",
    "    plt.savefig(save_path)"
   ]
  },
  {
   "cell_type": "code",
   "execution_count": 58,
   "metadata": {
    "collapsed": true,
    "deletable": true,
    "editable": true
   },
   "outputs": [],
   "source": [
    "def train_helper(model, X, y, epochs, log_at, save_path, epochs_done=0, loss_min=10e10):\n",
    "    loss_history, best_loss = [], []\n",
    "    for i in range(epochs + 1):\n",
    "        h = model.fit(X, y, epochs=1, batch_size=1, shuffle=False, verbose=0)\n",
    "        model.reset_states()\n",
    "        curr_loss = h.history['loss'][0]\n",
    "        if curr_loss < loss_min:\n",
    "            loss_min = curr_loss\n",
    "            model.save(save_path)\n",
    "        loss_history.append(curr_loss)\n",
    "        best_loss.append(loss_min)\n",
    "        if i % log_at == 0:\n",
    "            print(\"Epoch: {}, current_loss: {}, best_loss: {}\".format(i + epochs_done, curr_loss, loss_min))\n",
    "    return loss_history, best_loss, epochs + epochs_done, loss_min"
   ]
  },
  {
   "cell_type": "markdown",
   "metadata": {
    "deletable": true,
    "editable": true
   },
   "source": [
    "## Train all 3 batches\n",
    "### Batch 1 (d1x)"
   ]
  },
  {
   "cell_type": "code",
   "execution_count": 59,
   "metadata": {
    "collapsed": true
   },
   "outputs": [],
   "source": [
    "d1x_loss, d1x_best_loss, e_done, min_loss = [], [], 0, 10e10"
   ]
  },
  {
   "cell_type": "markdown",
   "metadata": {},
   "source": [
    "#### After 1000 epochs"
   ]
  },
  {
   "cell_type": "code",
   "execution_count": 60,
   "metadata": {
    "collapsed": false,
    "deletable": true,
    "editable": true,
    "scrolled": false
   },
   "outputs": [
    {
     "name": "stdout",
     "output_type": "stream",
     "text": [
      "Epoch: 0, current_loss: 290660.20420485275, best_loss: 290660.20420485275\n",
      "Epoch: 100, current_loss: 216930.5529714731, best_loss: 216930.5529714731\n",
      "Epoch: 200, current_loss: 192058.25843447447, best_loss: 184884.0793199631\n",
      "Epoch: 300, current_loss: 165321.97230573342, best_loss: 165321.97230573342\n",
      "Epoch: 400, current_loss: 154334.8175292812, best_loss: 154072.38076261373\n",
      "Epoch: 500, current_loss: 145996.34638453735, best_loss: 145996.34638453735\n",
      "Epoch: 600, current_loss: 140826.02247143709, best_loss: 140779.42039673144\n",
      "Epoch: 700, current_loss: 142349.84330672486, best_loss: 137177.9705002308\n",
      "Epoch: 800, current_loss: 133772.6387121815, best_loss: 133772.6387121815\n",
      "Epoch: 900, current_loss: 145000.62078009473, best_loss: 121494.1971897437\n",
      "Epoch: 1000, current_loss: 84992.75118533848, best_loss: 84992.75118533848\n"
     ]
    }
   ],
   "source": [
    "l, bl, e_done, min_loss = train_helper(\n",
    "    model=model, \n",
    "    X=d1x, y=d1y, \n",
    "    epochs=1000, log_at=100, epochs_done=e_done,\n",
    "    loss_min=min_loss,\n",
    "    save_path=\"../models/03_arch_d1x\")\n",
    "\n",
    "d1x_loss.extend(l)\n",
    "d1x_best_loss.extend(bl)"
   ]
  },
  {
   "cell_type": "code",
   "execution_count": 124,
   "metadata": {
    "collapsed": false
   },
   "outputs": [
    {
     "data": {
      "text/plain": [
       "<matplotlib.figure.Figure at 0x7fd17de23dd8>"
      ]
     },
     "metadata": {},
     "output_type": "display_data"
    },
    {
     "data": {
      "image/png": "[encoded data removed]",
      "text/plain": [
       "<matplotlib.figure.Figure at 0x7fd17de9bf60>"
      ]
     },
     "metadata": {},
     "output_type": "display_data"
    }
   ],
   "source": [
    "plot_helper(d1x_loss, d1x_best_loss, 'd1x (1000 epochs)', '../figures/d1x_1000.png')"
   ]
  },
  {
   "cell_type": "markdown",
   "metadata": {},
   "source": [
    "#### After 5000 epochs"
   ]
  },
  {
   "cell_type": "code",
   "execution_count": 126,
   "metadata": {
    "collapsed": false,
    "scrolled": true
   },
   "outputs": [
    {
     "name": "stdout",
     "output_type": "stream",
     "text": [
      "Epoch: 2500, current_loss: 118415.86698970429, best_loss: 45574.378104764684\n",
      "Epoch: 2600, current_loss: 133363.8267443455, best_loss: 45574.378104764684\n",
      "Epoch: 2700, current_loss: 107889.61807492991, best_loss: 45574.378104764684\n",
      "Epoch: 2800, current_loss: 37117.66716229815, best_loss: 37117.66716229815\n",
      "Epoch: 2900, current_loss: 29818.325670122525, best_loss: 29818.325670122525\n",
      "Epoch: 3000, current_loss: 23598.316199137113, best_loss: 23546.671419973773\n",
      "Epoch: 3100, current_loss: 19669.831392015403, best_loss: 19669.831392015403\n",
      "Epoch: 3200, current_loss: 16105.234719207654, best_loss: 15676.48166335546\n",
      "Epoch: 3300, current_loss: 11590.577664999148, best_loss: 11590.577664999148\n",
      "Epoch: 3400, current_loss: 7884.830030679703, best_loss: 7884.830030679703\n",
      "Epoch: 3500, current_loss: 5000.149537468185, best_loss: 4974.781929000657\n",
      "Epoch: 3600, current_loss: 2669.2114920037297, best_loss: 2662.882315130188\n",
      "Epoch: 3700, current_loss: 1043.257780073739, best_loss: 1043.257780073739\n",
      "Epoch: 3800, current_loss: 187.01756710960314, best_loss: 171.96765247453004\n",
      "Epoch: 3900, current_loss: 4.00621410831809, best_loss: 0.8327347859740257\n",
      "Epoch: 4000, current_loss: 94.2157104244599, best_loss: 0.4936201277260597\n",
      "Epoch: 4100, current_loss: 10.240830117120193, best_loss: 0.19903371046082333\n",
      "Epoch: 4200, current_loss: 9.072908765994585, best_loss: 0.19903371046082333\n",
      "Epoch: 4300, current_loss: 9.702421734969203, best_loss: 0.19903371046082333\n",
      "Epoch: 4400, current_loss: 144769.83857739888, best_loss: 0.19903371046082333\n",
      "Epoch: 4500, current_loss: 122958.12730260681, best_loss: 0.19903371046082333\n",
      "Epoch: 4600, current_loss: 77859.32571628549, best_loss: 0.19903371046082333\n",
      "Epoch: 4700, current_loss: 61450.89489902764, best_loss: 0.19903371046082333\n",
      "Epoch: 4800, current_loss: 221.94214642506378, best_loss: 0.19903371046082333\n",
      "Epoch: 4900, current_loss: 9.687466584289304, best_loss: 0.19903371046082333\n",
      "Epoch: 5000, current_loss: 111.36347338299339, best_loss: 0.19903371046082333\n"
     ]
    }
   ],
   "source": [
    "l, bl, e_done, min_loss = train_helper(\n",
    "    model=model, \n",
    "    X=d2x, y=d2y, \n",
    "    epochs=2500, log_at=100, epochs_done=e_done,\n",
    "    loss_min=min_loss,\n",
    "    save_path=\"../models/03_arch_d1x\")\n",
    "\n",
    "d1x_loss.extend(l)\n",
    "d1x_best_loss.extend(bl)"
   ]
  },
  {
   "cell_type": "code",
   "execution_count": 127,
   "metadata": {
    "collapsed": false
   },
   "outputs": [
    {
     "data": {
      "text/plain": [
       "<matplotlib.figure.Figure at 0x7fd17dd04080>"
      ]
     },
     "metadata": {},
     "output_type": "display_data"
    },
    {
     "data": {
      "image/png": "[encoded data removed]",
      "text/plain": [
       "<matplotlib.figure.Figure at 0x7fd17dd01518>"
      ]
     },
     "metadata": {},
     "output_type": "display_data"
    }
   ],
   "source": [
    "plot_helper(d1x_loss, d1x_best_loss, 'd1x (5000 epochs)', '../figures/d1x_5000.png')"
   ]
  },
  {
   "cell_type": "markdown",
   "metadata": {},
   "source": [
    "### Batch 2 (d2x)"
   ]
  },
  {
   "cell_type": "code",
   "execution_count": 171,
   "metadata": {
    "collapsed": true,
    "deletable": true,
    "editable": true
   },
   "outputs": [],
   "source": [
    "d2x_loss, d2x_best_loss, d2x_e_done, d2x_min_loss = [], [], 0, 10e10"
   ]
  },
  {
   "cell_type": "markdown",
   "metadata": {},
   "source": [
    "#### After 1000 epochs"
   ]
  },
  {
   "cell_type": "code",
   "execution_count": 172,
   "metadata": {
    "collapsed": false
   },
   "outputs": [
    {
     "name": "stdout",
     "output_type": "stream",
     "text": [
      "Epoch: 0, current_loss: 20363.476814856895, best_loss: 20363.476814856895\n",
      "Epoch: 100, current_loss: 4556.700294604669, best_loss: 4542.56066440619\n",
      "Epoch: 200, current_loss: 4448.053642878165, best_loss: 4344.086785096389\n",
      "Epoch: 300, current_loss: 4614.696315040956, best_loss: 4344.086785096389\n",
      "Epoch: 400, current_loss: 4472.371103946979, best_loss: 4344.086785096389\n",
      "Epoch: 500, current_loss: 4465.202433952918, best_loss: 4344.086785096389\n",
      "Epoch: 600, current_loss: 439.71710635721684, best_loss: 439.71710635721684\n",
      "Epoch: 700, current_loss: 116.4255518592321, best_loss: 105.21092478587077\n",
      "Epoch: 800, current_loss: 227.41748511676604, best_loss: 35.40824126968017\n",
      "Epoch: 900, current_loss: 4529.557448590031, best_loss: 35.40824126968017\n",
      "Epoch: 1000, current_loss: 5106.619009749247, best_loss: 35.40824126968017\n"
     ]
    }
   ],
   "source": [
    "l, bl, d2x_e_done, d2x_min_loss = train_helper(\n",
    "    model=model, \n",
    "    X=d2x, y=d2y, \n",
    "    epochs=1000, log_at=100, epochs_done=d2x_e_done,\n",
    "    loss_min=d2x_min_loss,\n",
    "    save_path=\"../models/03_arch_d2x\")\n",
    "\n",
    "d2x_loss.extend(l)\n",
    "d2x_best_loss.extend(bl)"
   ]
  },
  {
   "cell_type": "code",
   "execution_count": 173,
   "metadata": {
    "collapsed": false
   },
   "outputs": [
    {
     "data": {
      "text/plain": [
       "<matplotlib.figure.Figure at 0x7fd16c21bbe0>"
      ]
     },
     "metadata": {},
     "output_type": "display_data"
    },
    {
     "data": {
      "image/png": "[encoded data removed]",
      "text/plain": [
       "<matplotlib.figure.Figure at 0x7fd16c21bcf8>"
      ]
     },
     "metadata": {},
     "output_type": "display_data"
    }
   ],
   "source": [
    "plot_helper(d2x_loss, d2x_best_loss, 'd2x (1000 epochs)', '../figures/d2x_1000.png')"
   ]
  },
  {
   "cell_type": "markdown",
   "metadata": {},
   "source": [
    "#### After 2500 epochs"
   ]
  },
  {
   "cell_type": "code",
   "execution_count": 176,
   "metadata": {
    "collapsed": false
   },
   "outputs": [
    {
     "name": "stdout",
     "output_type": "stream",
     "text": [
      "Epoch: 2000, current_loss: 7249.184082613541, best_loss: 0.4160074167526685\n",
      "Epoch: 2100, current_loss: 1.550086500051503, best_loss: 0.4160074167526685\n",
      "Epoch: 2200, current_loss: 1.3181478750778366, best_loss: 0.4160074167526685\n",
      "Epoch: 2300, current_loss: 1.3570266632982215, best_loss: 0.4160074167526685\n",
      "Epoch: 2400, current_loss: 7398.5717109566185, best_loss: 0.3514425629176773\n",
      "Epoch: 2500, current_loss: 0.8423750196346261, best_loss: 0.08417872772910275\n"
     ]
    }
   ],
   "source": [
    "l, bl, d2x_e_done, d2x_min_loss = train_helper(\n",
    "    model=model, \n",
    "    X=d2x, y=d2y, \n",
    "    epochs=500, log_at=100, epochs_done=d2x_e_done,\n",
    "    loss_min=d2x_min_loss,\n",
    "    save_path=\"../models/03_arch_d2x\")\n",
    "\n",
    "d2x_loss.extend(l)\n",
    "d2x_best_loss.extend(bl)"
   ]
  },
  {
   "cell_type": "code",
   "execution_count": 177,
   "metadata": {
    "collapsed": false
   },
   "outputs": [
    {
     "data": {
      "text/plain": [
       "<matplotlib.figure.Figure at 0x7fd16927b978>"
      ]
     },
     "metadata": {},
     "output_type": "display_data"
    },
    {
     "data": {
      "image/png": "[encoded data removed]",
      "text/plain": [
       "<matplotlib.figure.Figure at 0x7fd16926ec88>"
      ]
     },
     "metadata": {},
     "output_type": "display_data"
    }
   ],
   "source": [
    "plot_helper(d2x_loss, d2x_best_loss, 'd2x (2500 epochs)', '../figures/d2x_2500.png')"
   ]
  },
  {
   "cell_type": "markdown",
   "metadata": {},
   "source": [
    "## Batch 3 (d3x)"
   ]
  },
  {
   "cell_type": "code",
   "execution_count": 178,
   "metadata": {
    "collapsed": true
   },
   "outputs": [],
   "source": [
    "d3x_loss, d3x_best_loss, d3x_e_done, d3x_min_loss = [], [], 0, 10e10"
   ]
  },
  {
   "cell_type": "markdown",
   "metadata": {},
   "source": [
    "#### After 1000 epochs"
   ]
  },
  {
   "cell_type": "code",
   "execution_count": 180,
   "metadata": {
    "collapsed": false
   },
   "outputs": [
    {
     "name": "stdout",
     "output_type": "stream",
     "text": [
      "Epoch: 0, current_loss: 784150.8779860276, best_loss: 784150.8779860276\n",
      "Epoch: 100, current_loss: 526612.4219196027, best_loss: 526612.4219196027\n",
      "Epoch: 200, current_loss: 371576.4985926151, best_loss: 371576.4985926151\n",
      "Epoch: 300, current_loss: 276157.40616356407, best_loss: 276157.40616356407\n",
      "Epoch: 400, current_loss: 221252.91377443884, best_loss: 221252.91377443884\n",
      "Epoch: 500, current_loss: 189963.55000341855, best_loss: 189963.55000341855\n",
      "Epoch: 600, current_loss: 173472.36828284996, best_loss: 173472.36828284996\n",
      "Epoch: 700, current_loss: 167475.46688030317, best_loss: 165722.12767701645\n",
      "Epoch: 800, current_loss: 161921.39756473555, best_loss: 161921.39756473555\n",
      "Epoch: 900, current_loss: 160664.32074038914, best_loss: 160663.22481757402\n",
      "Epoch: 1000, current_loss: 160836.15451621093, best_loss: 160538.55127274015\n"
     ]
    }
   ],
   "source": [
    "l, bl, d3x_e_done, d3x_min_loss = train_helper(\n",
    "    model=model, \n",
    "    X=d3x, y=d3y, \n",
    "    epochs=1000, log_at=100, epochs_done=d3x_e_done,\n",
    "    loss_min=d3x_min_loss,\n",
    "    save_path=\"../models/03_arch_d3x\")\n",
    "\n",
    "d3x_loss.extend(l)\n",
    "d3x_best_loss.extend(bl)"
   ]
  },
  {
   "cell_type": "code",
   "execution_count": 181,
   "metadata": {
    "collapsed": false
   },
   "outputs": [
    {
     "data": {
      "text/plain": [
       "<matplotlib.figure.Figure at 0x7fd16c21b0b8>"
      ]
     },
     "metadata": {},
     "output_type": "display_data"
    },
    {
     "data": {
      "image/png": "[encoded data removed]",
      "text/plain": [
       "<matplotlib.figure.Figure at 0x7fd16e4e68d0>"
      ]
     },
     "metadata": {},
     "output_type": "display_data"
    }
   ],
   "source": [
    "plot_helper(d3x_loss, d3x_best_loss, 'd3x (1000 epochs)', '../figures/d3x_1000.png')"
   ]
  },
  {
   "cell_type": "markdown",
   "metadata": {},
   "source": [
    "#### After 6000 epochs"
   ]
  },
  {
   "cell_type": "code",
   "execution_count": 194,
   "metadata": {
    "collapsed": false
   },
   "outputs": [
    {
     "name": "stdout",
     "output_type": "stream",
     "text": [
      "Epoch: 4000, current_loss: 6.817868268260589, best_loss: 4.070477033463808\n",
      "Epoch: 4100, current_loss: 5.123243107245519, best_loss: 3.102847398473666\n",
      "Epoch: 4200, current_loss: 4.7875750838563995, best_loss: 2.397874190257146\n",
      "Epoch: 4300, current_loss: 7.559802378599461, best_loss: 0.7662868126868628\n",
      "Epoch: 4400, current_loss: 7.698817676076522, best_loss: 0.7662868126868628\n",
      "Epoch: 4500, current_loss: 2.9454841625231962, best_loss: 0.4587669359870443\n",
      "Epoch: 4600, current_loss: 2.494176515754169, best_loss: 0.4587669359870443\n",
      "Epoch: 4700, current_loss: 1.991158493866141, best_loss: 0.4587669359870443\n",
      "Epoch: 4800, current_loss: 3.984342838709171, best_loss: 0.4236574511204918\n",
      "Epoch: 4900, current_loss: 1.3795154123352125, best_loss: 0.4004909944219085\n",
      "Epoch: 5000, current_loss: 1.5988498261341682, best_loss: 0.35031771188816774\n",
      "Epoch: 5100, current_loss: 1.0996696224006324, best_loss: 0.3414852771048362\n",
      "Epoch: 5200, current_loss: 0.44257276892088926, best_loss: 0.272310551846973\n",
      "Epoch: 5300, current_loss: 2.3373406460651984, best_loss: 0.12377932254010095\n",
      "Epoch: 5400, current_loss: 1.358323386655404, best_loss: 0.12377932254010095\n",
      "Epoch: 5500, current_loss: 1.3944273843215063, best_loss: 0.12377932254010095\n",
      "Epoch: 5600, current_loss: 11.33035483612464, best_loss: 0.12377932254010095\n",
      "Epoch: 5700, current_loss: 2.3043231711937833, best_loss: 0.12377932254010095\n",
      "Epoch: 5800, current_loss: 0.6079540287072842, best_loss: 0.12377932254010095\n",
      "Epoch: 5900, current_loss: 0.470768262560551, best_loss: 0.12377932254010095\n",
      "Epoch: 6000, current_loss: 1.5041523415308733, best_loss: 0.12377932254010095\n"
     ]
    }
   ],
   "source": [
    "l, bl, d3x_e_done, d3x_min_loss = train_helper(\n",
    "    model=model, \n",
    "    X=d3x, y=d3y, \n",
    "    epochs=2000, log_at=100, epochs_done=d3x_e_done,\n",
    "    loss_min=d3x_min_loss,\n",
    "    save_path=\"../models/03_arch_d3x\")\n",
    "\n",
    "d3x_loss.extend(l)\n",
    "d3x_best_loss.extend(bl)"
   ]
  },
  {
   "cell_type": "code",
   "execution_count": 195,
   "metadata": {
    "collapsed": false
   },
   "outputs": [
    {
     "data": {
      "text/plain": [
       "<matplotlib.figure.Figure at 0x7fd16795ec18>"
      ]
     },
     "metadata": {},
     "output_type": "display_data"
    },
    {
     "data": {
      "image/png": "[encoded data removed]",
      "text/plain": [
       "<matplotlib.figure.Figure at 0x7fd16795ec50>"
      ]
     },
     "metadata": {},
     "output_type": "display_data"
    }
   ],
   "source": [
    "plot_helper(d3x_loss, d3x_best_loss, 'd3x (6000 epochs)', '../figures/d3x_6000.png')"
   ]
  },
  {
   "cell_type": "markdown",
   "metadata": {},
   "source": [
    "### All losses together"
   ]
  },
  {
   "cell_type": "markdown",
   "metadata": {},
   "source": [
    "def plot_helper(l, bl, name, save_path):\n",
    "    x_scale = range(len(l))\n",
    "    plt.clf()\n",
    "    plt.figure(figsize=[8, 6])\n",
    "    plt.subplot(111)\n",
    "    plt.plot(x_scale, l, 'y-', label='Loss')\n",
    "    plt.plot(x_scale, bl, 'r-', label='Best Loss')\n",
    "    plt.title('Loss and Best Loss for ' + name, fontsize=15)\n",
    "    plt.xlabel('Epochs', fontsize=15)\n",
    "    plt.ylabel('Loss', fontsize=15)\n",
    "    plt.legend(fontsize=15)\n",
    "    plt.tight_layout()\n",
    "    plt.savefig(save_path)"
   ]
  },
  {
   "cell_type": "code",
   "execution_count": 202,
   "metadata": {
    "collapsed": false
   },
   "outputs": [
    {
     "data": {
      "text/plain": [
       "<matplotlib.figure.Figure at 0x7fd15f6899e8>"
      ]
     },
     "metadata": {},
     "output_type": "display_data"
    },
    {
     "data": {
      "image/png": "[encoded data removed]",
      "text/plain": [
       "<matplotlib.figure.Figure at 0x7fd15f6899b0>"
      ]
     },
     "metadata": {},
     "output_type": "display_data"
    }
   ],
   "source": [
    "plt.clf()\n",
    "plt.figure(figsize=[8, 6])\n",
    "plt.subplot(111)\n",
    "plt.plot(range(len(d1x_best_loss)), d1x_best_loss, 'r-', label='d1x')\n",
    "plt.plot(range(len(d2x_best_loss)), d2x_best_loss, 'b-', label='d2x')\n",
    "plt.plot(range(len(d3x_best_loss)), d3x_best_loss, 'g-', label='d3x')\n",
    "plt.title('Losses for all 3 batches', fontsize=15)\n",
    "plt.xlabel('Epochs', fontsize=15)\n",
    "plt.ylabel('Loss', fontsize=15)\n",
    "plt.legend(fontsize=15)\n",
    "plt.tight_layout()\n",
    "plt.savefig(\"../figures/03_arch_all_losses.png\")"
   ]
  },
  {
   "cell_type": "markdown",
   "metadata": {},
   "source": [
    "## Time for prediction!!"
   ]
  },
  {
   "cell_type": "code",
   "execution_count": 296,
   "metadata": {
    "collapsed": true
   },
   "outputs": [],
   "source": [
    "model = load_model(\"../models/03_arch_d2x\")"
   ]
  },
  {
   "cell_type": "markdown",
   "metadata": {},
   "source": [
    "Say I like the movies:\n",
    "    1. Spiderman\n",
    "    2. Captain America\n",
    "    3. Batman v Superman\n",
    "    \n",
    "These have movieId's 163, 23, and 44 respectively\n",
    "    "
   ]
  },
  {
   "cell_type": "code",
   "execution_count": 302,
   "metadata": {
    "collapsed": false
   },
   "outputs": [],
   "source": [
    "movie_id = np.array([163, 23, 44])\n",
    "movie_id = movie_id.reshape(movie_id.shape[0], 1, 1)"
   ]
  },
  {
   "cell_type": "code",
   "execution_count": 303,
   "metadata": {
    "collapsed": false
   },
   "outputs": [],
   "source": [
    "model.reset_states()\n",
    "pred = model.predict(movie_id, batch_size=1)\n",
    "pred = np.array(pred, dtype='int')"
   ]
  },
  {
   "cell_type": "code",
   "execution_count": 304,
   "metadata": {
    "collapsed": false
   },
   "outputs": [
    {
     "data": {
      "text/plain": [
       "array([25, 12,  9])"
      ]
     },
     "execution_count": 304,
     "metadata": {},
     "output_type": "execute_result"
    }
   ],
   "source": [
    "pred = pred.reshape((3, ))\n",
    "pred"
   ]
  },
  {
   "cell_type": "code",
   "execution_count": 311,
   "metadata": {
    "collapsed": false
   },
   "outputs": [],
   "source": [
    "data = pd.read_csv(\"../data/movie_metadata.csv\")"
   ]
  },
  {
   "cell_type": "code",
   "execution_count": 306,
   "metadata": {
    "collapsed": false
   },
   "outputs": [
    {
     "data": {
      "text/plain": [
       "25        The Amazing Spider-Man \n",
       "12    Captain America: Civil War \n",
       "9                   Spider-Man 3 \n",
       "Name: movie_title, dtype: object"
      ]
     },
     "execution_count": 306,
     "metadata": {},
     "output_type": "execute_result"
    }
   ],
   "source": [
    "data.loc[pred, :].movie_title"
   ]
  },
  {
   "cell_type": "markdown",
   "metadata": {},
   "source": [
    "These movies correspond to:\n",
    "    1. The Amazing siper man\n",
    "    2. Batman vs superman\n",
    "    3. Spider man 3"
   ]
  },
  {
   "cell_type": "code",
   "execution_count": 307,
   "metadata": {
    "collapsed": false
   },
   "outputs": [
    {
     "data": {
      "text/plain": [
       "24          Iron Man 3 \n",
       "11    Superman Returns \n",
       "9         Spider-Man 3 \n",
       "Name: movie_title, dtype: object"
      ]
     },
     "execution_count": 307,
     "metadata": {},
     "output_type": "execute_result"
    }
   ],
   "source": [
    "movie_id = np.array([82, 23, 44])\n",
    "movie_id = movie_id.reshape(movie_id.shape[0], 1, 1)\n",
    "model.reset_states()\n",
    "pred = model.predict(movie_id, batch_size=1)\n",
    "pred = np.array(pred, dtype='int')\n",
    "pred = pred.reshape((3, ))\n",
    "data.loc[pred, :].movie_title"
   ]
  },
  {
   "cell_type": "code",
   "execution_count": 312,
   "metadata": {
    "collapsed": false
   },
   "outputs": [
    {
     "data": {
      "text/plain": [
       "20    Man of Steel \n",
       "17    The Avengers \n",
       "19      Iron Man 3 \n",
       "Name: movie_title, dtype: object"
      ]
     },
     "execution_count": 312,
     "metadata": {},
     "output_type": "execute_result"
    }
   ],
   "source": [
    "movie_id = np.array([44, 163, 23])\n",
    "movie_id = movie_id.reshape(movie_id.shape[0], 1, 1)\n",
    "model.reset_states()\n",
    "pred = model.predict(movie_id, batch_size=1)\n",
    "pred = np.array(pred, dtype='int')\n",
    "pred = pred.reshape((3, ))\n",
    "data.loc[pred, :].movie_title"
   ]
  },
  {
   "cell_type": "code",
   "execution_count": null,
   "metadata": {
    "collapsed": true
   },
   "outputs": [],
   "source": []
  }
 ],
 "metadata": {
  "kernelspec": {
   "display_name": "Python 3",
   "language": "python",
   "name": "python3"
  },
  "language_info": {
   "codemirror_mode": {
    "name": "ipython",
    "version": 3
   },
   "file_extension": ".py",
   "mimetype": "text/x-python",
   "name": "python",
   "nbconvert_exporter": "python",
   "pygments_lexer": "ipython3",
   "version": "3.6.0"
  }
 },
 "nbformat": 4,
 "nbformat_minor": 2
}
