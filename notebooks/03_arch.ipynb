{
 "cells": [
  {
   "cell_type": "code",
   "execution_count": 94,
   "metadata": {
    "collapsed": true
   },
   "outputs": [],
   "source": [
    "import numpy as np\n",
    "import pandas as pd\n",
    "import matplotlib.pyplot as plt\n",
    "from keras.models import Sequential\n",
    "from keras.layers import LSTM, GRU, Dense, Dropout\n",
    "%matplotlib inline"
   ]
  },
  {
   "cell_type": "code",
   "execution_count": 4,
   "metadata": {
    "collapsed": false
   },
   "outputs": [],
   "source": [
    "ratings = pd.read_csv(\"../data/ml-latest-small/ratings.csv\")\n",
    "movies = pd.read_csv(\"../data/ml-latest-small/movies.csv\", index_col=0)"
   ]
  },
  {
   "cell_type": "code",
   "execution_count": 7,
   "metadata": {
    "collapsed": false
   },
   "outputs": [
    {
     "name": "stdout",
     "output_type": "stream",
     "text": [
      "links.csv  movies.csv  ratings.csv  README.txt  tags.csv\r\n"
     ]
    }
   ],
   "source": [
    "%ls ../data/ml-latest-small/"
   ]
  },
  {
   "cell_type": "code",
   "execution_count": 5,
   "metadata": {
    "collapsed": false
   },
   "outputs": [
    {
     "data": {
      "text/html": [
       "<div>\n",
       "<table border=\"1\" class=\"dataframe\">\n",
       "  <thead>\n",
       "    <tr style=\"text-align: right;\">\n",
       "      <th></th>\n",
       "      <th>userId</th>\n",
       "      <th>movieId</th>\n",
       "      <th>rating</th>\n",
       "      <th>timestamp</th>\n",
       "    </tr>\n",
       "  </thead>\n",
       "  <tbody>\n",
       "    <tr>\n",
       "      <th>0</th>\n",
       "      <td>1</td>\n",
       "      <td>31</td>\n",
       "      <td>2.5</td>\n",
       "      <td>1260759144</td>\n",
       "    </tr>\n",
       "    <tr>\n",
       "      <th>1</th>\n",
       "      <td>1</td>\n",
       "      <td>1029</td>\n",
       "      <td>3.0</td>\n",
       "      <td>1260759179</td>\n",
       "    </tr>\n",
       "    <tr>\n",
       "      <th>2</th>\n",
       "      <td>1</td>\n",
       "      <td>1061</td>\n",
       "      <td>3.0</td>\n",
       "      <td>1260759182</td>\n",
       "    </tr>\n",
       "    <tr>\n",
       "      <th>3</th>\n",
       "      <td>1</td>\n",
       "      <td>1129</td>\n",
       "      <td>2.0</td>\n",
       "      <td>1260759185</td>\n",
       "    </tr>\n",
       "    <tr>\n",
       "      <th>4</th>\n",
       "      <td>1</td>\n",
       "      <td>1172</td>\n",
       "      <td>4.0</td>\n",
       "      <td>1260759205</td>\n",
       "    </tr>\n",
       "  </tbody>\n",
       "</table>\n",
       "</div>"
      ],
      "text/plain": [
       "   userId  movieId  rating   timestamp\n",
       "0       1       31     2.5  1260759144\n",
       "1       1     1029     3.0  1260759179\n",
       "2       1     1061     3.0  1260759182\n",
       "3       1     1129     2.0  1260759185\n",
       "4       1     1172     4.0  1260759205"
      ]
     },
     "execution_count": 5,
     "metadata": {},
     "output_type": "execute_result"
    }
   ],
   "source": [
    "ratings.head()"
   ]
  },
  {
   "cell_type": "code",
   "execution_count": 32,
   "metadata": {
    "collapsed": false
   },
   "outputs": [
    {
     "data": {
      "text/html": [
       "<div>\n",
       "<table border=\"1\" class=\"dataframe\">\n",
       "  <thead>\n",
       "    <tr style=\"text-align: right;\">\n",
       "      <th></th>\n",
       "      <th>title</th>\n",
       "      <th>genres</th>\n",
       "    </tr>\n",
       "    <tr>\n",
       "      <th>movieId</th>\n",
       "      <th></th>\n",
       "      <th></th>\n",
       "    </tr>\n",
       "  </thead>\n",
       "  <tbody>\n",
       "    <tr>\n",
       "      <th>1</th>\n",
       "      <td>Toy Story (1995)</td>\n",
       "      <td>Adventure|Animation|Children|Comedy|Fantasy</td>\n",
       "    </tr>\n",
       "    <tr>\n",
       "      <th>2</th>\n",
       "      <td>Jumanji (1995)</td>\n",
       "      <td>Adventure|Children|Fantasy</td>\n",
       "    </tr>\n",
       "    <tr>\n",
       "      <th>3</th>\n",
       "      <td>Grumpier Old Men (1995)</td>\n",
       "      <td>Comedy|Romance</td>\n",
       "    </tr>\n",
       "    <tr>\n",
       "      <th>4</th>\n",
       "      <td>Waiting to Exhale (1995)</td>\n",
       "      <td>Comedy|Drama|Romance</td>\n",
       "    </tr>\n",
       "    <tr>\n",
       "      <th>5</th>\n",
       "      <td>Father of the Bride Part II (1995)</td>\n",
       "      <td>Comedy</td>\n",
       "    </tr>\n",
       "  </tbody>\n",
       "</table>\n",
       "</div>"
      ],
      "text/plain": [
       "                                      title  \\\n",
       "movieId                                       \n",
       "1                          Toy Story (1995)   \n",
       "2                            Jumanji (1995)   \n",
       "3                   Grumpier Old Men (1995)   \n",
       "4                  Waiting to Exhale (1995)   \n",
       "5        Father of the Bride Part II (1995)   \n",
       "\n",
       "                                              genres  \n",
       "movieId                                               \n",
       "1        Adventure|Animation|Children|Comedy|Fantasy  \n",
       "2                         Adventure|Children|Fantasy  \n",
       "3                                     Comedy|Romance  \n",
       "4                               Comedy|Drama|Romance  \n",
       "5                                             Comedy  "
      ]
     },
     "execution_count": 32,
     "metadata": {},
     "output_type": "execute_result"
    }
   ],
   "source": [
    "movies.head()"
   ]
  },
  {
   "cell_type": "code",
   "execution_count": 8,
   "metadata": {
    "collapsed": true
   },
   "outputs": [],
   "source": [
    "good_ratings = ratings[ratings.rating > 2.4]"
   ]
  },
  {
   "cell_type": "code",
   "execution_count": 10,
   "metadata": {
    "collapsed": false
   },
   "outputs": [
    {
     "data": {
      "text/plain": [
       "((86619, 4), (100004, 4))"
      ]
     },
     "execution_count": 10,
     "metadata": {},
     "output_type": "execute_result"
    }
   ],
   "source": [
    "good_ratings.shape, ratings.shape"
   ]
  },
  {
   "cell_type": "code",
   "execution_count": 43,
   "metadata": {
    "collapsed": false
   },
   "outputs": [
    {
     "data": {
      "text/html": [
       "<div>\n",
       "<table border=\"1\" class=\"dataframe\">\n",
       "  <thead>\n",
       "    <tr style=\"text-align: right;\">\n",
       "      <th></th>\n",
       "      <th>userId</th>\n",
       "      <th>movieId</th>\n",
       "      <th>rating</th>\n",
       "      <th>timestamp</th>\n",
       "    </tr>\n",
       "  </thead>\n",
       "  <tbody>\n",
       "    <tr>\n",
       "      <th>0</th>\n",
       "      <td>1</td>\n",
       "      <td>31</td>\n",
       "      <td>2.5</td>\n",
       "      <td>1260759144</td>\n",
       "    </tr>\n",
       "    <tr>\n",
       "      <th>1</th>\n",
       "      <td>1</td>\n",
       "      <td>1029</td>\n",
       "      <td>3.0</td>\n",
       "      <td>1260759179</td>\n",
       "    </tr>\n",
       "    <tr>\n",
       "      <th>2</th>\n",
       "      <td>1</td>\n",
       "      <td>1061</td>\n",
       "      <td>3.0</td>\n",
       "      <td>1260759182</td>\n",
       "    </tr>\n",
       "    <tr>\n",
       "      <th>4</th>\n",
       "      <td>1</td>\n",
       "      <td>1172</td>\n",
       "      <td>4.0</td>\n",
       "      <td>1260759205</td>\n",
       "    </tr>\n",
       "    <tr>\n",
       "      <th>8</th>\n",
       "      <td>1</td>\n",
       "      <td>1339</td>\n",
       "      <td>3.5</td>\n",
       "      <td>1260759125</td>\n",
       "    </tr>\n",
       "  </tbody>\n",
       "</table>\n",
       "</div>"
      ],
      "text/plain": [
       "   userId  movieId  rating   timestamp\n",
       "0       1       31     2.5  1260759144\n",
       "1       1     1029     3.0  1260759179\n",
       "2       1     1061     3.0  1260759182\n",
       "4       1     1172     4.0  1260759205\n",
       "8       1     1339     3.5  1260759125"
      ]
     },
     "execution_count": 43,
     "metadata": {},
     "output_type": "execute_result"
    }
   ],
   "source": [
    "good_ratings.head()"
   ]
  },
  {
   "cell_type": "code",
   "execution_count": 39,
   "metadata": {
    "collapsed": true
   },
   "outputs": [],
   "source": [
    "def apply_fun(x):\n",
    "    x['MovieName'] = movies.title[x.movieId]\n",
    "    return x"
   ]
  },
  {
   "cell_type": "code",
   "execution_count": 60,
   "metadata": {
    "collapsed": false
   },
   "outputs": [
    {
     "name": "stderr",
     "output_type": "stream",
     "text": [
      "/home/nischal/anaconda3/lib/python3.6/site-packages/ipykernel/__main__.py:2: SettingWithCopyWarning: \n",
      "A value is trying to be set on a copy of a slice from a DataFrame.\n",
      "Try using .loc[row_indexer,col_indexer] = value instead\n",
      "\n",
      "See the caveats in the documentation: http://pandas.pydata.org/pandas-docs/stable/indexing.html#indexing-view-versus-copy\n",
      "  from ipykernel import kernelapp as app\n"
     ]
    },
    {
     "data": {
      "text/html": [
       "<div>\n",
       "<table border=\"1\" class=\"dataframe\">\n",
       "  <thead>\n",
       "    <tr style=\"text-align: right;\">\n",
       "      <th></th>\n",
       "      <th>userId</th>\n",
       "      <th>movieId</th>\n",
       "      <th>rating</th>\n",
       "      <th>timestamp</th>\n",
       "      <th>MovieName</th>\n",
       "    </tr>\n",
       "  </thead>\n",
       "  <tbody>\n",
       "    <tr>\n",
       "      <th>0</th>\n",
       "      <td>1</td>\n",
       "      <td>31</td>\n",
       "      <td>2.5</td>\n",
       "      <td>1260759144</td>\n",
       "      <td>Dangerous Minds (1995)</td>\n",
       "    </tr>\n",
       "    <tr>\n",
       "      <th>1</th>\n",
       "      <td>1</td>\n",
       "      <td>1029</td>\n",
       "      <td>3.0</td>\n",
       "      <td>1260759179</td>\n",
       "      <td>Dumbo (1941)</td>\n",
       "    </tr>\n",
       "    <tr>\n",
       "      <th>2</th>\n",
       "      <td>1</td>\n",
       "      <td>1061</td>\n",
       "      <td>3.0</td>\n",
       "      <td>1260759182</td>\n",
       "      <td>Sleepers (1996)</td>\n",
       "    </tr>\n",
       "    <tr>\n",
       "      <th>4</th>\n",
       "      <td>1</td>\n",
       "      <td>1172</td>\n",
       "      <td>4.0</td>\n",
       "      <td>1260759205</td>\n",
       "      <td>Cinema Paradiso (Nuovo cinema Paradiso) (1989)</td>\n",
       "    </tr>\n",
       "    <tr>\n",
       "      <th>8</th>\n",
       "      <td>1</td>\n",
       "      <td>1339</td>\n",
       "      <td>3.5</td>\n",
       "      <td>1260759125</td>\n",
       "      <td>Dracula (Bram Stoker's Dracula) (1992)</td>\n",
       "    </tr>\n",
       "  </tbody>\n",
       "</table>\n",
       "</div>"
      ],
      "text/plain": [
       "   userId  movieId  rating   timestamp  \\\n",
       "0       1       31     2.5  1260759144   \n",
       "1       1     1029     3.0  1260759179   \n",
       "2       1     1061     3.0  1260759182   \n",
       "4       1     1172     4.0  1260759205   \n",
       "8       1     1339     3.5  1260759125   \n",
       "\n",
       "                                        MovieName  \n",
       "0                          Dangerous Minds (1995)  \n",
       "1                                    Dumbo (1941)  \n",
       "2                                 Sleepers (1996)  \n",
       "4  Cinema Paradiso (Nuovo cinema Paradiso) (1989)  \n",
       "8          Dracula (Bram Stoker's Dracula) (1992)  "
      ]
     },
     "execution_count": 60,
     "metadata": {},
     "output_type": "execute_result"
    }
   ],
   "source": [
    "one_user = good_ratings[good_ratings.userId == 1]\n",
    "one_user['MovieName'] = 'movie'\n",
    "one_user = one_user.apply(apply_fun, axis=1)\n",
    "one_user.drop('movieId', axis=1)\n",
    "one_user.head()"
   ]
  },
  {
   "cell_type": "code",
   "execution_count": 61,
   "metadata": {
    "collapsed": false
   },
   "outputs": [
    {
     "data": {
      "text/html": [
       "<div>\n",
       "<table border=\"1\" class=\"dataframe\">\n",
       "  <thead>\n",
       "    <tr style=\"text-align: right;\">\n",
       "      <th></th>\n",
       "      <th>userId</th>\n",
       "      <th>movieId</th>\n",
       "      <th>rating</th>\n",
       "      <th>timestamp</th>\n",
       "      <th>MovieName</th>\n",
       "    </tr>\n",
       "  </thead>\n",
       "  <tbody>\n",
       "    <tr>\n",
       "      <th>17</th>\n",
       "      <td>1</td>\n",
       "      <td>2455</td>\n",
       "      <td>2.5</td>\n",
       "      <td>1260759113</td>\n",
       "      <td>Fly, The (1986)</td>\n",
       "    </tr>\n",
       "    <tr>\n",
       "      <th>19</th>\n",
       "      <td>1</td>\n",
       "      <td>3671</td>\n",
       "      <td>3.0</td>\n",
       "      <td>1260759117</td>\n",
       "      <td>Blazing Saddles (1974)</td>\n",
       "    </tr>\n",
       "    <tr>\n",
       "      <th>8</th>\n",
       "      <td>1</td>\n",
       "      <td>1339</td>\n",
       "      <td>3.5</td>\n",
       "      <td>1260759125</td>\n",
       "      <td>Dracula (Bram Stoker's Dracula) (1992)</td>\n",
       "    </tr>\n",
       "    <tr>\n",
       "      <th>10</th>\n",
       "      <td>1</td>\n",
       "      <td>1371</td>\n",
       "      <td>2.5</td>\n",
       "      <td>1260759135</td>\n",
       "      <td>Star Trek: The Motion Picture (1979)</td>\n",
       "    </tr>\n",
       "    <tr>\n",
       "      <th>13</th>\n",
       "      <td>1</td>\n",
       "      <td>2105</td>\n",
       "      <td>4.0</td>\n",
       "      <td>1260759139</td>\n",
       "      <td>Tron (1982)</td>\n",
       "    </tr>\n",
       "  </tbody>\n",
       "</table>\n",
       "</div>"
      ],
      "text/plain": [
       "    userId  movieId  rating   timestamp  \\\n",
       "17       1     2455     2.5  1260759113   \n",
       "19       1     3671     3.0  1260759117   \n",
       "8        1     1339     3.5  1260759125   \n",
       "10       1     1371     2.5  1260759135   \n",
       "13       1     2105     4.0  1260759139   \n",
       "\n",
       "                                 MovieName  \n",
       "17                         Fly, The (1986)  \n",
       "19                  Blazing Saddles (1974)  \n",
       "8   Dracula (Bram Stoker's Dracula) (1992)  \n",
       "10    Star Trek: The Motion Picture (1979)  \n",
       "13                             Tron (1982)  "
      ]
     },
     "execution_count": 61,
     "metadata": {},
     "output_type": "execute_result"
    }
   ],
   "source": [
    "one_user.sort_values(by='timestamp').head()"
   ]
  },
  {
   "cell_type": "code",
   "execution_count": 67,
   "metadata": {
    "collapsed": false
   },
   "outputs": [
    {
     "name": "stdout",
     "output_type": "stream",
     "text": [
      "31 -> 1029 -> 1061 -> 1172 -> 1339 -> 1371 -> 1953 -> 2105 -> 2150 -> 2455 -> 3671\n"
     ]
    }
   ],
   "source": [
    "for mid in one_user.movieId.values[:-1]:\n",
    "    print(\"{} -> \".format(mid), end=\"\")\n",
    "print(one_user.movieId.values[-1])"
   ]
  },
  {
   "cell_type": "code",
   "execution_count": 68,
   "metadata": {
    "collapsed": false
   },
   "outputs": [
    {
     "name": "stdout",
     "output_type": "stream",
     "text": [
      "1997\n"
     ]
    }
   ],
   "source": [
    "groups = good_ratings.sort_values('timestamp').groupby(\"userId\")\n",
    "max_length = groups.movieId.count().max()\n",
    "print(max_length)"
   ]
  },
  {
   "cell_type": "code",
   "execution_count": 69,
   "metadata": {
    "collapsed": true
   },
   "outputs": [],
   "source": [
    "train_data = []\n",
    "train_data = np.concatenate((train_data, \n",
    "                             groups\n",
    "                                .apply(\n",
    "                                    lambda x: np.concatenate(\n",
    "                                        (x.movieId.values.tolist(), \n",
    "                                         np.zeros(max_length - len(x.movieId.values.tolist())))\n",
    "                                        )\n",
    "                                    .reshape((-1, 1))\n",
    "                                    .tolist()\n",
    "                                )))\n",
    "train_data = train_data.tolist()"
   ]
  },
  {
   "cell_type": "code",
   "execution_count": 74,
   "metadata": {
    "collapsed": false
   },
   "outputs": [
    {
     "data": {
      "text/plain": [
       "[[2455.0],\n",
       " [3671.0],\n",
       " [1339.0],\n",
       " [1371.0],\n",
       " [2105.0],\n",
       " [31.0],\n",
       " [1029.0],\n",
       " [1061.0],\n",
       " [1953.0],\n",
       " [2150.0],\n",
       " [1172.0],\n",
       " [0.0],\n",
       " [0.0],\n",
       " [0.0],\n",
       " [0.0],\n",
       " [0.0],\n",
       " [0.0],\n",
       " [0.0],\n",
       " [0.0],\n",
       " [0.0]]"
      ]
     },
     "execution_count": 74,
     "metadata": {},
     "output_type": "execute_result"
    }
   ],
   "source": [
    "train_data[0][:20]"
   ]
  },
  {
   "cell_type": "code",
   "execution_count": 75,
   "metadata": {
    "collapsed": false
   },
   "outputs": [
    {
     "data": {
      "text/plain": [
       "[[592.0],\n",
       " [296.0],\n",
       " [590.0],\n",
       " [150.0],\n",
       " [588.0],\n",
       " [153.0],\n",
       " [165.0],\n",
       " [349.0],\n",
       " [292.0],\n",
       " [339.0],\n",
       " [10.0],\n",
       " [161.0],\n",
       " [457.0],\n",
       " [593.0],\n",
       " [253.0],\n",
       " [185.0],\n",
       " [208.0],\n",
       " [300.0],\n",
       " [110.0],\n",
       " [410.0]]"
      ]
     },
     "execution_count": 75,
     "metadata": {},
     "output_type": "execute_result"
    }
   ],
   "source": [
    "train_data[1][:20]"
   ]
  },
  {
   "cell_type": "markdown",
   "metadata": {},
   "source": [
    "## Split data into 3 part\n",
    "<hr>\n",
    "Now, we split the data into 3 parts, to make mini-batches, so as to learn faster."
   ]
  },
  {
   "cell_type": "code",
   "execution_count": 76,
   "metadata": {
    "collapsed": true
   },
   "outputs": [],
   "source": [
    "d1x, d2x, d3x = pd.split_into_mini_batches(data=train_data, parts=3)"
   ]
  },
  {
   "cell_type": "code",
   "execution_count": 81,
   "metadata": {
    "collapsed": false
   },
   "outputs": [
    {
     "data": {
      "text/plain": [
       "(array([   1,    5,   12,   23,   44,   75,   82,  118,  122,  163,  219,\n",
       "         247,  251,  311, 1774]),\n",
       " array([   4,   14,   32,  137,  143,  151,  157,  174,  227,  293,  440,\n",
       "         550, 1797, 2776, 2946]),\n",
       " array([   6,   50,   59,  162,  238,  239,  242,  602,  780, 1069, 1538,\n",
       "        1633, 1805, 2053, 3026]))"
      ]
     },
     "execution_count": 81,
     "metadata": {},
     "output_type": "execute_result"
    }
   ],
   "source": [
    "d1x[:15], d2x[:15], d3x[:15]"
   ]
  },
  {
   "cell_type": "markdown",
   "metadata": {},
   "source": [
    "## Defining `y` for data \n",
    "<hr>\n",
    "\n",
    "<table>\n",
    "    <tr>\n",
    "        <th>X</th>\n",
    "        <td>0</td>\n",
    "        <td>1</td>\n",
    "        <td>2</td>\n",
    "        <td>3</td>\n",
    "        <td>4</td>\n",
    "        <td>5</td>\n",
    "        <td>6</td>\n",
    "        <td>7</td>\n",
    "        <td>8</td>\n",
    "        <td>9</td>\n",
    "    <tr>\n",
    "        <th>y</th>\n",
    "        <td>1</td>\n",
    "        <td>2</td>\n",
    "        <td>3</td>\n",
    "        <td>4</td>\n",
    "        <td>5</td>\n",
    "        <td>6</td>\n",
    "        <td>7</td>\n",
    "        <td>8</td>\n",
    "        <td>9</td>\n",
    "        <td>0</td>\n",
    "    </tr>\n",
    "</table>"
   ]
  },
  {
   "cell_type": "code",
   "execution_count": 84,
   "metadata": {
    "collapsed": true
   },
   "outputs": [],
   "source": [
    "d1y = np.append(d1x[1:], d1x[0])\n",
    "d2y = np.append(d2x[1:], d2x[0])\n",
    "d3y = np.append(d3x[1:], d3x[0])"
   ]
  },
  {
   "cell_type": "code",
   "execution_count": 85,
   "metadata": {
    "collapsed": false
   },
   "outputs": [
    {
     "data": {
      "text/plain": [
       "(array([  1,   5,  12,  23,  44,  75,  82, 118, 122, 163]),\n",
       " array([  5,  12,  23,  44,  75,  82, 118, 122, 163, 219]))"
      ]
     },
     "execution_count": 85,
     "metadata": {},
     "output_type": "execute_result"
    }
   ],
   "source": [
    "d1x[:10], d1y[:10]"
   ]
  },
  {
   "cell_type": "markdown",
   "metadata": {},
   "source": [
    "## Define RNN arch"
   ]
  },
  {
   "cell_type": "code",
   "execution_count": 102,
   "metadata": {
    "collapsed": false
   },
   "outputs": [],
   "source": [
    "d1x = d1x.reshape(d1x.shape[0], 1, 1)\n",
    "d2x = d2x.reshape(d2x.shape[0], 1, 1)\n",
    "d3x = d3x.reshape(d3x.shape[0], 1, 1)"
   ]
  },
  {
   "cell_type": "code",
   "execution_count": 90,
   "metadata": {
    "collapsed": false
   },
   "outputs": [
    {
     "name": "stdout",
     "output_type": "stream",
     "text": [
      "_________________________________________________________________\n",
      "Layer (type)                 Output Shape              Param #   \n",
      "=================================================================\n",
      "gru_1 (GRU)                  (1, 1, 50)                7800      \n",
      "_________________________________________________________________\n",
      "gru_2 (GRU)                  (1, 1, 100)               45300     \n",
      "_________________________________________________________________\n",
      "gru_3 (GRU)                  (1, 300)                  360900    \n",
      "_________________________________________________________________\n",
      "dense_1 (Dense)              (1, 1)                    301       \n",
      "=================================================================\n",
      "Total params: 414,301.0\n",
      "Trainable params: 414,301\n",
      "Non-trainable params: 0.0\n",
      "_________________________________________________________________\n"
     ]
    }
   ],
   "source": [
    "model = Sequential()\n",
    "model.add(GRU(50, batch_input_shape=(1, d1x.shape[1], d1x.shape[2]), \n",
    "               stateful=True, return_sequences=True))\n",
    "model.add(GRU(100, stateful=True, return_sequences=True))\n",
    "model.add(GRU(300, stateful=True))\n",
    "model.add(Dense(1))\n",
    "model.compile(loss='mse', optimizer='rmsprop')\n",
    "model.summary()"
   ]
  },
  {
   "cell_type": "markdown",
   "metadata": {},
   "source": [
    "## Train batches"
   ]
  },
  {
   "cell_type": "code",
   "execution_count": 91,
   "metadata": {
    "collapsed": true
   },
   "outputs": [],
   "source": [
    "def train_helper(model, X, y, epochs, log_at, save_path):\n",
    "    loss_min = 10e10\n",
    "    loss_history, best_loss = [], []\n",
    "    for i in range(epochs + 1):\n",
    "        h = model.fit(X, y, epochs=1, batch_size=1, shuffle=False, verbose=0)\n",
    "        model.reset_states()\n",
    "        curr_loss = h.history['loss'][0]\n",
    "        if curr_loss < loss_min:\n",
    "            loss_min = curr_loss\n",
    "            model.save(save_path)\n",
    "        loss_history.append(curr_loss)\n",
    "        best_loss.append(loss_min)\n",
    "        if i % log_at == 0:\n",
    "            print(\"Epoch: {}, current_loss: {}, best_loss: {}\".format(i, curr_loss, loss_min))\n",
    "    return loss_history, best_loss"
   ]
  },
  {
   "cell_type": "code",
   "execution_count": null,
   "metadata": {
    "collapsed": true
   },
   "outputs": [],
   "source": [
    "d1x_loss = []"
   ]
  },
  {
   "cell_type": "code",
   "execution_count": 98,
   "metadata": {
    "collapsed": true
   },
   "outputs": [
    {
     "name": "stdout",
     "output_type": "stream",
     "text": [
      "Epoch: 0, current_loss: 75983.57189802329, best_loss: 75983.57189802329\n",
      "Epoch: 50, current_loss: 42082.6928785334, best_loss: 28517.068221028647\n",
      "Epoch: 100, current_loss: 33311.34630945921, best_loss: 23634.934136358897\n",
      "Epoch: 150, current_loss: 229968.40979819297, best_loss: 17137.719854680698\n",
      "Epoch: 200, current_loss: 17077.079322425525, best_loss: 15995.704264235497\n",
      "Epoch: 250, current_loss: 90937.87179400325, best_loss: 15002.509977229436\n",
      "Epoch: 300, current_loss: 58703.2655864122, best_loss: 15002.509977229436\n",
      "Epoch: 350, current_loss: 17854.080664855243, best_loss: 15002.509977229436\n",
      "Epoch: 400, current_loss: 13094.798267849286, best_loss: 13094.798267849286\n",
      "Epoch: 450, current_loss: 8943.683370693525, best_loss: 8943.683370693525\n",
      "Epoch: 500, current_loss: 164058.91725118956, best_loss: 7070.309858863552\n",
      "Epoch: 550, current_loss: 195059.471837457, best_loss: 7070.309858863552\n",
      "Epoch: 600, current_loss: 16295.754888979594, best_loss: 6781.789799114068\n",
      "Epoch: 650, current_loss: 27984.575769114494, best_loss: 6781.789799114068\n",
      "Epoch: 700, current_loss: 5241.4240418796735, best_loss: 4501.424926118056\n",
      "Epoch: 750, current_loss: 5441.938113510112, best_loss: 3605.138323015968\n",
      "Epoch: 800, current_loss: 2786.6754626790685, best_loss: 2786.6754626790685\n",
      "Epoch: 850, current_loss: 456769.4408374866, best_loss: 2220.843670512239\n",
      "Epoch: 900, current_loss: 70119.59235259276, best_loss: 2220.843670512239\n",
      "Epoch: 950, current_loss: 16619.55760138134, best_loss: 2220.843670512239\n",
      "Epoch: 1000, current_loss: 143487.85033157666, best_loss: 2220.843670512239\n",
      "Epoch: 1050, current_loss: 92066.87397834858, best_loss: 2220.843670512239\n",
      "Epoch: 1100, current_loss: 3037.0570715988674, best_loss: 2220.843670512239\n",
      "Epoch: 1150, current_loss: 15759.743861403067, best_loss: 1811.8830456614494\n",
      "Epoch: 1200, current_loss: 325082.59523442585, best_loss: 1709.6602940281232\n",
      "Epoch: 1250, current_loss: 1911.1367717266082, best_loss: 1373.893423853318\n",
      "Epoch: 1300, current_loss: 688.6157625183463, best_loss: 688.6157625183463\n",
      "Epoch: 1350, current_loss: 505.5928410689036, best_loss: 505.5928410689036\n",
      "Epoch: 1400, current_loss: 194890.52912165126, best_loss: 341.58929347991943\n",
      "Epoch: 1450, current_loss: 356.60908631483716, best_loss: 199.83772238194942\n",
      "Epoch: 1500, current_loss: 144.02712066372234, best_loss: 68.34320461743822\n",
      "Epoch: 1550, current_loss: 324.86610208153724, best_loss: 25.38735666818296\n",
      "Epoch: 1600, current_loss: 1534.1452469433348, best_loss: 21.393904313460613\n",
      "Epoch: 1650, current_loss: 61.53178688486417, best_loss: 21.393904313460613\n",
      "Epoch: 1700, current_loss: 37.11643346349398, best_loss: 11.92901200056076\n",
      "Epoch: 1750, current_loss: 21.94913327639612, best_loss: 5.863263178120056\n",
      "Epoch: 1800, current_loss: 870.3714431046548, best_loss: 5.863263178120056\n",
      "Epoch: 1850, current_loss: 227856.08648872375, best_loss: 4.717698333187339\n",
      "Epoch: 1900, current_loss: 36.71865727752447, best_loss: 4.512061706682046\n",
      "Epoch: 1950, current_loss: 208.83572046111027, best_loss: 4.512061706682046\n",
      "Epoch: 2000, current_loss: 18.45335395683845, best_loss: 4.512061706682046\n",
      "Epoch: 2050, current_loss: 33.94296113799016, best_loss: 4.512061706682046\n",
      "Epoch: 2100, current_loss: 67.19646634409825, best_loss: 4.512061706682046\n",
      "Epoch: 2150, current_loss: 227.7699606137971, best_loss: 4.512061706682046\n",
      "Epoch: 2200, current_loss: 1119.474797564745, best_loss: 4.512061706682046\n",
      "Epoch: 2250, current_loss: 186.0162826061249, best_loss: 4.512061706682046\n",
      "Epoch: 2300, current_loss: 103368.1995811224, best_loss: 3.560896265072127\n",
      "Epoch: 2350, current_loss: 218.47546560168266, best_loss: 3.560896265072127\n",
      "Epoch: 2400, current_loss: 1580.9611922423044, best_loss: 3.560896265072127\n",
      "Epoch: 2450, current_loss: 252426.50418729367, best_loss: 3.560896265072127\n",
      "Epoch: 2500, current_loss: 38072.688456385586, best_loss: 3.560896265072127\n"
     ]
    }
   ],
   "source": [
    "d1x_loss.extend(train_helper(model=model, X=d1x, y=d1y, epochs=2500, log_at=50, save_path=\"../models/03_arch_d1x\"))"
   ]
  },
  {
   "cell_type": "code",
   "execution_count": 99,
   "metadata": {
    "collapsed": false
   },
   "outputs": [
    {
     "data": {
      "text/plain": [
       "<matplotlib.axes._subplots.AxesSubplot at 0x7fb49c370fd0>"
      ]
     },
     "execution_count": 99,
     "metadata": {},
     "output_type": "execute_result"
    },
    {
     "data": {
      "image/png": "[encoded data removed]",
      "text/plain": [
       "<matplotlib.figure.Figure at 0x7fb49c39d400>"
      ]
     },
     "metadata": {},
     "output_type": "display_data"
    }
   ],
   "source": [
    "pd.Series(d1x_loss).plot()"
   ]
  },
  {
   "cell_type": "code",
   "execution_count": 103,
   "metadata": {
    "collapsed": false
   },
   "outputs": [
    {
     "name": "stdout",
     "output_type": "stream",
     "text": [
      "Epoch: 0, current_loss: 1941775.1653747559, best_loss: 1941775.1653747559\n",
      "Epoch: 100, current_loss: 143792.79801282883, best_loss: 134930.7893175761\n",
      "Epoch: 200, current_loss: 117413.4115865181, best_loss: 117211.94766669671\n",
      "Epoch: 300, current_loss: 367134.04100644606, best_loss: 92489.49698757852\n",
      "Epoch: 400, current_loss: 622176.3802342336, best_loss: 71146.72282031979\n",
      "Epoch: 500, current_loss: 55704.38147269885, best_loss: 55405.2978009065\n",
      "Epoch: 600, current_loss: 580032.9168052654, best_loss: 44043.328263154624\n",
      "Epoch: 700, current_loss: 103983.64175868829, best_loss: 27750.408755811553\n",
      "Epoch: 800, current_loss: 580511.6022669707, best_loss: 24234.369802034165\n",
      "Epoch: 900, current_loss: 13298.69968989889, best_loss: 13298.69968989889\n",
      "Epoch: 1000, current_loss: 7976.3992061297095, best_loss: 7728.707488904397\n",
      "Epoch: 1100, current_loss: 488987.31438494025, best_loss: 4764.267130880555\n",
      "Epoch: 1200, current_loss: 3625.956528568268, best_loss: 3625.956528568268\n",
      "Epoch: 1300, current_loss: 580224.0871646086, best_loss: 2217.69973971049\n",
      "Epoch: 1400, current_loss: 260803.9840294838, best_loss: 2217.69973971049\n",
      "Epoch: 1500, current_loss: 570475.8063224157, best_loss: 1841.046246520678\n",
      "Epoch: 1600, current_loss: 120769.98581736187, best_loss: 1393.1991069973135\n",
      "Epoch: 1700, current_loss: 400287.92433544, best_loss: 451.18159830694395\n",
      "Epoch: 1800, current_loss: 417.2864379962285, best_loss: 129.80264977614084\n",
      "Epoch: 1900, current_loss: 422327.40434939065, best_loss: 79.56825749476751\n",
      "Epoch: 2000, current_loss: 59.109392283360165, best_loss: 46.38424192667007\n",
      "Epoch: 2100, current_loss: 51.046270889788865, best_loss: 9.84013085886836\n",
      "Epoch: 2200, current_loss: 181.65686954210202, best_loss: 9.84013085886836\n",
      "Epoch: 2300, current_loss: 77968.13296658198, best_loss: 9.84013085886836\n",
      "Epoch: 2400, current_loss: 102352.43100815614, best_loss: 9.84013085886836\n",
      "Epoch: 2500, current_loss: 1517.3041958530744, best_loss: 9.84013085886836\n",
      "Epoch: 2600, current_loss: 563426.559398063, best_loss: 9.84013085886836\n",
      "Epoch: 2700, current_loss: 761.9400523980459, best_loss: 9.84013085886836\n",
      "Epoch: 2800, current_loss: 409.1837542772293, best_loss: 9.84013085886836\n",
      "Epoch: 2900, current_loss: 1203.178651078542, best_loss: 9.84013085886836\n",
      "Epoch: 3000, current_loss: 1944.2839916706084, best_loss: 9.84013085886836\n",
      "Epoch: 3100, current_loss: 61794.03528379202, best_loss: 9.84013085886836\n",
      "Epoch: 3200, current_loss: 96.59661828676859, best_loss: 9.84013085886836\n",
      "Epoch: 3300, current_loss: 17133.616956293583, best_loss: 9.84013085886836\n",
      "Epoch: 3400, current_loss: 20.10858963827292, best_loss: 9.84013085886836\n",
      "Epoch: 3500, current_loss: 14.505214223514, best_loss: 6.8528419212127725\n",
      "Epoch: 3600, current_loss: 7.557807749758164, best_loss: 3.6129349562029045\n",
      "Epoch: 3700, current_loss: 18.91691843966643, best_loss: 3.4496241291364034\n",
      "Epoch: 3800, current_loss: 9.625675713519255, best_loss: 3.4496241291364034\n",
      "Epoch: 3900, current_loss: 10.874055196469028, best_loss: 3.4496241291364034\n",
      "Epoch: 4000, current_loss: 14.46533872683843, best_loss: 2.251261393368865\n",
      "Epoch: 4100, current_loss: 7.20371653736244, best_loss: 2.251261393368865\n",
      "Epoch: 4200, current_loss: 17.26494101683299, best_loss: 1.3416886066397031\n",
      "Epoch: 4300, current_loss: 436.2705801010132, best_loss: 1.3416886066397031\n",
      "Epoch: 4400, current_loss: 1083591.073358806, best_loss: 0.6113552049423258\n",
      "Epoch: 4500, current_loss: 1130.5785941024621, best_loss: 0.6113552049423258\n",
      "Epoch: 4600, current_loss: 178.28614263534547, best_loss: 0.6113552049423258\n",
      "Epoch: 4700, current_loss: 36.07761662655587, best_loss: 0.6113552049423258\n",
      "Epoch: 4800, current_loss: 254.8100780089696, best_loss: 0.6113552049423258\n",
      "Epoch: 4900, current_loss: 28.339397341012955, best_loss: 0.6113552049423258\n",
      "Epoch: 5000, current_loss: 19.28145195543766, best_loss: 0.6113552049423258\n"
     ]
    },
    {
     "ename": "ValueError",
     "evalue": "too many values to unpack (expected 2)",
     "output_type": "error",
     "traceback": [
      "\u001b[0;31m---------------------------------------------------------------------------\u001b[0m",
      "\u001b[0;31mValueError\u001b[0m                                Traceback (most recent call last)",
      "\u001b[0;32m<ipython-input-103-f451fc688999>\u001b[0m in \u001b[0;36m<module>\u001b[0;34m()\u001b[0m\n\u001b[1;32m      1\u001b[0m \u001b[0md2x_loss\u001b[0m\u001b[0;34m,\u001b[0m \u001b[0md2x_best_loss\u001b[0m \u001b[0;34m=\u001b[0m \u001b[0;34m[\u001b[0m\u001b[0;34m]\u001b[0m\u001b[0;34m,\u001b[0m \u001b[0;34m[\u001b[0m\u001b[0;34m]\u001b[0m\u001b[0;34m\u001b[0m\u001b[0m\n\u001b[0;32m----> 2\u001b[0;31m \u001b[0ml\u001b[0m\u001b[0;34m,\u001b[0m \u001b[0mbl\u001b[0m \u001b[0;34m=\u001b[0m \u001b[0mtrain_helper\u001b[0m\u001b[0;34m(\u001b[0m\u001b[0mmodel\u001b[0m\u001b[0;34m=\u001b[0m\u001b[0mmodel\u001b[0m\u001b[0;34m,\u001b[0m \u001b[0mX\u001b[0m\u001b[0;34m=\u001b[0m\u001b[0md2x\u001b[0m\u001b[0;34m,\u001b[0m \u001b[0my\u001b[0m\u001b[0;34m=\u001b[0m\u001b[0md2y\u001b[0m\u001b[0;34m,\u001b[0m \u001b[0mepochs\u001b[0m\u001b[0;34m=\u001b[0m\u001b[0;36m5000\u001b[0m\u001b[0;34m,\u001b[0m \u001b[0mlog_at\u001b[0m\u001b[0;34m=\u001b[0m\u001b[0;36m100\u001b[0m\u001b[0;34m,\u001b[0m \u001b[0msave_path\u001b[0m\u001b[0;34m=\u001b[0m\u001b[0;34m\"../models/03_arch_d(12)x\"\u001b[0m\u001b[0;34m)\u001b[0m\u001b[0;34m\u001b[0m\u001b[0m\n\u001b[0m\u001b[1;32m      3\u001b[0m \u001b[0md2x_loss\u001b[0m\u001b[0;34m.\u001b[0m\u001b[0mextend\u001b[0m\u001b[0;34m(\u001b[0m\u001b[0ml\u001b[0m\u001b[0;34m)\u001b[0m\u001b[0;34m\u001b[0m\u001b[0m\n\u001b[1;32m      4\u001b[0m \u001b[0md2x_best_loss\u001b[0m\u001b[0;34m.\u001b[0m\u001b[0mextend\u001b[0m\u001b[0;34m(\u001b[0m\u001b[0mbl\u001b[0m\u001b[0;34m)\u001b[0m\u001b[0;34m\u001b[0m\u001b[0m\n",
      "\u001b[0;31mValueError\u001b[0m: too many values to unpack (expected 2)"
     ]
    }
   ],
   "source": [
    "d2x_loss, d2x_best_loss = [], []\n",
    "l, bl = train_helper(model=model, X=d2x, y=d2y, epochs=5000, log_at=100, save_path=\"../models/03_arch_d(12)x\")\n",
    "d2x_loss.extend(l)\n",
    "d2x_best_loss.extend(bl)"
   ]
  },
  {
   "cell_type": "code",
   "execution_count": 105,
   "metadata": {
    "collapsed": true
   },
   "outputs": [],
   "source": [
    "from keras.models import load_model"
   ]
  },
  {
   "cell_type": "code",
   "execution_count": 112,
   "metadata": {
    "collapsed": true
   },
   "outputs": [],
   "source": [
    "model = load_model(\"../models/03c_d2_model\")"
   ]
  },
  {
   "cell_type": "code",
   "execution_count": 113,
   "metadata": {
    "collapsed": false
   },
   "outputs": [
    {
     "data": {
      "text/plain": [
       "array([[  13.97253418],\n",
       "       [  31.26633072],\n",
       "       [ 136.77227783],\n",
       "       [ 142.64790344],\n",
       "       [ 150.67861938],\n",
       "       [ 156.82058716],\n",
       "       [ 173.71002197],\n",
       "       [ 226.90032959],\n",
       "       [ 292.96325684],\n",
       "       [   3.65987277],\n",
       "       [  83.32308197],\n",
       "       [  78.31207275],\n",
       "       [  83.35202026],\n",
       "       [  80.6697998 ],\n",
       "       [  87.53203583]], dtype=float32)"
      ]
     },
     "execution_count": 113,
     "metadata": {},
     "output_type": "execute_result"
    }
   ],
   "source": [
    "model.predict(d2x, batch_size=1)"
   ]
  },
  {
   "cell_type": "code",
   "execution_count": 111,
   "metadata": {
    "collapsed": false
   },
   "outputs": [
    {
     "data": {
      "text/plain": [
       "array([  14,   32,  137,  143,  151,  157,  174,  227,  293,  440,  550,\n",
       "       1797, 2776, 2946,    4])"
      ]
     },
     "execution_count": 111,
     "metadata": {},
     "output_type": "execute_result"
    }
   ],
   "source": [
    "d2y"
   ]
  },
  {
   "cell_type": "code",
   "execution_count": null,
   "metadata": {
    "collapsed": true
   },
   "outputs": [],
   "source": []
  }
 ],
 "metadata": {
  "kernelspec": {
   "display_name": "Python 3",
   "language": "python",
   "name": "python3"
  },
  "language_info": {
   "codemirror_mode": {
    "name": "ipython",
    "version": 3
   },
   "file_extension": ".py",
   "mimetype": "text/x-python",
   "name": "python",
   "nbconvert_exporter": "python",
   "pygments_lexer": "ipython3",
   "version": "3.6.0"
  }
 },
 "nbformat": 4,
 "nbformat_minor": 2
}
